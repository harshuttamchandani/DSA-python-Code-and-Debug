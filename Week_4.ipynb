{
 "cells": [
  {
   "cell_type": "code",
   "execution_count": 13,
   "id": "b133c54c",
   "metadata": {},
   "outputs": [
    {
     "name": "stdout",
     "output_type": "stream",
     "text": [
      "[1, 2, 3, 1, 3, 4]\n",
      "[1, 2, 3, 1, 2, 3, 1, 2, 3, 1, 2, 3, 1, 2, 3]\n",
      "[0, 0, 0, 0, 0, 0, 0, 0, 0, 0]\n"
     ]
    }
   ],
   "source": [
    "#Lists operations\n",
    "\n",
    "lst1=[1,2,3]\n",
    "lst2=[1,3,4]\n",
    "#add \n",
    "res=lst1+lst2\n",
    "print(res)\n",
    "#add a no\n",
    "#res2=lst1+5 #can only concatenate list (not \"int\") to list\n",
    "#res2=lst1-5 # unsupported operand type(s) for -: 'list' and 'int'\n",
    "#res2=lst1/5 #unsupported operand type(s) for /: 'list' and 'int'\n",
    "res2=lst1*5 #can be done har cheez baar 5 times repeat\n",
    "#make a list jaha mein sab 0 10 times\n",
    "lst=[0]*10\n",
    "#multiply list to a list\n",
    "#print(lst1*lst2) #error,can't multiply sequence by non-int of type 'list'\n",
    "print(res2)\n",
    "print(lst)"
   ]
  },
  {
   "cell_type": "code",
   "execution_count": 18,
   "id": "b8bb78b7",
   "metadata": {},
   "outputs": [
    {
     "name": "stdout",
     "output_type": "stream",
     "text": [
      "55\n",
      "4374110144\n",
      "4374110144\n",
      "<class 'list'>\n",
      "4303055768\n",
      "<class 'int'>\n"
     ]
    }
   ],
   "source": [
    "#updating list\n",
    "#overwrite here\n",
    "\n",
    "my_list=[10,5,'harsh'] #list\n",
    "my_list=55 #overwrite not update #int ; data type hi change kardiya \n",
    "print(my_list)\n",
    "\n",
    "my_list=[10,5,'harsh']\n",
    "#ids of lists\n",
    "print(id(my_list)) #ek id hoti hai uss location ki throughout waise\n",
    "print(id(my_list)) #same aayegi\n",
    "print(type(my_list))\n",
    "my_list=55\n",
    "print(id(my_list))# value is changed that means new variablen hi create hogaya hai\n",
    "print(type(my_list))\n",
    "\n"
   ]
  },
  {
   "cell_type": "code",
   "execution_count": 21,
   "id": "04a86f0a",
   "metadata": {},
   "outputs": [
    {
     "name": "stdout",
     "output_type": "stream",
     "text": [
      "[10, 5]\n",
      "['harsh', 'harsh2']\n"
     ]
    }
   ],
   "source": [
    "#annotations sirf dikhane ke liye\n",
    "my_list:list=[10,5,'harsh'] #list with any thing\n",
    "my_list:list[int]=[10,5]\n",
    "print(my_list)\n",
    "\n",
    "# other way ; leetcode use karta hai ; module ka use\n",
    "from typing import List #list ;tuple; dictionary teeno import ; rem capital L List mein\n",
    "\n",
    "lst1:List[str]=['harsh','harsh2']\n",
    "print(lst1)\n",
    "\n"
   ]
  },
  {
   "cell_type": "code",
   "execution_count": 24,
   "id": "e40c83be",
   "metadata": {},
   "outputs": [
    {
     "name": "stdout",
     "output_type": "stream",
     "text": [
      "[10, 5, 'harsh']\n",
      "4372913856\n",
      "[100, 5, 'harsh']\n",
      "4372913856\n"
     ]
    }
   ],
   "source": [
    "#updating\n",
    "\n",
    "my_list=[10,5,'harsh']\n",
    "print(my_list)\n",
    "print(id(my_list))\n",
    "my_list[0]=100\n",
    "print(my_list)\n",
    "print(id(my_list)) #id remains same\n"
   ]
  },
  {
   "cell_type": "code",
   "execution_count": 27,
   "id": "d7f8f41d",
   "metadata": {},
   "outputs": [
    {
     "name": "stdout",
     "output_type": "stream",
     "text": [
      "[10, 5, 9, 10, 11, 3, 4]\n",
      "[0, 1, 1, 0, 1, 1, 0]\n"
     ]
    }
   ],
   "source": [
    "# even ko 0 odd ko 1 in a list ; similarly position ke liye a[i]%2==0 ki jagah i%2==0\n",
    "my_list=[10,5,9,10,11,3,4]\n",
    "print(my_list)\n",
    "\n",
    "for i in range(0,len(my_list)):\n",
    "    if(my_list[i]%2==0):\n",
    "        my_list[i]=0\n",
    "    else:\n",
    "        my_list[i]=1\n",
    "\n",
    "print(my_list)"
   ]
  },
  {
   "cell_type": "code",
   "execution_count": 28,
   "id": "b9c47e1f",
   "metadata": {},
   "outputs": [
    {
     "name": "stdout",
     "output_type": "stream",
     "text": [
      "1 1\n"
     ]
    }
   ],
   "source": [
    "#pass_by_reference\n",
    "\n",
    "def change(a,b):\n",
    "    a=100\n",
    "    b=100\n",
    "\n",
    "a=1\n",
    "b=1\n",
    "change(a,b)\n",
    "print(a,b)\n",
    "\n",
    "#pass by value ;farak nahi padega usmein\n",
    "#int; FLOAT;strings are pass by value"
   ]
  },
  {
   "cell_type": "code",
   "execution_count": 31,
   "id": "dbf2a50a",
   "metadata": {},
   "outputs": [
    {
     "name": "stdout",
     "output_type": "stream",
     "text": [
      "[100, 5, 2]\n"
     ]
    }
   ],
   "source": [
    "from typing import List\n",
    "\n",
    "def change(my_list:list):\n",
    "    my_list[0]=100\n",
    "\n",
    "xyz=[2,5,2]\n",
    "change(xyz)\n",
    "print(xyz)\n",
    "\n",
    "#pass by refernce hota hai\n",
    "#mutable mein-: list\n",
    "#xyz sends address apna my list and xyz pointing towards same ; id will be same\n"
   ]
  },
  {
   "cell_type": "code",
   "execution_count": 50,
   "id": "15eb9904",
   "metadata": {},
   "outputs": [
    {
     "name": "stdout",
     "output_type": "stream",
     "text": [
      "[2, 5, 2, 100]\n",
      "[-90, 2, 5, 2, 100]\n",
      "[-90, 2, 5, 92, 2, 100]\n",
      "[-90, 2, 5, 92, 2, 100, 22]\n",
      "[-90, 2, 5, 92, 2, 'harsh', 100, 22]\n",
      "[]\n"
     ]
    }
   ],
   "source": [
    "#methods ; specific data types ke saath\n",
    "#lists ke liye => \n",
    "\n",
    "#append;end mein daalna\n",
    "\n",
    "xyz=[2,5,2]\n",
    "xyz.append(100)\n",
    "print(xyz)\n",
    "\n",
    "#insert-: in btw daalna\n",
    "\n",
    "xyz.insert(0,-90)\n",
    "print(xyz)\n",
    "\n",
    "xyz.insert(3,92) #shift karega \n",
    "print(xyz)\n",
    "\n",
    "xyz.insert(10,22) #bahar toh end mein\n",
    "print(xyz)\n",
    "\n",
    "xyz.insert(-2,'harsh')\n",
    "print(xyz)\n",
    "\n",
    "\n",
    "\n",
    "#clear\n",
    "xyz.clear()#list empty\n",
    "print(xyz)\n",
    "\n",
    "#count (no of occurence ka value return)\n",
    "\n"
   ]
  },
  {
   "cell_type": "code",
   "execution_count": 62,
   "id": "beb40587",
   "metadata": {},
   "outputs": [
    {
     "name": "stdout",
     "output_type": "stream",
     "text": [
      "2\n",
      "[2, 5, 2, 100, [2, 3, 4]]\n",
      "[2, 5, 2, 100, [2, 3, 4], 2, 3, 4]\n",
      "[4, 3, 2, [2, 3, 4], 100, 2, 5, 2]\n",
      "[12, 19, 23, 43, 54, 82, 89]\n",
      "[89, 82, 54, 43, 23, 19, 12]\n",
      "[89, 82, 54, 43, 23, 19, 12]\n",
      "['banana', 'harsh', 'uttam']\n"
     ]
    }
   ],
   "source": [
    "xyz=[2,5,2]\n",
    "\n",
    "print(xyz.count(2)) \n",
    "\n",
    "xyz.append(100)\n",
    "xyz.append([2,3,4]) #list ke andar list\n",
    "print(xyz) \n",
    "xyz.extend([2,3,4]) #list ke andar just extend karta hai ; iterable hai list hai ; \n",
    "# + operator jaise but + se tuple nahi kar payenge extend se karta hai\n",
    "print(xyz)\n",
    "\n",
    "xyz.reverse() #ulta kardenge poora\n",
    "print(xyz)\n",
    "\n",
    "#xyz.sort() #error dega if string ya list ho toh ; sab integer ya \n",
    "#print(xyz)\n",
    "\n",
    "#sort\n",
    "abc=[43,89,19,82,54,23,12]\n",
    "abc.sort()\n",
    "print(abc)\n",
    "\n",
    "abc=[43,89,19,82,54,23,12]\n",
    "abc.sort(reverse=True) #for descending\n",
    "print(abc)\n",
    "\n",
    "#another way\n",
    "abc=[43,89,19,82,54,23,12]\n",
    "abc.sort() \n",
    "abc.reverse()\n",
    "print(abc)\n",
    "\n",
    "temp=['harsh','uttam','banana'] #sorts using ascii values\n",
    "temp.sort()\n",
    "print(temp)"
   ]
  },
  {
   "cell_type": "code",
   "execution_count": 74,
   "id": "becf4c32",
   "metadata": {},
   "outputs": [
    {
     "name": "stdout",
     "output_type": "stream",
     "text": [
      "[43, 89, 19, 82, 54, 23]\n",
      "[43, 89, 19, 54, 23]\n",
      "[43, 89, 54, 23]\n",
      "[43, 54, 23]\n"
     ]
    }
   ],
   "source": [
    "# pop,remove,index \n",
    "\n",
    "# pop karte hai woh nikalta hai woh saath mein return bhi karta hai\n",
    "abc=[43,89,19,82,54,23,12]\n",
    "abc.pop() #last wala pop kardega\n",
    "print(abc)\n",
    "abc.pop(3)#remove by index\n",
    "print(abc)\n",
    "#abc.pop(45) #index error\n",
    "\n",
    "#remove by value karta hai\n",
    "abc.remove(19) #removes the first occurance ;doesn't return anything\n",
    "print(abc)\n",
    "\n",
    "\n",
    "#del -:kisi mein bhi(dict etc) by pos ; not method ; function\n",
    "del abc[1]\n",
    "print(abc)\n",
    "#del abc # ab poora list delete\n",
    "#print(abc) #NameError: name 'abc' is not defined\n"
   ]
  },
  {
   "cell_type": "code",
   "execution_count": null,
   "id": "aaf1e099",
   "metadata": {},
   "outputs": [],
   "source": []
  }
 ],
 "metadata": {
  "kernelspec": {
   "display_name": "Python 3 (ipykernel)",
   "language": "python",
   "name": "python3"
  },
  "language_info": {
   "codemirror_mode": {
    "name": "ipython",
    "version": 3
   },
   "file_extension": ".py",
   "mimetype": "text/x-python",
   "name": "python",
   "nbconvert_exporter": "python",
   "pygments_lexer": "ipython3",
   "version": "3.11.5"
  }
 },
 "nbformat": 4,
 "nbformat_minor": 5
}
