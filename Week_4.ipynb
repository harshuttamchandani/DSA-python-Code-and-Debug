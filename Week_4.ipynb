{
 "cells": [
  {
   "cell_type": "code",
   "execution_count": 13,
   "id": "b133c54c",
   "metadata": {},
   "outputs": [
    {
     "name": "stdout",
     "output_type": "stream",
     "text": [
      "[1, 2, 3, 1, 3, 4]\n",
      "[1, 2, 3, 1, 2, 3, 1, 2, 3, 1, 2, 3, 1, 2, 3]\n",
      "[0, 0, 0, 0, 0, 0, 0, 0, 0, 0]\n"
     ]
    }
   ],
   "source": [
    "#Lists operations\n",
    "\n",
    "lst1=[1,2,3]\n",
    "lst2=[1,3,4]\n",
    "#add \n",
    "res=lst1+lst2\n",
    "print(res)\n",
    "#add a no\n",
    "#res2=lst1+5 #can only concatenate list (not \"int\") to list\n",
    "#res2=lst1-5 # unsupported operand type(s) for -: 'list' and 'int'\n",
    "#res2=lst1/5 #unsupported operand type(s) for /: 'list' and 'int'\n",
    "res2=lst1*5 #can be done har cheez baar 5 times repeat\n",
    "#make a list jaha mein sab 0 10 times\n",
    "lst=[0]*10\n",
    "#multiply list to a list\n",
    "#print(lst1*lst2) #error,can't multiply sequence by non-int of type 'list'\n",
    "print(res2)\n",
    "print(lst)"
   ]
  },
  {
   "cell_type": "code",
   "execution_count": 18,
   "id": "b8bb78b7",
   "metadata": {},
   "outputs": [
    {
     "name": "stdout",
     "output_type": "stream",
     "text": [
      "55\n",
      "4374110144\n",
      "4374110144\n",
      "<class 'list'>\n",
      "4303055768\n",
      "<class 'int'>\n"
     ]
    }
   ],
   "source": [
    "#updating list\n",
    "#overwrite here\n",
    "\n",
    "my_list=[10,5,'harsh'] #list\n",
    "my_list=55 #overwrite not update #int ; data type hi change kardiya \n",
    "print(my_list)\n",
    "\n",
    "my_list=[10,5,'harsh']\n",
    "#ids of lists\n",
    "print(id(my_list)) #ek id hoti hai uss location ki throughout waise\n",
    "print(id(my_list)) #same aayegi\n",
    "print(type(my_list))\n",
    "my_list=55\n",
    "print(id(my_list))# value is changed that means new variablen hi create hogaya hai\n",
    "print(type(my_list))\n",
    "\n"
   ]
  },
  {
   "cell_type": "code",
   "execution_count": 21,
   "id": "04a86f0a",
   "metadata": {},
   "outputs": [
    {
     "name": "stdout",
     "output_type": "stream",
     "text": [
      "[10, 5]\n",
      "['harsh', 'harsh2']\n"
     ]
    }
   ],
   "source": [
    "#annotations sirf dikhane ke liye\n",
    "my_list:list=[10,5,'harsh'] #list with any thing\n",
    "my_list:list[int]=[10,5]\n",
    "print(my_list)\n",
    "\n",
    "# other way ; leetcode use karta hai ; module ka use\n",
    "from typing import List #list ;tuple; dictionary teeno import ; rem capital L List mein\n",
    "\n",
    "lst1:List[str]=['harsh','harsh2']\n",
    "print(lst1)\n",
    "\n"
   ]
  },
  {
   "cell_type": "code",
   "execution_count": 24,
   "id": "b2c25482",
   "metadata": {},
   "outputs": [
    {
     "name": "stdout",
     "output_type": "stream",
     "text": [
      "[10, 5, 'harsh']\n",
      "4372913856\n",
      "[100, 5, 'harsh']\n",
      "4372913856\n"
     ]
    }
   ],
   "source": [
    "#updating\n",
    "\n",
    "my_list=[10,5,'harsh']\n",
    "print(my_list)\n",
    "print(id(my_list))\n",
    "my_list[0]=100\n",
    "print(my_list)\n",
    "print(id(my_list)) #id remains same\n"
   ]
  },
  {
   "cell_type": "code",
   "execution_count": 27,
   "id": "a23ae2a9",
   "metadata": {},
   "outputs": [
    {
     "name": "stdout",
     "output_type": "stream",
     "text": [
      "[10, 5, 9, 10, 11, 3, 4]\n",
      "[0, 1, 1, 0, 1, 1, 0]\n"
     ]
    }
   ],
   "source": [
    "# even ko 0 odd ko 1 in a list ; similarly position ke liye a[i]%2==0 ki jagah i%2==0\n",
    "my_list=[10,5,9,10,11,3,4]\n",
    "print(my_list)\n",
    "\n",
    "for i in range(0,len(my_list)):\n",
    "    if(my_list[i]%2==0):\n",
    "        my_list[i]=0\n",
    "    else:\n",
    "        my_list[i]=1\n",
    "\n",
    "print(my_list)"
   ]
  },
  {
   "cell_type": "code",
   "execution_count": 28,
   "id": "f3fc5709",
   "metadata": {},
   "outputs": [
    {
     "name": "stdout",
     "output_type": "stream",
     "text": [
      "1 1\n"
     ]
    }
   ],
   "source": [
    "#pass_by_reference\n",
    "\n",
    "def change(a,b):\n",
    "    a=100\n",
    "    b=100\n",
    "\n",
    "a=1\n",
    "b=1\n",
    "change(a,b)\n",
    "print(a,b)\n",
    "\n",
    "#pass by value ;farak nahi padega usmein\n",
    "#int; FLOAT;strings are pass by value"
   ]
  },
  {
   "cell_type": "code",
   "execution_count": 31,
   "id": "b2067261",
   "metadata": {},
   "outputs": [
    {
     "name": "stdout",
     "output_type": "stream",
     "text": [
      "[100, 5, 2]\n"
     ]
    }
   ],
   "source": [
    "from typing import List\n",
    "\n",
    "def change(my_list:list):\n",
    "    my_list[0]=100\n",
    "\n",
    "xyz=[2,5,2]\n",
    "change(xyz)\n",
    "print(xyz)\n",
    "\n",
    "#pass by refernce hota hai\n",
    "#mutable mein-: list\n",
    "#xyz sends address apna my list and xyz pointing towards same ; id will be same\n"
   ]
  },
  {
   "cell_type": "code",
   "execution_count": 50,
   "id": "e28e1939",
   "metadata": {},
   "outputs": [
    {
     "name": "stdout",
     "output_type": "stream",
     "text": [
      "[2, 5, 2, 100]\n",
      "[-90, 2, 5, 2, 100]\n",
      "[-90, 2, 5, 92, 2, 100]\n",
      "[-90, 2, 5, 92, 2, 100, 22]\n",
      "[-90, 2, 5, 92, 2, 'harsh', 100, 22]\n",
      "[]\n"
     ]
    }
   ],
   "source": [
    "#methods ; specific data types ke saath\n",
    "#lists ke liye => \n",
    "\n",
    "#append;end mein daalna\n",
    "\n",
    "xyz=[2,5,2]\n",
    "xyz.append(100)\n",
    "print(xyz)\n",
    "\n",
    "#insert-: in btw daalna\n",
    "\n",
    "xyz.insert(0,-90)\n",
    "print(xyz)\n",
    "\n",
    "xyz.insert(3,92) #shift karega \n",
    "print(xyz)\n",
    "\n",
    "xyz.insert(10,22) #bahar toh end mein\n",
    "print(xyz)\n",
    "\n",
    "xyz.insert(-2,'harsh')\n",
    "print(xyz)\n",
    "\n",
    "\n",
    "\n",
    "#clear\n",
    "xyz.clear()#list empty\n",
    "print(xyz)\n",
    "\n",
    "#count (no of occurence ka value return)\n",
    "\n"
   ]
  },
  {
   "cell_type": "code",
   "execution_count": 62,
   "id": "003d110d",
   "metadata": {},
   "outputs": [
    {
     "name": "stdout",
     "output_type": "stream",
     "text": [
      "2\n",
      "[2, 5, 2, 100, [2, 3, 4]]\n",
      "[2, 5, 2, 100, [2, 3, 4], 2, 3, 4]\n",
      "[4, 3, 2, [2, 3, 4], 100, 2, 5, 2]\n",
      "[12, 19, 23, 43, 54, 82, 89]\n",
      "[89, 82, 54, 43, 23, 19, 12]\n",
      "[89, 82, 54, 43, 23, 19, 12]\n",
      "['banana', 'harsh', 'uttam']\n"
     ]
    }
   ],
   "source": [
    "xyz=[2,5,2]\n",
    "\n",
    "print(xyz.count(2)) \n",
    "\n",
    "xyz.append(100)\n",
    "xyz.append([2,3,4]) #list ke andar list\n",
    "print(xyz) \n",
    "xyz.extend([2,3,4]) #list ke andar just extend karta hai ; iterable hai list hai ; \n",
    "# + operator jaise but + se tuple nahi kar payenge extend se karta hai\n",
    "print(xyz)\n",
    "\n",
    "xyz.reverse() #ulta kardenge poora\n",
    "print(xyz)\n",
    "\n",
    "#xyz.sort() #error dega if string ya list ho toh ; sab integer ya \n",
    "#print(xyz)\n",
    "\n",
    "#sort\n",
    "abc=[43,89,19,82,54,23,12]\n",
    "abc.sort()\n",
    "print(abc)\n",
    "\n",
    "abc=[43,89,19,82,54,23,12]\n",
    "abc.sort(reverse=True) #for descending\n",
    "print(abc)\n",
    "\n",
    "#another way\n",
    "abc=[43,89,19,82,54,23,12]\n",
    "abc.sort() \n",
    "abc.reverse()\n",
    "print(abc)\n",
    "\n",
    "temp=['harsh','uttam','banana'] #sorts using ascii values\n",
    "temp.sort()\n",
    "print(temp)"
   ]
  },
  {
   "cell_type": "code",
   "execution_count": 74,
   "id": "81815417",
   "metadata": {},
   "outputs": [
    {
     "name": "stdout",
     "output_type": "stream",
     "text": [
      "[43, 89, 19, 82, 54, 23]\n",
      "[43, 89, 19, 54, 23]\n",
      "[43, 89, 54, 23]\n",
      "[43, 54, 23]\n"
     ]
    }
   ],
   "source": [
    "# pop,remove,index \n",
    "\n",
    "# pop karte hai woh nikalta hai woh saath mein return bhi karta hai\n",
    "abc=[43,89,19,82,54,23,12]\n",
    "abc.pop() #last wala pop kardega\n",
    "print(abc)\n",
    "abc.pop(3)#remove by index\n",
    "print(abc)\n",
    "#abc.pop(45) #index error\n",
    "\n",
    "#remove by value karta hai\n",
    "abc.remove(19) #removes the first occurance ;doesn't return anything\n",
    "print(abc)\n",
    "\n",
    "\n",
    "#del -:kisi mein bhi(dict etc) by pos ; not method ; function\n",
    "del abc[1]\n",
    "print(abc)\n",
    "#del abc # ab poora list delete\n",
    "#print(abc) #NameError: name 'abc' is not defined\n"
   ]
  },
  {
   "cell_type": "markdown",
   "id": "c86d15d1",
   "metadata": {},
   "source": [
    "## assignment"
   ]
  },
  {
   "cell_type": "code",
   "execution_count": 77,
   "id": "c9bbaee9",
   "metadata": {},
   "outputs": [
    {
     "name": "stdout",
     "output_type": "stream",
     "text": [
      "[3, 5] [2, 4, 6, 8]\n"
     ]
    }
   ],
   "source": [
    "'''\n",
    "Make a list of your own. Make two more empty list like odd and even.\n",
    "Put all the even numbers from original list to even and odd numbers to odd and print both lists. \n",
    "(Don't remove anything from original one).\n",
    "'''\n",
    "\n",
    "l=[2,3,4,5,6,8]\n",
    "odd=[]\n",
    "eve=[]\n",
    "for i in l: #by value\n",
    "    if i%2==0:\n",
    "        eve.append(i)\n",
    "    else:\n",
    "        odd.append(i)\n",
    "print(odd,eve)"
   ]
  },
  {
   "cell_type": "code",
   "execution_count": 78,
   "id": "23b44a8d",
   "metadata": {},
   "outputs": [],
   "source": [
    "'''\n",
    "Q2. Write a function to remove duplicates from a list and print them.\n",
    "'''\n",
    "l=[2,3,4,5,6,8]"
   ]
  },
  {
   "cell_type": "code",
   "execution_count": null,
   "id": "56f091cc",
   "metadata": {},
   "outputs": [],
   "source": []
  },
  {
   "cell_type": "code",
   "execution_count": null,
   "id": "3be2d1be",
   "metadata": {},
   "outputs": [],
   "source": []
  },
  {
   "cell_type": "code",
   "execution_count": null,
   "id": "a5cea193",
   "metadata": {},
   "outputs": [],
   "source": []
  },
  {
   "cell_type": "markdown",
   "id": "dc82ebe8",
   "metadata": {},
   "source": [
    "## Day 2"
   ]
  },
  {
   "cell_type": "code",
   "execution_count": 89,
   "id": "34137f47",
   "metadata": {},
   "outputs": [
    {
     "name": "stdout",
     "output_type": "stream",
     "text": [
      "no\n",
      "True\n"
     ]
    }
   ],
   "source": [
    "#membership operators\n",
    "#in or not in\n",
    "\n",
    "l=[2,3,4,5,6,8]\n",
    "x=1\n",
    "y=2\n",
    "'''\n",
    "way 1\n",
    "for i in l:\n",
    "    if x==i:\n",
    "        print('yes')\n",
    "        break\n",
    "        \n",
    "'''\n",
    "\n",
    "'''\n",
    "way 2\n",
    "if l.count(x)>=1:\n",
    "    print('yes')\n",
    "'''\n",
    "#membership -: returns true ya false\n",
    "if x in l:\n",
    "    print(\"yes\")\n",
    "else:\n",
    "    print(\"no\")\n",
    "\n",
    "#ulta bhi\n",
    "if y not in l:\n",
    "    print(False)\n",
    "else:\n",
    "    print(True)"
   ]
  },
  {
   "cell_type": "code",
   "execution_count": 103,
   "id": "bb0efb0d",
   "metadata": {},
   "outputs": [
    {
     "name": "stdout",
     "output_type": "stream",
     "text": [
      "[1, 3, 4, 4, 6, 8, 2, 2]\n"
     ]
    }
   ],
   "source": [
    "#remove duplicates ; can contain duplicates\n",
    "'''\n",
    "l=[2,3,4,2,6,8]\n",
    "x=2\n",
    "for i in range(0,len(l)):\n",
    "    if l[i]==x: \n",
    "        l.pop(i) # modifying length problematic #cannot modify length aise in the length\n",
    "        # remove kar bhi dega but length ghat gayi ; but for loop poora jaayega \n",
    "        # IndexError: list index out of range\n",
    "\n",
    "        \n",
    "print(l)\n",
    "'''\n",
    "#other way\n",
    "l=[1,2,2,2,3,4,4,2,6,2,8,2,2]\n",
    " # 0,1,2,3,4,5,6,7,8,9,10,11,12\n",
    "    \n",
    "\n",
    "#internally by index jaayega\n",
    "x=2\n",
    "for num in l:\n",
    "    if num==x: \n",
    "        l.remove(num) #removes first index\n",
    "'''\n",
    "still problem hai \n",
    "l=[1,2,2,2,3,4,4,2,6,2,8,2,2]\n",
    " # 0,1,2,3,4,5,6,7,8,9,10,11,12\n",
    " \n",
    "#0\n",
    "#1\n",
    "[1,2,2,3,4,4,2,6,2,8,2,2]\n",
    "#2 removes first occurance\n",
    "[1,2,3,4,4,2,6,2,8,2,2]\n",
    "#3 \n",
    "#4\n",
    "#5 removes first ocurance\n",
    "[1,3,4,4,2,6,2,8,2,2]\n",
    "#6 removes first ocurance\n",
    "[1,3,4,4,6,2,8,2,2]\n",
    "as follow up hoga wierd behaviour show hoga\n",
    "'''\n",
    "print(l)\n",
    "\n",
    "\n",
    "        "
   ]
  },
  {
   "cell_type": "code",
   "execution_count": 104,
   "id": "c5b03a55",
   "metadata": {},
   "outputs": [
    {
     "name": "stdout",
     "output_type": "stream",
     "text": [
      "[1, 3, 4, 4, 6, 8]\n"
     ]
    }
   ],
   "source": [
    "#remove duplicates\n",
    "#another varible result\n",
    "#correct way\n",
    "\n",
    "l=[1,2,2,2,3,4,4,2,6,2,8,2,2]\n",
    "    \n",
    "\n",
    "#internally by index jaayega\n",
    "x=2\n",
    "result=[]\n",
    "for num in l:\n",
    "    if num!=x:\n",
    "        result.append(num)\n",
    "print(result)\n",
    "\n"
   ]
  },
  {
   "cell_type": "code",
   "execution_count": 109,
   "id": "ad271b47",
   "metadata": {},
   "outputs": [
    {
     "name": "stdout",
     "output_type": "stream",
     "text": [
      "[1, 2, 3, 4, 6, 8]\n"
     ]
    }
   ],
   "source": [
    "#saare duplicates remove\n",
    "#proper way \n",
    "\n",
    "l=[1,2,2,2,3,4,4,2,6,2,8,2,2]\n",
    "    \n",
    "\n",
    "#internally by index jaayega\n",
    "x=2\n",
    "result=[]\n",
    "n=len(l)\n",
    "for i in range(0,n):\n",
    "    num=l[i]\n",
    "    if num not in result:\n",
    "        result.append(num)\n",
    "print(result)\n",
    "\n",
    "#o(n^2) complexity\n",
    "# so complexity reduce ho jaayegi set se\n",
    "# dsa mein with out other list ke"
   ]
  },
  {
   "cell_type": "code",
   "execution_count": 132,
   "id": "c5d845bd",
   "metadata": {},
   "outputs": [
    {
     "name": "stdout",
     "output_type": "stream",
     "text": [
      "[54, 64, 59]\n",
      "[64, 12, 44, 10]\n",
      "[]\n",
      "[44, 33, 12]\n",
      "[64, 59, 12]\n",
      "[12, 33, 44, 33, 10]\n",
      "[12, 33, 44, 33, 10]\n",
      "[12, 59, 64, 54]\n",
      "[54, 64, 59, 12, 33, 44, 33, 10]\n",
      "[10, 33, 44, 33, 12, 59, 64, 54]\n"
     ]
    }
   ],
   "source": [
    "#list slicing\n",
    "\n",
    "'''\n",
    "#manually \n",
    "l=[1,2,19,2,3,4,4,2,6,2,8,2,2]\n",
    "result=[]\n",
    "for i in range(0,3):\n",
    "    result.append(l[i])\n",
    "print(result)\n",
    "'''\n",
    "\n",
    "# arr[start:end:step]\n",
    "#if step +ve aage else peeche (end-1) tak karega as in for #just like for loop\n",
    "#by default 1 step\n",
    "\n",
    "l=[54,64,59,12,33,44,33,10]\n",
    "result=l[0:3]\n",
    "print(result)\n",
    "print(l[1:8:2])\n",
    "print(l[2:5:-2]) #empty array\n",
    "print(l[5:2:-1])\n",
    "print(l[-7:-4])\n",
    "print(l[3:len(l)])\n",
    "print(l[3:])#3 se end tak\n",
    "print(l[3::-1]) #ulta starting tak from 3rd index\n",
    "print(l[:]) #start to end l to r\n",
    "print(l[::-1]) #reverse array r to l"
   ]
  },
  {
   "cell_type": "code",
   "execution_count": 2,
   "id": "cab8cdec",
   "metadata": {},
   "outputs": [
    {
     "name": "stdout",
     "output_type": "stream",
     "text": [
      "[1, 2, 3, 4, 5, 6, 7, 8, 9]\n",
      "[6, 7, 8, 9, 10, 11, 12, 13, 14]\n"
     ]
    }
   ],
   "source": [
    "#create a new lists\n",
    "result=[]\n",
    "for i in range(1,10):\n",
    "    result.append(i)\n",
    "print(result)\n",
    "\n",
    "\n",
    "result=[]\n",
    "for i in range(1,10):\n",
    "    result.append(i+5)\n",
    "print(result)"
   ]
  },
  {
   "cell_type": "code",
   "execution_count": 8,
   "id": "b188b7a7",
   "metadata": {},
   "outputs": [
    {
     "name": "stdout",
     "output_type": "stream",
     "text": [
      "[1, 2, 3, 4, 5, 6, 7, 8, 9, 10]\n",
      "[6, 7, 8, 9, 10, 11, 12, 13, 14, 15]\n",
      "[4, 5, 6, 7, 8, 9, 10, 11, 12, 13, 14, 15, 16, 17, 18, 19, 20, 21, 22]\n"
     ]
    }
   ],
   "source": [
    "# list comphrehension\n",
    "\n",
    "result=[i for i in range(1,11)]\n",
    "print (result)\n",
    "\n",
    "result=[i+5 for i in range(1,11)]\n",
    "print (result)\n",
    "\n",
    "start=4\n",
    "end=22\n",
    "result=[i for i in range(start,end+1)]\n",
    "print (result)"
   ]
  },
  {
   "cell_type": "code",
   "execution_count": 12,
   "id": "7ca77bd8",
   "metadata": {},
   "outputs": [
    {
     "name": "stdout",
     "output_type": "stream",
     "text": [
      "[False, True, False, True, False, True, False, True, False]\n",
      "[False, True, False, True, False, True, False, True, False, True]\n"
     ]
    }
   ],
   "source": [
    "\n",
    "result=[]\n",
    "for i in range(1,10):\n",
    "    result.append(i%2==0)\n",
    "print(result)\n",
    "\n",
    "result=[i%2==0 for i in range(1,11)]\n",
    "print (result)"
   ]
  },
  {
   "cell_type": "code",
   "execution_count": 27,
   "id": "3817bccf",
   "metadata": {},
   "outputs": [
    {
     "name": "stdout",
     "output_type": "stream",
     "text": [
      "['odd', 'even', 'odd', 'even', 'odd', 'even', 'odd', 'even', 'odd']\n",
      "['odd', 'Even', 'odd', 'Even', 'odd', 'Even', 'odd', 'Even', 'odd']\n"
     ]
    }
   ],
   "source": [
    "result=[]\n",
    "for i in range(1,10):\n",
    "    if i%2==0:\n",
    "        result.append(\"even\")\n",
    "    else:\n",
    "        result.append(\"odd\")\n",
    "print(result)\n",
    "\n",
    "#else is compulsory here\n",
    "result=[\"Even\" if i%2==0 else \"odd\" for i in range(1,10)] #kya add karna hai aage \n",
    "print (result)\n",
    "\n",
    "#error\n",
    "\n",
    "#result=[\"Even\" if i%2==0 else pass for i in range(1,10)] #kya add karna hai aage \n",
    "#print (result)\n"
   ]
  },
  {
   "cell_type": "code",
   "execution_count": 26,
   "id": "9aad863b",
   "metadata": {},
   "outputs": [
    {
     "name": "stdout",
     "output_type": "stream",
     "text": [
      "[2, 4, 6, 8]\n"
     ]
    }
   ],
   "source": [
    "#make a list with even no only\n",
    "\n",
    "result=[i for i in range(1,10) if i%2==0] #kab add karna hai piche\n",
    "print (result)\n",
    "\n"
   ]
  },
  {
   "cell_type": "code",
   "execution_count": 31,
   "id": "aff4e3b5",
   "metadata": {},
   "outputs": [
    {
     "name": "stdout",
     "output_type": "stream",
     "text": [
      "[234, 1930, 232, 44]\n"
     ]
    }
   ],
   "source": [
    "arr=[\"234\",1930,232,44]\n",
    "result=[int(i) for i in arr]\n",
    "print(result)"
   ]
  },
  {
   "cell_type": "code",
   "execution_count": 40,
   "id": "1ca89e21",
   "metadata": {},
   "outputs": [
    {
     "name": "stdout",
     "output_type": "stream",
     "text": [
      "[23, 13, 53, 19]\n"
     ]
    }
   ],
   "source": [
    "#prime using list comprehension\n",
    "def isprime(n):\n",
    "    for i in range(2,int(n**0.5)+1):\n",
    "        if n%i==0:\n",
    "            return False\n",
    "    return True\n",
    "l=[4,16,23,13,53,24,19]\n",
    "\n",
    "result=[i for i in l if isprime(i)]\n",
    "print(result)\n"
   ]
  },
  {
   "cell_type": "markdown",
   "id": "f85870d9",
   "metadata": {},
   "source": [
    "# Day 3- Tuples"
   ]
  },
  {
   "cell_type": "code",
   "execution_count": 46,
   "id": "4b93f8c9",
   "metadata": {},
   "outputs": [
    {
     "name": "stdout",
     "output_type": "stream",
     "text": [
      "('a', 'bc', 45, 55.55)\n",
      "a\n"
     ]
    },
    {
     "ename": "TypeError",
     "evalue": "'tuple' object does not support item assignment",
     "output_type": "error",
     "traceback": [
      "\u001b[0;31m---------------------------------------------------------------------------\u001b[0m",
      "\u001b[0;31mTypeError\u001b[0m                                 Traceback (most recent call last)",
      "Cell \u001b[0;32mIn[46], line 7\u001b[0m\n\u001b[1;32m      5\u001b[0m \u001b[38;5;28mprint\u001b[39m(my_tuple[\u001b[38;5;241m0\u001b[39m])\n\u001b[1;32m      6\u001b[0m \u001b[38;5;66;03m#immutables\u001b[39;00m\n\u001b[0;32m----> 7\u001b[0m my_tuple[\u001b[38;5;241m0\u001b[39m]\u001b[38;5;241m=\u001b[39m\u001b[38;5;241m12\u001b[39m\n",
      "\u001b[0;31mTypeError\u001b[0m: 'tuple' object does not support item assignment"
     ]
    }
   ],
   "source": [
    "#() used for denoting\n",
    "my_tuple=(\"a\",\"bc\",45,55.55)\n",
    "print(my_tuple)\n",
    "\n",
    "print(my_tuple[0])\n",
    "#immutables\n",
    "#my_tuple[0]=12 #'tuple' object does not support item assignment\n"
   ]
  },
  {
   "cell_type": "code",
   "execution_count": 52,
   "id": "a0959687",
   "metadata": {},
   "outputs": [
    {
     "name": "stdout",
     "output_type": "stream",
     "text": [
      "2\n",
      "1\n"
     ]
    }
   ],
   "source": [
    "#immutable so very less methods\n",
    "#count and index\n",
    "my_tuple=(\"a\",45,55.55,45)\n",
    "print(my_tuple.count(45))\n",
    "print(my_tuple.index(45))\n",
    "#print(my_tuple.index(100)) #ValueError: tuple.index(x): x not in tuple\n"
   ]
  },
  {
   "cell_type": "code",
   "execution_count": 64,
   "id": "1c200249",
   "metadata": {},
   "outputs": [
    {
     "name": "stdout",
     "output_type": "stream",
     "text": [
      "('a', 45, 55.55, 45)\n",
      "45\n",
      "a 45 55.55 45 \n",
      "a 45 55.55 45 "
     ]
    }
   ],
   "source": [
    "#tuple iteration\n",
    "\n",
    "my_tuple=(\"a\",45,55.55,45)\n",
    "print(my_tuple)\n",
    "print(my_tuple[-1])\n",
    "#via index\n",
    "for i in range(0,len(my_tuple)):\n",
    "    print(my_tuple[i],end=' ')\n",
    "print()\n",
    "#via value   \n",
    "for num in my_tuple:\n",
    "    print(num,end=' ')"
   ]
  },
  {
   "cell_type": "code",
   "execution_count": 67,
   "id": "6bd9392b",
   "metadata": {},
   "outputs": [
    {
     "name": "stdout",
     "output_type": "stream",
     "text": [
      "4369974832\n",
      "4369164272\n",
      "('a', 45, 55.55, 45, 55)\n"
     ]
    }
   ],
   "source": [
    "#indirect way of appending mutate\n",
    "\n",
    "my_tuple=(\"a\",45,55.55,45)\n",
    "print(id(my_tuple))\n",
    "a=list(my_tuple)\n",
    "a.append(55)\n",
    "\n",
    "my_tuple=tuple(a)\n",
    "print(id(my_tuple)) #id changes\n",
    "\n",
    "print(my_tuple)"
   ]
  },
  {
   "cell_type": "code",
   "execution_count": 73,
   "id": "f899c243",
   "metadata": {},
   "outputs": [
    {
     "name": "stdout",
     "output_type": "stream",
     "text": [
      "(10, 23, 53, 23, 19, 34)\n",
      "<class 'tuple'>\n",
      "10\n",
      "<class 'int'>\n",
      "10\n",
      "<class 'int'>\n",
      "(10,)\n",
      "<class 'tuple'>\n"
     ]
    }
   ],
   "source": [
    "a=10,23,53,23,19,34 #is a tuple\n",
    "print(a)\n",
    "print(type(a))\n",
    "\n",
    "b=10\n",
    "print(b)\n",
    "print(type(b))\n",
    "\n",
    "c=(10) #still int\n",
    "print(c)\n",
    "print(type(c))\n",
    "\n",
    "d=(10,)#aise karke\n",
    "print(d)\n",
    "print(type(d))"
   ]
  },
  {
   "cell_type": "code",
   "execution_count": 77,
   "id": "ce6e984d",
   "metadata": {},
   "outputs": [
    {
     "name": "stdout",
     "output_type": "stream",
     "text": [
      "12 <class 'int'>\n",
      "42 <class 'int'>\n",
      "13 <class 'int'>\n",
      "\n",
      "12 <class 'int'>\n",
      "42 <class 'int'>\n",
      "13 <class 'int'>\n"
     ]
    }
   ],
   "source": [
    "#unpacking\n",
    "\n",
    "a,b,c=[12,42,13]\n",
    "print(a,type(a))\n",
    "print(b,type(b))\n",
    "print(c,type(c))\n",
    "\n",
    "print()\n",
    "\n",
    "a,b,c=(12,42,13)\n",
    "print(a,type(a))\n",
    "print(b,type(b))\n",
    "print(c,type(c))\n",
    "\n",
    "#both tuples onli"
   ]
  },
  {
   "cell_type": "code",
   "execution_count": 80,
   "id": "7cbef2e2",
   "metadata": {},
   "outputs": [
    {
     "name": "stdout",
     "output_type": "stream",
     "text": [
      "20\n",
      "10\n"
     ]
    }
   ],
   "source": [
    "#unpacking\n",
    "#error to many values to unpack\n",
    "'''\n",
    "a,b,c=[12,42,13,23,323]\n",
    "print(a,type(a))\n",
    "print(b,type(b))\n",
    "print(c,type(c))\n",
    "\n",
    "print()\n",
    "'''\n",
    "\n",
    "#swaping is unpacking only\n",
    "x=10\n",
    "y=20\n",
    "\n",
    "x,y=y,x\n",
    "\n",
    "print(x)\n",
    "print(y)"
   ]
  },
  {
   "cell_type": "markdown",
   "id": "c7013bd8",
   "metadata": {},
   "source": [
    "## Strings"
   ]
  },
  {
   "cell_type": "code",
   "execution_count": 93,
   "id": "3d8cc555",
   "metadata": {},
   "outputs": [
    {
     "name": "stdout",
     "output_type": "stream",
     "text": [
      "hello world\n",
      "<class 'str'>\n",
      "11\n",
      "h\n",
      "e\n",
      "l\n",
      "l\n",
      "hello world\n",
      "hello world\n",
      "dlrow olleh"
     ]
    }
   ],
   "source": [
    "#strings\n",
    "\n",
    "a='hello world'\n",
    "print(a)\n",
    "print(type(a))\n",
    "\n",
    "#immutable\n",
    "#a[2]='e' #error 'str' object does not support item assignment\n",
    "\n",
    "print(len(a))\n",
    "print(a[0])\n",
    "print(a[1])\n",
    "print(a[2])\n",
    "print(a[3])\n",
    "\n",
    "#via index\n",
    "for index in range(len(a)):\n",
    "    print (a[index],end='')\n",
    "print()\n",
    "#via value\n",
    "for ch in a:\n",
    "    print(ch,end='')\n",
    "print()    \n",
    "#reverse order\n",
    "for index in range(len(a)-1,0-1,-1):\n",
    "    print(a[index],end='')"
   ]
  },
  {
   "cell_type": "code",
   "execution_count": 95,
   "id": "2ad3b2db",
   "metadata": {},
   "outputs": [
    {
     "name": "stdout",
     "output_type": "stream",
     "text": [
      "a\n",
      "b\n",
      "c\n"
     ]
    }
   ],
   "source": [
    "#unpacking for strings\n",
    "\n",
    "x,y,z=\"abc\"\n",
    "\n",
    "print(x)\n",
    "print(y)\n",
    "print(z)"
   ]
  },
  {
   "cell_type": "code",
   "execution_count": 99,
   "id": "84c9446f",
   "metadata": {},
   "outputs": [
    {
     "name": "stdout",
     "output_type": "stream",
     "text": [
      "dlrow olleh\n",
      "ello\n",
      " oll\n",
      "hlowrd\n"
     ]
    }
   ],
   "source": [
    "#slicing\n",
    "a='hello world'\n",
    "print(a[::-1])\n",
    "print(a[1:5])\n",
    "print(a[5:1:-1])\n",
    "print(a[::2])\n"
   ]
  },
  {
   "cell_type": "code",
   "execution_count": 103,
   "id": "43aa6dcf",
   "metadata": {},
   "outputs": [
    {
     "name": "stdout",
     "output_type": "stream",
     "text": [
      "dlrow olleh\n",
      "dlrow olleh"
     ]
    }
   ],
   "source": [
    "#reverse order\n",
    "a='hello world'\n",
    "x=a[::-1]\n",
    "for char in x:\n",
    "    print(char,end='')\n",
    "print()\n",
    "#same as above direct\n",
    "for char in a[::-1]:\n",
    "    print(char,end='')"
   ]
  },
  {
   "cell_type": "code",
   "execution_count": 106,
   "id": "853cae4d",
   "metadata": {},
   "outputs": [
    {
     "name": "stdout",
     "output_type": "stream",
     "text": [
      "5\n"
     ]
    }
   ],
   "source": [
    "#count no of o's\n",
    "#both caps and not caps O\n",
    "c=0\n",
    "a=\"Helllooo woOrld\"\n",
    "for i in a:\n",
    "    if i=='o' or i=='O':\n",
    "        c+=1\n",
    "print(c)"
   ]
  },
  {
   "cell_type": "code",
   "execution_count": 136,
   "id": "f6cbb6d0",
   "metadata": {},
   "outputs": [
    {
     "name": "stdout",
     "output_type": "stream",
     "text": [
      "HelLloOo woOrld\n",
      "4370879536\n",
      "helllooo woorld\n",
      "4370302704\n",
      "helllooo woorld\n",
      "HELLLOOO WOORLD\n",
      "Helllooo Woorld\n",
      "Helllooo woorld\n",
      "AnIRUdH\n",
      "True\n",
      "False\n",
      "True\n",
      "False\n",
      "True\n",
      "True\n"
     ]
    }
   ],
   "source": [
    "#string methods\n",
    "#many methods 25 tak\n",
    "a=\"HelLloOo woOrld\"\n",
    "a.lower()\n",
    "print(a)\n",
    "print(id(a))\n",
    "#not changing a as immutable save in another\n",
    "b=a.lower()\n",
    "print(b)\n",
    "\n",
    "a=a.lower() #gives you another string joh ek alag mein jaayegi\n",
    "print(id(a))\n",
    "print(a)\n",
    "\n",
    "c=a.upper()\n",
    "print(c)\n",
    "\n",
    "d=a.title() #onli pehla letter captial of each word\n",
    "print(d)\n",
    "\n",
    "e=a.capitalize()#only pehla letter poori string ka\n",
    "print(e)\n",
    "x='aNiruDh'\n",
    "\n",
    "f=x.swapcase() #just ulta capital to lower and lower to cap\n",
    "print(f)\n",
    "\n",
    "x=\"124dvfa\"\n",
    "y=\"anirudg\"\n",
    "z=\"ANIRUDH\"\n",
    "xyz=\"1234\"\n",
    "\n",
    "print(x.islower())\n",
    "print(z.islower())\n",
    "print(z.isupper())\n",
    "print(x.isalpha()) #all alphabets\n",
    "print(x.isalnum()) #alpha+nums\n",
    "print(xyz.isdigit())"
   ]
  },
  {
   "cell_type": "code",
   "execution_count": 138,
   "id": "776f0c9d",
   "metadata": {},
   "outputs": [
    {
     "name": "stdout",
     "output_type": "stream",
     "text": [
      "enter something4\n",
      "enter something 2afdf\n",
      "4afdf\n"
     ]
    }
   ],
   "source": [
    "#ques \n",
    "#input a 2 strings if 2 numbers int add else concadenate\n",
    "\n",
    "a=input(\"enter something\")\n",
    "b=input(\"enter something 2\")\n",
    "if(a.isdigit() and b.isdigit()):\n",
    "    c=int(a)+int(b)\n",
    "else:\n",
    "    c=a+b\n",
    "print(c)\n",
    "    "
   ]
  },
  {
   "cell_type": "code",
   "execution_count": 142,
   "id": "c6bb11e4",
   "metadata": {},
   "outputs": [
    {
     "name": "stdout",
     "output_type": "stream",
     "text": [
      "n= ?2\n",
      "[2, 5]\n"
     ]
    }
   ],
   "source": [
    "#w4 a3 q3\n",
    "\n",
    "list2=[2,45,2,5]\n",
    "n=int(input(\"n= ?\"))\n",
    "length=len(list2)\n",
    "l2=list2[length-1:length-n-1:-1]\n",
    "l2.reverse()\n",
    "print(l2)"
   ]
  },
  {
   "cell_type": "markdown",
   "id": "0e6dfd49",
   "metadata": {},
   "source": [
    "## Day 4"
   ]
  },
  {
   "cell_type": "code",
   "execution_count": 147,
   "id": "71c9e8d3",
   "metadata": {},
   "outputs": [
    {
     "name": "stdout",
     "output_type": "stream",
     "text": [
      "97\n",
      "32\n",
      "65\n",
      "48\n"
     ]
    }
   ],
   "source": [
    "#ascii\n",
    "\n",
    "#ord is used to convert\n",
    "\n",
    "char='a'\n",
    "print(ord(char))\n",
    "char=' '\n",
    "print(ord(char))\n",
    "char='A'\n",
    "print(ord(char))\n",
    "char='0'\n",
    "print(ord(char))"
   ]
  },
  {
   "cell_type": "code",
   "execution_count": 152,
   "id": "386689be",
   "metadata": {},
   "outputs": [
    {
     "name": "stdout",
     "output_type": "stream",
     "text": [
      "5\n",
      "5\n"
     ]
    }
   ],
   "source": [
    "#count the number of digits\n",
    "char='abcdfefgsjfnfbb vnjasj32123'\n",
    "c=0\n",
    "for i in char:\n",
    "    if(i.isdigit()):\n",
    "        c+=1\n",
    "        \n",
    "print(c)\n",
    "\n",
    "#ascii way\n",
    "char='abcdfefgsjfnfbb vnjasj32123'\n",
    "c=0\n",
    "for i in char:\n",
    "    if(ord(i)>=48 and ord(i)<=57):\n",
    "        c+=1\n",
    "        \n",
    "print(c)"
   ]
  },
  {
   "cell_type": "code",
   "execution_count": 157,
   "id": "2a2843fb",
   "metadata": {},
   "outputs": [
    {
     "name": "stdout",
     "output_type": "stream",
     "text": [
      "6\n",
      "5\n",
      "10\n",
      "5\n",
      "12\n"
     ]
    }
   ],
   "source": [
    "#\n",
    "\n",
    "char = \"Hhj4388*8$*#(     AMNUuda1218*(^S#*8))\"\n",
    "abc='aB2 3@'\n",
    "caps=0\n",
    "small=0\n",
    "special=0\n",
    "digit=0\n",
    "space=0\n",
    "for i in char:\n",
    "    ch=ord(i)\n",
    "    if(ch==ord(' ')):\n",
    "        space+=1\n",
    "    elif(ch>=48 and ch<=57):\n",
    "        digit+=1\n",
    "    elif(ch>=97 and ch<=122):\n",
    "        small+=1\n",
    "    elif(ch>=65 and ch<=90):\n",
    "        caps+=1\n",
    "    else:\n",
    "        special+=1\n",
    "        \n",
    "print(caps)\n",
    "print(space)\n",
    "print(digit)\n",
    "print(small)\n",
    "print(special)"
   ]
  },
  {
   "cell_type": "code",
   "execution_count": 162,
   "id": "bd3ea9e7",
   "metadata": {},
   "outputs": [
    {
     "name": "stdout",
     "output_type": "stream",
     "text": [
      "True\n",
      "True\n",
      "False\n"
     ]
    }
   ],
   "source": [
    "#other way\n",
    "\n",
    "# print('a'>60) #error\n",
    "print('a'>'A') #converts apne aap implicit\n",
    "print('anirudh'>'anig') #letter by letter r and g compare r>g 114>103\n",
    "print('aniR'>'anir')\n"
   ]
  },
  {
   "cell_type": "code",
   "execution_count": 164,
   "id": "9782b3db",
   "metadata": {},
   "outputs": [
    {
     "name": "stdout",
     "output_type": "stream",
     "text": [
      "6\n",
      "5\n",
      "10\n",
      "5\n",
      "12\n"
     ]
    }
   ],
   "source": [
    "char = \"Hhj4388*8$*#(     AMNUuda1218*(^S#*8))\"\n",
    "abc='aB2 3@'\n",
    "caps=0\n",
    "small=0\n",
    "special=0\n",
    "digit=0\n",
    "space=0\n",
    "for i in char:\n",
    "    if(i==' '):\n",
    "        space+=1\n",
    "    elif('0'<=i<='9'):\n",
    "        digit+=1\n",
    "    elif('a'<=i<='z'):\n",
    "        small+=1\n",
    "    elif('A'<=i<='Z'):\n",
    "        caps+=1\n",
    "    else:\n",
    "        special+=1\n",
    "        \n",
    "print(caps)\n",
    "print(space)\n",
    "print(digit)\n",
    "print(small)\n",
    "print(special)"
   ]
  },
  {
   "cell_type": "code",
   "execution_count": 171,
   "id": "3643e34d",
   "metadata": {},
   "outputs": [
    {
     "name": "stdout",
     "output_type": "stream",
     "text": [
      "enter chara\n",
      "enter chard\n",
      "enter charf\n",
      "enter charq\n",
      "adf\n"
     ]
    }
   ],
   "source": [
    "'''\n",
    "taking input char\n",
    "until q presed\n",
    "'''\n",
    "ans=''\n",
    "# ans+='s' ans ka dusra id banta hai\n",
    "while(True):\n",
    "    x=input(\"enter char\")\n",
    "    if(x=='q' or x=='Q'):\n",
    "    #if x in ['q','Q']:  another way\n",
    "        break\n",
    "    ans+=x\n",
    "\n",
    "print(ans)"
   ]
  },
  {
   "cell_type": "code",
   "execution_count": null,
   "id": "a504157c",
   "metadata": {},
   "outputs": [],
   "source": [
    "a=[]#empty list\n",
    "a=list() #another way of making\n",
    "\n",
    "a=int()\n",
    "b=str()"
   ]
  },
  {
   "cell_type": "code",
   "execution_count": 179,
   "id": "4e741094",
   "metadata": {},
   "outputs": [
    {
     "name": "stdout",
     "output_type": "stream",
     "text": [
      "ABNJFSD\n"
     ]
    }
   ],
   "source": [
    "#lower to upper\n",
    "strs='abNJFSD'\n",
    "result=\"\"\n",
    "for i in strs:\n",
    "    ascii_code=ord(i)\n",
    "    if 97<=ascii_code<=122:\n",
    "        ascii_code-=32\n",
    "        result+=chr(ascii_code)\n",
    "    else:\n",
    "        result+=i\n",
    "print(result)\n"
   ]
  },
  {
   "cell_type": "code",
   "execution_count": 181,
   "id": "9d0740a8",
   "metadata": {},
   "outputs": [
    {
     "name": "stdout",
     "output_type": "stream",
     "text": [
      "abnjfsd\n"
     ]
    }
   ],
   "source": [
    "#upper to lower\n",
    "\n",
    "strs='abNJFSD'\n",
    "result=\"\"\n",
    "for i in strs:\n",
    "    ascii_code=ord(i)\n",
    "    if 65<=ascii_code<=91:\n",
    "        ascii_code+=32\n",
    "        result+=chr(ascii_code)\n",
    "    else:\n",
    "        result+=i\n",
    "print(result)\n"
   ]
  },
  {
   "cell_type": "code",
   "execution_count": 182,
   "id": "3104dd80",
   "metadata": {},
   "outputs": [
    {
     "name": "stdout",
     "output_type": "stream",
     "text": [
      "ABnjfsd34DFJAInbds\n"
     ]
    }
   ],
   "source": [
    "#small+upper toggle case\n",
    "strs='abNJFSD34dfjaiNBDS'\n",
    "result=\"\"\n",
    "for i in strs:\n",
    "    ascii_code=ord(i)\n",
    "    if 65<=ascii_code<=91:\n",
    "        ascii_code+=32\n",
    "        result+=chr(ascii_code)\n",
    "    elif 97<=ascii_code<=122:\n",
    "        ascii_code-=32\n",
    "        result+=chr(ascii_code)\n",
    "    else:\n",
    "        result+=i\n",
    "print(result)"
   ]
  },
  {
   "cell_type": "markdown",
   "id": "2547ec5a",
   "metadata": {},
   "source": [
    "## DAY 5"
   ]
  },
  {
   "cell_type": "code",
   "execution_count": 183,
   "id": "8ae85bb6",
   "metadata": {},
   "outputs": [],
   "source": [
    "#spiliting and joining"
   ]
  },
  {
   "cell_type": "code",
   "execution_count": 185,
   "id": "c068ac86",
   "metadata": {},
   "outputs": [
    {
     "name": "stdout",
     "output_type": "stream",
     "text": [
      "axyzstrings587\n",
      "axyzstrings587\n"
     ]
    }
   ],
   "source": [
    "#joining\n",
    "#by values \n",
    "a=['a','xyz','strings','587']\n",
    "result=''\n",
    "for i in a:\n",
    "    result+=i\n",
    "print(result)\n",
    "\n",
    "#by index\n",
    "a=['a','xyz','strings','587']\n",
    "result=''\n",
    "for i in range(0,len(a)):\n",
    "    result+=a[i]\n",
    "print(result)"
   ]
  },
  {
   "cell_type": "code",
   "execution_count": 195,
   "id": "772a077e",
   "metadata": {},
   "outputs": [
    {
     "name": "stdout",
     "output_type": "stream",
     "text": [
      "a-xyz-strings-587\n",
      "a xyz strings 587\n",
      "a xyz strings 587\n",
      "azxyzzstringsz587\n",
      "azxyzzstringsz587\n",
      "azxyzzstringsz587z\n"
     ]
    }
   ],
   "source": [
    "#joining\n",
    "#join works on iterables\n",
    "\n",
    "a=['a','xyz','strings','587']\n",
    "#via space;or bracket kaise\n",
    "result=\"-\".join(a)\n",
    "print(result)\n",
    "\n",
    "result=\" \".join(a)\n",
    "print(result)\n",
    "\n",
    "result=\" \".join(i for i in a) #same way\n",
    "print(result)\n",
    "\n",
    "result=\"z\".join(a) #end mein not z\n",
    "print(result)\n",
    "\n",
    "result=\"z\".join(i for i in a) #same way end mein not z\n",
    "print(result)\n",
    "\n",
    "result=\"\".join(i+'z' for i in a) #same way end mein z\n",
    "print(result)"
   ]
  },
  {
   "cell_type": "code",
   "execution_count": 199,
   "id": "7239b6cb",
   "metadata": {},
   "outputs": [
    {
     "name": "stdout",
     "output_type": "stream",
     "text": [
      "[321, 423, 'asn']\n",
      "[\n"
     ]
    }
   ],
   "source": [
    "mylist=[321,423,'asn']\n",
    "print(str(mylist)) # string aa jaayegi\n",
    "print(str(mylist)[0])\n",
    "a=\"[321,423,'asn']\" #similar to this"
   ]
  },
  {
   "cell_type": "code",
   "execution_count": 207,
   "id": "aaa9a4cd",
   "metadata": {},
   "outputs": [
    {
     "name": "stdout",
     "output_type": "stream",
     "text": [
      "['p', 'y', 't', 'h', 'o', 'n', ' ', 'i', 's', ' ', 'a', ' ', 'f', 'u', 'n', ' ', 'l', 'a', 'n', 'g', 'u', 'a', 'g', 'e']\n",
      "pythzn is a fun language\n"
     ]
    }
   ],
   "source": [
    "mm='python is a fun language'\n",
    "print(list(mm)) #sab individual character ho jaayega\n",
    "a=list(mm)\n",
    "\n",
    "\n",
    "# each o to z\n",
    "for i in range(0,len(a)):\n",
    "    if a[i]=='o':\n",
    "        a[i]='z'\n",
    "print(''.join(a))\n"
   ]
  },
  {
   "cell_type": "code",
   "execution_count": 209,
   "id": "d967f402",
   "metadata": {},
   "outputs": [
    {
     "name": "stdout",
     "output_type": "stream",
     "text": [
      "['python', 'is', 'a', 'good', 'language']\n",
      "['pytho', ' is a good la', 'guage']\n"
     ]
    }
   ],
   "source": [
    "#spliting\n",
    "\n",
    "my_string=\"python is a good language\"\n",
    "ans=my_string.split() #split by default space #white space :/n; :t; space\n",
    "print(ans)\n",
    "\n",
    "ans=my_string.split('n') # not included n and splits \n",
    "print(ans)"
   ]
  },
  {
   "cell_type": "code",
   "execution_count": 226,
   "id": "c6514e0b",
   "metadata": {},
   "outputs": [
    {
     "name": "stdout",
     "output_type": "stream",
     "text": [
      "good is python\n"
     ]
    }
   ],
   "source": [
    "#create a function to reverse words \n",
    "#takes a string ; #python is good #good is python\n",
    "#return\n",
    "\n",
    "def reverse_words(s:str)->str:\n",
    "    words=s.split()\n",
    "    words.reverse() # or words=words[::-1] then it behaves as string only\n",
    "\n",
    "    result=\" \".join(words)\n",
    "    #return \" \".join[i for i in s.split()[::-1]] #one line\n",
    "    return result\n",
    "s='python is good'\n",
    "print(reverse_words(s))\n"
   ]
  },
  {
   "cell_type": "code",
   "execution_count": 238,
   "id": "811443c7",
   "metadata": {},
   "outputs": [
    {
     "name": "stdout",
     "output_type": "stream",
     "text": [
      "nohtyp si doog\n"
     ]
    }
   ],
   "source": [
    "#revers individual words\n",
    "def indi_reverse_words(s:str)->str:\n",
    "    \n",
    "    words=s.split()    \n",
    "    # return \" \".join(i[::-1] for i in words) one line se\n",
    "    ans=''\n",
    "    for i in words:\n",
    "        ans+=i[::-1]\n",
    "        ans+=' '\n",
    "    return ans\n",
    "\n",
    "s='python is good'\n",
    "print(indi_reverse_words(s))"
   ]
  },
  {
   "cell_type": "code",
   "execution_count": 239,
   "id": "ce5be724",
   "metadata": {
    "scrolled": true
   },
   "outputs": [
    {
     "name": "stdout",
     "output_type": "stream",
     "text": [
      "2\n",
      "True\n",
      "True\n",
      "3\n",
      "5\n",
      "3\n",
      "5\n",
      "abcdedf\n",
      "abcdedf  \n",
      "  abcdedf\n"
     ]
    }
   ],
   "source": [
    "#Homework\n",
    "'''\n",
    "methods to try:\n",
    "string=\"abcdedf\"\n",
    "\n",
    "count\n",
    "endswith\n",
    "startswith\n",
    "index;rfind\n",
    "find;rindex\n",
    "strip;lstrip;rstrip\n",
    "replace\n",
    "\n",
    "'''\n",
    "string = \"abcdedf\"\n",
    "\n",
    "# count\n",
    "print(string.count(\"d\"))  # Output: 2\n",
    "\n",
    "# endswith\n",
    "print(string.endswith(\"f\"))  # Output: True\n",
    "\n",
    "# startswith\n",
    "print(string.startswith(\"abc\"))  # Output: True\n",
    "\n",
    "# index\n",
    "print(string.index(\"d\"))  # Output: 3\n",
    "\n",
    "# rfind\n",
    "print(string.rfind(\"d\"))  # Output: 5\n",
    "\n",
    "# find\n",
    "print(string.find(\"d\"))  # Output: 3\n",
    "\n",
    "# rindex\n",
    "print(string.rindex(\"d\"))  # Output: 5\n",
    "\n",
    "# strip\n",
    "string_with_spaces = \"  abcdedf  \"\n",
    "print(string_with_spaces.strip())  # Output: \"abcdedf\"\n",
    "\n",
    "# lstrip\n",
    "print(string_with_spaces.lstrip())  # Output: \"abcdedf  \"\n",
    "\n",
    "# rstrip\n",
    "print(string_with_spaces.rstrip())  # Output: \"  abcdedf\"\n"
   ]
  },
  {
   "cell_type": "code",
   "execution_count": 240,
   "id": "c2639131",
   "metadata": {},
   "outputs": [
    {
     "name": "stdout",
     "output_type": "stream",
     "text": [
      "abcxexf\n",
      "abcxedf\n"
     ]
    }
   ],
   "source": [
    "string = \"abcdedf\"\n",
    "# Replace all occurrences of 'd' with 'x'\n",
    "print(string.replace(\"d\", \"x\"))  # Output: \"abcxexf\"\n",
    "\n",
    "# Replace only the first occurrence of 'd' with 'x'\n",
    "print(string.replace(\"d\", \"x\", 1))  # Output: \"abcxedf\""
   ]
  },
  {
   "cell_type": "code",
   "execution_count": null,
   "id": "4787f52f",
   "metadata": {},
   "outputs": [],
   "source": []
  },
  {
   "cell_type": "code",
   "execution_count": 255,
   "id": "faf9e064",
   "metadata": {},
   "outputs": [
    {
     "name": "stdout",
     "output_type": "stream",
     "text": [
      "python hdsa  \n"
     ]
    }
   ],
   "source": [
    "#q5 assignment\n",
    "#replace non alpabets with spaces\n",
    "\n",
    "s='python,hdsa,@'\n",
    "ans=''\n",
    "\n",
    "for i in range(len(s)):\n",
    "\n",
    "    if (s[i].isalpha()==True):\n",
    "        ans+=s[i]\n",
    "    \n",
    "    else:\n",
    "        ans+=' '\n",
    "print(ans)"
   ]
  },
  {
   "cell_type": "code",
   "execution_count": null,
   "id": "7bb2986f",
   "metadata": {},
   "outputs": [],
   "source": []
  }
 ],
 "metadata": {
  "kernelspec": {
   "display_name": "Python 3 (ipykernel)",
   "language": "python",
   "name": "python3"
  },
  "language_info": {
   "codemirror_mode": {
    "name": "ipython",
    "version": 3
   },
   "file_extension": ".py",
   "mimetype": "text/x-python",
   "name": "python",
   "nbconvert_exporter": "python",
   "pygments_lexer": "ipython3",
   "version": "3.11.5"
  }
 },
 "nbformat": 4,
 "nbformat_minor": 5
}
