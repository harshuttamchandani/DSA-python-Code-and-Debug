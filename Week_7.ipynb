{
 "cells": [
  {
   "cell_type": "markdown",
   "id": "c36e3211",
   "metadata": {},
   "source": [
    "# DAY 1"
   ]
  },
  {
   "cell_type": "code",
   "execution_count": 5,
   "id": "ff650c03",
   "metadata": {},
   "outputs": [
    {
     "name": "stdout",
     "output_type": "stream",
     "text": [
      "[0, 0, 0, 0, 0]\n",
      "[0, 2, 5, 2, 3]\n"
     ]
    }
   ],
   "source": [
    "#Hashing -: pre storing and fetching\n",
    "#way 1 : dictionary O(m+n)way -: dictionary mein freq and \n",
    "arr=[2,3,4,2,2,4,3,4,1,1,2,2]\n",
    "#implementing on your own\n",
    "# numbers can be any 1->4 hi number honge \n",
    "#number hashing\n",
    "a=[0]*5 #n+1\n",
    "print(a)\n",
    "for i in arr:\n",
    "    a[i]+=1\n",
    "print(a)\n",
    "#storing ki o(n)\n",
    "#fetch o(1) for each no of different no.s m so o(m) a[i]directly \n",
    "#no of numbers pein limited hashing che "
   ]
  },
  {
   "cell_type": "code",
   "execution_count": 7,
   "id": "9b082ac7",
   "metadata": {},
   "outputs": [
    {
     "name": "stdout",
     "output_type": "stream",
     "text": [
      "{2: 5, 3: 2, 4: 3, 1: 2}\n"
     ]
    }
   ],
   "source": [
    "#using dictionary\n",
    "\n",
    "arr=[2,3,4,2,2,4,3,4,1,1,2,2]\n",
    "d={}\n",
    "for i in arr:\n",
    "    if i in d:\n",
    "        d[i]+=1\n",
    "    else:\n",
    "        d[i]=1\n",
    "print(d)\n",
    "# more effective"
   ]
  },
  {
   "cell_type": "code",
   "execution_count": 27,
   "id": "37366dd9",
   "metadata": {},
   "outputs": [
    {
     "name": "stdout",
     "output_type": "stream",
     "text": [
      "{'A': 1, 'a': 1, 'b': 2, 'c': 2, 'd': 2, 'e': 2}\n"
     ]
    }
   ],
   "source": [
    "#characterization\n",
    "string=\"Aabbccddee\"\n",
    "d={}\n",
    "for i in string:\n",
    "    if i in d:\n",
    "        d[i]+=1\n",
    "    else:\n",
    "        d[i]=1\n",
    "print(d)"
   ]
  },
  {
   "cell_type": "code",
   "execution_count": 31,
   "id": "6f1cbbba",
   "metadata": {},
   "outputs": [
    {
     "name": "stdout",
     "output_type": "stream",
     "text": [
      "[0, 0, 0, 0, 0, 0, 0, 0, 0, 0, 0, 0, 0, 0, 0, 0, 0, 0, 0, 0, 0, 0, 0, 0, 0, 0]\n",
      "[2, 2, 2, 2, 2, 0, 0, 0, 0, 0, 0, 0, 0, 0, 0, 0, 0, 0, 0, 0, 0, 0, 0, 0, 0, 0]\n"
     ]
    }
   ],
   "source": [
    "string=\"aabbccddee\"\n",
    "a=[0]*26\n",
    "print(a)\n",
    "for i in string:\n",
    "    a[ord(i)-97]+=1\n",
    "print(a)\n",
    "    "
   ]
  },
  {
   "cell_type": "markdown",
   "id": "f2d776ac",
   "metadata": {},
   "source": [
    "# Day 2\n"
   ]
  },
  {
   "cell_type": "code",
   "execution_count": null,
   "id": "a7badda3",
   "metadata": {},
   "outputs": [],
   "source": []
  }
 ],
 "metadata": {
  "kernelspec": {
   "display_name": "Python 3 (ipykernel)",
   "language": "python",
   "name": "python3"
  },
  "language_info": {
   "codemirror_mode": {
    "name": "ipython",
    "version": 3
   },
   "file_extension": ".py",
   "mimetype": "text/x-python",
   "name": "python",
   "nbconvert_exporter": "python",
   "pygments_lexer": "ipython3",
   "version": "3.11.5"
  }
 },
 "nbformat": 4,
 "nbformat_minor": 5
}
