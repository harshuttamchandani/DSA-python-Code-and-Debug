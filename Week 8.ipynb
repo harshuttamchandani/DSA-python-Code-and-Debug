{
 "cells": [
  {
   "cell_type": "markdown",
   "id": "4ecfb3c2",
   "metadata": {},
   "source": [
    "## Day 1"
   ]
  },
  {
   "cell_type": "code",
   "execution_count": 4,
   "id": "e00c46d8",
   "metadata": {},
   "outputs": [
    {
     "ename": "SyntaxError",
     "evalue": "'return' outside function (870063372.py, line 30)",
     "output_type": "error",
     "traceback": [
      "\u001b[0;36m  Cell \u001b[0;32mIn[4], line 30\u001b[0;36m\u001b[0m\n\u001b[0;31m    return nums\u001b[0m\n\u001b[0m    ^\u001b[0m\n\u001b[0;31mSyntaxError\u001b[0m\u001b[0;31m:\u001b[0m 'return' outside function\n"
     ]
    }
   ],
   "source": [
    "#283. Move Zeroes\n",
    "\n",
    "'''\n",
    "https://leetcode.com/problems/move-zeroes/\n",
    "\n",
    "'''\n",
    "\n",
    "# first way\n",
    "# saare non zero in one\n",
    "        # l=[]\n",
    "        # for i in nums:\n",
    "        #     if(i!=0):\n",
    "        #         l.append(i)\n",
    "        # k=0\n",
    "        # while(k<len(l)):\n",
    "        #     nums[k]=l[k]\n",
    "        #     k+=1\n",
    "        # while(k<len(nums)):\n",
    "        #     nums[k]=0\n",
    "        #     k+=1\n",
    "        #return nums\n",
    "#swapping way\n",
    "for i in range(len(nums)):\n",
    "    if(nums[i]==0 and i!=len(nums)-1):\n",
    "        j=i+1\n",
    "        while(nums[j]==0 and j<len(nums)-1):\n",
    "            j+=1\n",
    "            nums[i]=nums[j]\n",
    "            nums[j]=0\n",
    "    return nums"
   ]
  },
  {
   "cell_type": "code",
   "execution_count": null,
   "id": "406843e5",
   "metadata": {},
   "outputs": [],
   "source": []
  },
  {
   "cell_type": "code",
   "execution_count": null,
   "id": "04172fae",
   "metadata": {},
   "outputs": [],
   "source": []
  },
  {
   "cell_type": "code",
   "execution_count": null,
   "id": "44261e93",
   "metadata": {},
   "outputs": [],
   "source": []
  },
  {
   "cell_type": "code",
   "execution_count": null,
   "id": "b5c33610",
   "metadata": {},
   "outputs": [],
   "source": []
  },
  {
   "cell_type": "code",
   "execution_count": null,
   "id": "9b124e35",
   "metadata": {},
   "outputs": [],
   "source": []
  },
  {
   "cell_type": "code",
   "execution_count": null,
   "id": "844da141",
   "metadata": {},
   "outputs": [],
   "source": []
  },
  {
   "cell_type": "code",
   "execution_count": null,
   "id": "43980355",
   "metadata": {},
   "outputs": [],
   "source": []
  },
  {
   "cell_type": "code",
   "execution_count": null,
   "id": "7d9f36b7",
   "metadata": {},
   "outputs": [],
   "source": []
  },
  {
   "cell_type": "code",
   "execution_count": null,
   "id": "88e77914",
   "metadata": {},
   "outputs": [],
   "source": []
  },
  {
   "cell_type": "code",
   "execution_count": null,
   "id": "dcf955a9",
   "metadata": {},
   "outputs": [],
   "source": []
  },
  {
   "cell_type": "code",
   "execution_count": null,
   "id": "bd4c04f3",
   "metadata": {},
   "outputs": [],
   "source": []
  },
  {
   "cell_type": "markdown",
   "id": "5c2db868",
   "metadata": {},
   "source": [
    "# Day 5"
   ]
  },
  {
   "cell_type": "code",
   "execution_count": 1,
   "id": "107328e2",
   "metadata": {},
   "outputs": [],
   "source": [
    "#2149. Rearrange Array Elements by Sign\n",
    "'''\n",
    "https://leetcode.com/problems/rearrange-array-elements-by-sign/\n",
    "'''\n",
    "\n",
    "class Solution:\n",
    "    def rearrangeArray(self, nums: List[int]) -> List[int]:\n",
    "        n=len(nums)\n",
    "        arr=[0]*n\n",
    "        pos=0\n",
    "        neg=1\n",
    "        for i in nums:\n",
    "            if i>0:\n",
    "                arr[pos]=i\n",
    "                pos+=2\n",
    "            else:\n",
    "                arr[neg]=i\n",
    "                neg+=2\n",
    "        return arr\n",
    "        \n",
    "        "
   ]
  },
  {
   "cell_type": "code",
   "execution_count": null,
   "id": "5917a843",
   "metadata": {},
   "outputs": [],
   "source": []
  }
 ],
 "metadata": {
  "kernelspec": {
   "display_name": "Python 3 (ipykernel)",
   "language": "python",
   "name": "python3"
  },
  "language_info": {
   "codemirror_mode": {
    "name": "ipython",
    "version": 3
   },
   "file_extension": ".py",
   "mimetype": "text/x-python",
   "name": "python",
   "nbconvert_exporter": "python",
   "pygments_lexer": "ipython3",
   "version": "3.11.5"
  }
 },
 "nbformat": 4,
 "nbformat_minor": 5
}
