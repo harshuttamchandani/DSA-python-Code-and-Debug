{
 "cells": [
  {
   "cell_type": "markdown",
   "id": "c5e63037",
   "metadata": {},
   "source": [
    "# DAY 1"
   ]
  },
  {
   "cell_type": "code",
   "execution_count": 3,
   "id": "1d053e9a",
   "metadata": {},
   "outputs": [
    {
     "name": "stdout",
     "output_type": "stream",
     "text": [
      "1 10 11 12 \n",
      "2 10 11 12 \n",
      "3 10 11 12 \n"
     ]
    }
   ],
   "source": [
    "#nested loops\n",
    "\n",
    "for i in range (1,4):\n",
    "    print(i,end=' ')\n",
    "    for j in range(10,13):\n",
    "        print(j,end=' ')\n",
    "    print()"
   ]
  },
  {
   "cell_type": "code",
   "execution_count": 5,
   "id": "1c935edf",
   "metadata": {},
   "outputs": [
    {
     "name": "stdout",
     "output_type": "stream",
     "text": [
      "****\n",
      "****\n",
      "****\n",
      "****\n"
     ]
    }
   ],
   "source": [
    "'''\n",
    "*****\n",
    "*****\n",
    "*****\n",
    "*****\n",
    "*****\n",
    "'''\n",
    "#use row and col concept;i for row j for columns\n",
    "\n",
    "for i in range(1,5):\n",
    "    for j in range(1,5):\n",
    "        print('*',end='')\n",
    "    print()"
   ]
  },
  {
   "cell_type": "code",
   "execution_count": 7,
   "id": "459d5d26",
   "metadata": {},
   "outputs": [
    {
     "name": "stdout",
     "output_type": "stream",
     "text": [
      "12345\n",
      "12345\n",
      "12345\n",
      "12345\n",
      "12345\n"
     ]
    }
   ],
   "source": [
    "'''\n",
    "12345\n",
    "12345\n",
    "12345\n",
    "12345\n",
    "12345\n",
    "'''\n",
    "for i in range(1,6):\n",
    "    for j in range(1,6):\n",
    "        print(j,end='')\n",
    "    print()"
   ]
  },
  {
   "cell_type": "code",
   "execution_count": 8,
   "id": "5b79ef27",
   "metadata": {},
   "outputs": [
    {
     "name": "stdout",
     "output_type": "stream",
     "text": [
      "11111\n",
      "22222\n",
      "33333\n",
      "44444\n",
      "55555\n"
     ]
    }
   ],
   "source": [
    "'''\n",
    "11111\n",
    "22222\n",
    "33333\n",
    "44444\n",
    "55555\n",
    "'''\n",
    "for i in range(1,6):\n",
    "    for j in range(1,6):\n",
    "        print(i,end='')\n",
    "    print()"
   ]
  },
  {
   "cell_type": "code",
   "execution_count": 10,
   "id": "9eb32b18",
   "metadata": {},
   "outputs": [
    {
     "name": "stdout",
     "output_type": "stream",
     "text": [
      "*\n",
      "**\n",
      "***\n",
      "****\n",
      "*****\n"
     ]
    }
   ],
   "source": [
    "'''\n",
    "*\n",
    "**\n",
    "***\n",
    "****\n",
    "*****\n",
    "'''\n",
    "\n",
    "for i in range(1,6):\n",
    "    for j in range(1,i+1):\n",
    "        print('*',end='')\n",
    "    print()"
   ]
  },
  {
   "cell_type": "code",
   "execution_count": 12,
   "id": "7fe78e0d",
   "metadata": {},
   "outputs": [
    {
     "name": "stdout",
     "output_type": "stream",
     "text": [
      "1\n",
      "12\n",
      "123\n",
      "1234\n",
      "12345\n"
     ]
    }
   ],
   "source": [
    "'''\n",
    "1\n",
    "12\n",
    "123\n",
    "1234\n",
    "12345\n",
    "\n",
    "'''\n",
    "\n",
    "for i in range(1,6):\n",
    "    for j in range(1,i+1):\n",
    "        print(j,end='')\n",
    "    print()"
   ]
  },
  {
   "cell_type": "code",
   "execution_count": 13,
   "id": "e2924fe8",
   "metadata": {},
   "outputs": [
    {
     "name": "stdout",
     "output_type": "stream",
     "text": [
      "1\n",
      "21\n",
      "321\n",
      "4321\n",
      "54321\n"
     ]
    }
   ],
   "source": [
    "'''\n",
    "1\n",
    "21\n",
    "321\n",
    "4321\n",
    "54321\n",
    "'''\n",
    "\n",
    "for i in range(1,6):\n",
    "    for j in range(i,0,-1):\n",
    "        print(j,end='')\n",
    "    print()"
   ]
  },
  {
   "cell_type": "code",
   "execution_count": 15,
   "id": "e6a2fbe1",
   "metadata": {},
   "outputs": [
    {
     "name": "stdout",
     "output_type": "stream",
     "text": [
      "5\n",
      "45\n",
      "345\n",
      "2345\n",
      "12345\n"
     ]
    }
   ],
   "source": [
    "'''\n",
    "5\n",
    "4 5\n",
    "3 4 5\n",
    "2 3 4 5\n",
    "1 2 3 4 5\n",
    "'''\n",
    "for i in range(5,0,-1):\n",
    "    for j in range(i,6):\n",
    "        print(j,end='')\n",
    "    print()"
   ]
  },
  {
   "cell_type": "code",
   "execution_count": 19,
   "id": "d1e20ec1",
   "metadata": {},
   "outputs": [
    {
     "name": "stdout",
     "output_type": "stream",
     "text": [
      "5\n",
      "45\n",
      "345\n",
      "2345\n",
      "12345\n"
     ]
    }
   ],
   "source": [
    "'''\n",
    "5\n",
    "4 5\n",
    "3 4 5\n",
    "2 3 4 5\n",
    "1 2 3 4 5\n",
    "\n",
    "another way; harder loop ulta\n",
    "'''\n",
    "for i in range(1,6):\n",
    "    for j in range(1,i+1):\n",
    "        print(5-i+j,end='')\n",
    "    print()"
   ]
  },
  {
   "cell_type": "markdown",
   "id": "53d19090",
   "metadata": {},
   "source": [
    "# Day 2"
   ]
  },
  {
   "cell_type": "code",
   "execution_count": 26,
   "id": "076e9980",
   "metadata": {},
   "outputs": [
    {
     "name": "stdout",
     "output_type": "stream",
     "text": [
      "    *\n",
      "   **\n",
      "  ***\n",
      " ****\n",
      "*****\n"
     ]
    }
   ],
   "source": [
    "'''\n",
    "    *\n",
    "   **\n",
    "  ***\n",
    " ****\n",
    "***** \n",
    "'''\n",
    "\n",
    "for i in range (1,6):\n",
    "    for sp in range(1,5-i+1):\n",
    "        print(' ',end='')\n",
    "    for j in range(1,i+1):\n",
    "        print('*',end='')\n",
    "    print('')"
   ]
  },
  {
   "cell_type": "code",
   "execution_count": 27,
   "id": "a62a62c9",
   "metadata": {},
   "outputs": [
    {
     "name": "stdout",
     "output_type": "stream",
     "text": [
      "    1\n",
      "   12\n",
      "  123\n",
      " 1234\n",
      "12345\n"
     ]
    }
   ],
   "source": [
    "'''\n",
    "    1\n",
    "   12\n",
    "  123\n",
    " 1234\n",
    "12345 \n",
    "'''\n",
    "\n",
    "for i in range (1,6):\n",
    "    for sp in range(1,5-i+1):\n",
    "        print(' ',end='')\n",
    "    for j in range(1,i+1):\n",
    "        print(j,end='')\n",
    "    print('')"
   ]
  },
  {
   "cell_type": "code",
   "execution_count": 28,
   "id": "b2e278b3",
   "metadata": {},
   "outputs": [
    {
     "name": "stdout",
     "output_type": "stream",
     "text": [
      "    1\n",
      "   21\n",
      "  321\n",
      " 4321\n",
      "54321\n"
     ]
    }
   ],
   "source": [
    "'''\n",
    "    1\n",
    "   21\n",
    "  321\n",
    " 4321\n",
    "54321 \n",
    "'''\n",
    "for i in range (1,6):\n",
    "    for sp in range(1,5-i+1):\n",
    "        print(' ',end='')\n",
    "    for j in range(i,0,-1):\n",
    "        print(j,end='')\n",
    "    print('')\n"
   ]
  },
  {
   "cell_type": "code",
   "execution_count": 33,
   "id": "7f2a104b",
   "metadata": {},
   "outputs": [
    {
     "name": "stdout",
     "output_type": "stream",
     "text": [
      "    5\n",
      "   45\n",
      "  345\n",
      " 2345\n",
      "12345\n"
     ]
    }
   ],
   "source": [
    "'''\n",
    "    5\n",
    "   45\n",
    "  345\n",
    " 2345\n",
    "54321 \n",
    "way 1\n",
    "'''\n",
    "for i in range (1,6):\n",
    "    for sp in range(1,5-i+1):\n",
    "        print(' ',end='')\n",
    "    for j in range(i,0,-1):\n",
    "        print(6-j,end='')\n",
    "    print('')\n"
   ]
  },
  {
   "cell_type": "code",
   "execution_count": 35,
   "id": "3b886881",
   "metadata": {},
   "outputs": [
    {
     "name": "stdout",
     "output_type": "stream",
     "text": [
      "    5\n",
      "   45\n",
      "  345\n",
      " 2345\n",
      "12345\n"
     ]
    }
   ],
   "source": [
    "'''\n",
    "    5\n",
    "   45\n",
    "  345\n",
    " 2345\n",
    "12345 \n",
    "another way easier\n",
    "'''\n",
    "for i in range (5,0,-1):\n",
    "    for sp in range(1,i):\n",
    "        print(' ',end='')\n",
    "    for j in range(i,6):\n",
    "        print(j,end='')\n",
    "    print('')\n"
   ]
  },
  {
   "cell_type": "code",
   "execution_count": 36,
   "id": "b21abe43",
   "metadata": {},
   "outputs": [
    {
     "name": "stdout",
     "output_type": "stream",
     "text": [
      "    5 \n",
      "   4 5 \n",
      "  3 4 5 \n",
      " 2 3 4 5 \n",
      "1 2 3 4 5 \n"
     ]
    }
   ],
   "source": [
    "'''\n",
    "    5\n",
    "   4 5\n",
    "  3 4 5\n",
    " 2 3 4 5\n",
    "1 2 3 4 5\n",
    "'''\n",
    "\n",
    "for i in range(1,6):\n",
    "    for sp in range(1,5-i+1):\n",
    "        print(' ',end='')\n",
    "    for j in range(6-i,6):\n",
    "        print(j,end=' ')\n",
    "    print()"
   ]
  },
  {
   "cell_type": "code",
   "execution_count": 41,
   "id": "1e9ceaae",
   "metadata": {},
   "outputs": [
    {
     "name": "stdout",
     "output_type": "stream",
     "text": [
      "n=? 5\n",
      "*\n",
      "**\n",
      "***\n",
      "****\n",
      "****\n",
      "***\n",
      "**\n",
      "*\n"
     ]
    }
   ],
   "source": [
    "'''\n",
    "\n",
    "*\n",
    "**\n",
    "***\n",
    "****\n",
    "*****\n",
    "****\n",
    "***\n",
    "**\n",
    "*\n",
    "'''\n",
    "n=int(input(\"n=? \"))\n",
    "\n",
    "for i in range(1,n):\n",
    "    for j in range(1,i+1):\n",
    "        print('*',end='')\n",
    "    print()\n",
    "    \n",
    "for i in range(n-1,0,-1):\n",
    "    for j in range(1,i+1):\n",
    "        print('*',end='')\n",
    "    print()\n",
    "\n",
    "#sir did using n//2 like total lines types and not for even here n stand for first half "
   ]
  },
  {
   "cell_type": "code",
   "execution_count": null,
   "id": "b067e3f0",
   "metadata": {},
   "outputs": [],
   "source": [
    "# doubt and assigment discussion "
   ]
  },
  {
   "cell_type": "markdown",
   "id": "b7e7c62d",
   "metadata": {},
   "source": [
    "## Day 3"
   ]
  },
  {
   "cell_type": "code",
   "execution_count": 42,
   "id": "be3a4282",
   "metadata": {},
   "outputs": [],
   "source": [
    "# question discussion"
   ]
  },
  {
   "cell_type": "code",
   "execution_count": 9,
   "id": "fb67fe5c",
   "metadata": {
    "scrolled": true
   },
   "outputs": [
    {
     "name": "stdout",
     "output_type": "stream",
     "text": [
      "5\n",
      "        1 \n",
      "      2 2 2 \n",
      "    3 3 3 3 3 \n",
      "  4 4 4 4 4 4 4 \n",
      "5 5 5 5 5 5 5 5 5 \n"
     ]
    }
   ],
   "source": [
    "#W3 assignment 2 hard patterns\n",
    "\n",
    "'''\n",
    "      1\n",
    "    2 2 2\n",
    "  3 3 3 3 3\n",
    "4 4 4 4 4 4 4 ...\n",
    "'''\n",
    "n= int(input())\n",
    "for i in range(1,n+1):\n",
    "    for sp in range(1,n-i+1):\n",
    "        print(\" \",end=\" \")\n",
    "    \n",
    "    for j in range(1,2*i):\n",
    "        print(i,end=\" \") \n",
    "        \n",
    "    print()"
   ]
  },
  {
   "cell_type": "code",
   "execution_count": 17,
   "id": "ab158424",
   "metadata": {},
   "outputs": [
    {
     "name": "stdout",
     "output_type": "stream",
     "text": [
      "n?= 9\n",
      "        1 \n",
      "      2 2 2 \n",
      "    3 3 3 3 3 \n",
      "  4 4 4 4 4 4 4 \n",
      "5 5 5 5 5 5 5 5 5 \n",
      "  4 4 4 4 4 4 4 \n",
      "    3 3 3 3 3 \n",
      "      2 2 2 \n",
      "        1 \n"
     ]
    }
   ],
   "source": [
    "\n",
    "'''\n",
    "      1\n",
    "    2 2 2\n",
    "  3 3 3 3 3\n",
    "4 4 4 4 4 4 4\n",
    "  3 3 3 3 3\n",
    "    2 2 2\n",
    "      1\n",
    "      \n",
    "n=7 no. of lines\n",
    "'''\n",
    "#n//2=3\n",
    "\n",
    "n=int(input('n?= '))\n",
    "nn=n//2+1 #3\n",
    "for i in range(1,nn+1):\n",
    "    for sp in range(1,nn-i+1):\n",
    "        print(\" \",end=\" \")\n",
    "    for j in range(1,2*i) :\n",
    "        print(i, end=\" \")\n",
    "    print()\n",
    "for i in range(nn-1,0,-1):\n",
    "    for sp in range(1,nn-i+1):\n",
    "        print(\" \",end=\" \")\n",
    "    for j in range(1,2*i) :\n",
    "        print(i, end=\" \")\n",
    "    print() \n",
    "    "
   ]
  },
  {
   "cell_type": "code",
   "execution_count": 18,
   "id": "bdbac751",
   "metadata": {},
   "outputs": [],
   "source": [
    "#some discussion about interviews and patterns wale assignment ki baat thodi bahut"
   ]
  },
  {
   "cell_type": "code",
   "execution_count": 20,
   "id": "482e61c5",
   "metadata": {
    "scrolled": true
   },
   "outputs": [
    {
     "name": "stdout",
     "output_type": "stream",
     "text": [
      "1 \n",
      "2 3 \n",
      "4 5 6 \n",
      "7 8 9 10 \n",
      "11 12 13 14 15 \n"
     ]
    }
   ],
   "source": [
    "#assignment 2 q9\n",
    "'''\n",
    "1\n",
    "2 3\n",
    "4 5 6\n",
    "7 8 9 10\n",
    "\n",
    "'''\n",
    "\n",
    "count=1\n",
    "for i in range(1,6):\n",
    "    for j in range(1,i+1):\n",
    "        print(count,end=' ')\n",
    "        count+=1\n",
    "    print()"
   ]
  },
  {
   "cell_type": "code",
   "execution_count": 21,
   "id": "6c87f2c7",
   "metadata": {},
   "outputs": [
    {
     "name": "stdout",
     "output_type": "stream",
     "text": [
      "5\n",
      "54\n",
      "543\n",
      "5432\n",
      "54321\n"
     ]
    }
   ],
   "source": [
    "'''\n",
    "assignment 1 q4\n",
    "5\n",
    "5 4\n",
    "5 4 3\n",
    "5 4 3 2\n",
    "5 4 3 2 1\n",
    "'''\n",
    "\n",
    "for i in range(5,0,-1):\n",
    "    for j in range(5,i-1,-1):\n",
    "        print(j,end='')\n",
    "    print()"
   ]
  },
  {
   "cell_type": "markdown",
   "id": "e9b245a1",
   "metadata": {},
   "source": [
    "## DAY 4"
   ]
  },
  {
   "cell_type": "code",
   "execution_count": 26,
   "id": "3b0b0b9c",
   "metadata": {},
   "outputs": [
    {
     "name": "stdout",
     "output_type": "stream",
     "text": [
      "<class 'list'>\n",
      "[4, 4.5, 4, 'harsh', False]\n"
     ]
    }
   ],
   "source": [
    "#LISTS\n",
    "arr=[4,4.5,4,'harsh',False]\n",
    "\n",
    "print(type(arr))\n",
    "\n",
    "print(arr)\n",
    "\n",
    "# arrays in c++ ; array size fixed ; list no size defined\n",
    "# arrays mein same type of data; list mein nahi hota aisa\n",
    "#sir uses them interchangebly\n",
    "#numpy kuch hota but dont confuse for now\n",
    "\n",
    "\n",
    "#file name dont keep list.py ya koi bhi keyword karke list1.py rakh sakte\n",
    "#don't name as list -:my_list etc kardena will work not a good practise\n",
    "#"
   ]
  },
  {
   "cell_type": "code",
   "execution_count": 44,
   "id": "f5c59a7c",
   "metadata": {},
   "outputs": [
    {
     "name": "stdout",
     "output_type": "stream",
     "text": [
      "110\n",
      "112\n",
      "100\n",
      "4\n",
      "124\n",
      "124\n",
      "100\n",
      "100\n",
      "112\n"
     ]
    },
    {
     "data": {
      "text/plain": [
       "'\\ninterpretor hai line by line chalta hai \\nerror name-: Index error\\nerror msg-: List index out of range\\nerror nahi dikhayega jab tak uss line pein nahi\\n'"
      ]
     },
     "execution_count": 44,
     "metadata": {},
     "output_type": "execute_result"
    }
   ],
   "source": [
    "my_list=[100,110,112,124]\n",
    "print(my_list[1])\n",
    "print(my_list[2])\n",
    "print(my_list[0])\n",
    "#print(my_list[10]) index error\n",
    "print(len(my_list))  #length (0,1,2,3)-:4 ; len keyword\n",
    "print(my_list[len(my_list)-1]) #last numer\n",
    "print(my_list[-1]) #negative indexing\n",
    "print(my_list[-len(my_list)]) #first element\n",
    "# hauch pauch better way n=len(my_list)\n",
    "n=len(my_list)\n",
    "print(my_list[-n])\n",
    "# middle element -: 50/2 no float ; n//2 ans\n",
    "print(my_list[n//2]) #mid element\n",
    "\n",
    "\n",
    "\n",
    "'''\n",
    "interpretor hai line by line chalta hai \n",
    "error name-: Index error\n",
    "error msg-: List index out of range\n",
    "error nahi dikhayega jab tak uss line pein nahi\n",
    "'''\n"
   ]
  },
  {
   "cell_type": "code",
   "execution_count": 48,
   "id": "feed53f2",
   "metadata": {},
   "outputs": [
    {
     "name": "stdout",
     "output_type": "stream",
     "text": [
      "11\n",
      "12\n",
      "13\n",
      "14\n",
      "15\n",
      "11 12 13 14 15 "
     ]
    }
   ],
   "source": [
    "#Iteration\n",
    "arr=[11,12,13,14,15]\n",
    "\n",
    "print(arr[0])\n",
    "print(arr[1])\n",
    "print(arr[2])\n",
    "print(arr[3])\n",
    "print(arr[4])\n",
    "\n",
    "#iterating by position /index\n",
    "for i in range(0,len(arr)):# len tak hi as n+1 tak jaana hoga\n",
    "    print(arr[i],end=' ')"
   ]
  },
  {
   "cell_type": "code",
   "execution_count": 49,
   "id": "0d04ceac",
   "metadata": {},
   "outputs": [
    {
     "data": {
      "text/plain": [
       "NoneType"
      ]
     },
     "execution_count": 49,
     "metadata": {},
     "output_type": "execute_result"
    }
   ],
   "source": [
    "#None\n",
    "a=None\n",
    "print(type(a))#nonetypr\n"
   ]
  },
  {
   "cell_type": "code",
   "execution_count": 51,
   "id": "33d869f9",
   "metadata": {},
   "outputs": [
    {
     "name": "stdout",
     "output_type": "stream",
     "text": [
      "11 12 13 14 15 "
     ]
    }
   ],
   "source": [
    "#Iterate by value\n",
    "\n",
    "arr=[11,12,13,14,15]\n",
    "\n",
    "for i in arr:\n",
    "    print(i,end=' ')"
   ]
  },
  {
   "cell_type": "code",
   "execution_count": 52,
   "id": "8e1463c0",
   "metadata": {},
   "outputs": [
    {
     "data": {
      "text/plain": [
       "'\\n# index ya value kya kare\\nif position ka kaam like even pos print karoo\\n\\niteration by position se both value and index both\\niteration by value se onli value nikal sakte ho\\n\\n\\nso use indexes onlii\\n'"
      ]
     },
     "execution_count": 52,
     "metadata": {},
     "output_type": "execute_result"
    }
   ],
   "source": [
    "'''\n",
    "# index ya value kya kare\n",
    "if position ka kaam like even pos print karoo\n",
    "\n",
    "iteration by position se both value and index both\n",
    "iteration by value se onli value nikal sakte ho\n",
    "\n",
    "\n",
    "so use indexes onlii\n",
    "'''\n"
   ]
  },
  {
   "cell_type": "code",
   "execution_count": 54,
   "id": "cb036584",
   "metadata": {},
   "outputs": [
    {
     "name": "stdout",
     "output_type": "stream",
     "text": [
      "0 11\n",
      "1 12\n",
      "2 13\n",
      "3 14\n",
      "4 15\n"
     ]
    }
   ],
   "source": [
    "# iteration by both\n",
    "\n",
    "arr=[11,12,13,14,15]\n",
    "\n",
    "for index,value in enumerate(arr):\n",
    "    print(index,value)\n",
    "    \n",
    "#enumerate -: unpacking ; index aur value ek saath deta hai"
   ]
  },
  {
   "cell_type": "code",
   "execution_count": 55,
   "id": "0b7777f9",
   "metadata": {},
   "outputs": [
    {
     "name": "stdout",
     "output_type": "stream",
     "text": [
      "4\n"
     ]
    }
   ],
   "source": [
    "#find length without using len\n",
    "\n",
    "my_list=[54,63,32,45]\n",
    "\n",
    "l=0\n",
    "for i in my_list:\n",
    "    l+=1\n",
    "print(l)"
   ]
  },
  {
   "cell_type": "code",
   "execution_count": 60,
   "id": "a1047991",
   "metadata": {
    "scrolled": false
   },
   "outputs": [
    {
     "name": "stdout",
     "output_type": "stream",
     "text": [
      "55 30 25 11 1 2\n",
      "0 -11 11 10 9 8 7 6 5 4 3 2 1 "
     ]
    }
   ],
   "source": [
    "#sum of all the elements\n",
    "#sum of all even elements\n",
    "#sum of odd no\n",
    "#count pos,neg no\n",
    "#count no divisible by 2,3 both\n",
    "#print the reverse of the array\n",
    "\n",
    "\n",
    "a=[1,2,3,4,5,6,7,8,9,10,11,-11,0]\n",
    "total=0\n",
    "total_eve=0\n",
    "total_odd=0\n",
    "count_pos=0\n",
    "count_neg=0\n",
    "count_23=0\n",
    "\n",
    "for i in range(len(a)):\n",
    "    total+=a[i]\n",
    "    if a[i]%2==0:\n",
    "        total_eve+=a[i]\n",
    "    else:\n",
    "        total_odd+=a[i]\n",
    "    if a[i]>0:\n",
    "        count_pos+=1\n",
    "    elif a[i]<0:\n",
    "        count_neg+=1\n",
    "    if a[i]%2==0 and a[i]%3==0:\n",
    "        count_23+=1\n",
    "print(total,total_eve,total_odd,count_pos,count_neg,count_23)\n",
    "\n",
    "#reverse\n",
    "for i in range(len(a)-1,-1,-1):\n",
    "    print(a[i],end=' ')"
   ]
  },
  {
   "cell_type": "code",
   "execution_count": 61,
   "id": "b9ef62de",
   "metadata": {},
   "outputs": [],
   "source": [
    "#done with lectures"
   ]
  },
  {
   "cell_type": "markdown",
   "id": "172dcb5b",
   "metadata": {},
   "source": [
    "## Assignments"
   ]
  },
  {
   "cell_type": "code",
   "execution_count": null,
   "id": "a425e258",
   "metadata": {},
   "outputs": [],
   "source": []
  }
 ],
 "metadata": {
  "kernelspec": {
   "display_name": "Python 3 (ipykernel)",
   "language": "python",
   "name": "python3"
  },
  "language_info": {
   "codemirror_mode": {
    "name": "ipython",
    "version": 3
   },
   "file_extension": ".py",
   "mimetype": "text/x-python",
   "name": "python",
   "nbconvert_exporter": "python",
   "pygments_lexer": "ipython3",
   "version": "3.11.5"
  }
 },
 "nbformat": 4,
 "nbformat_minor": 5
}
