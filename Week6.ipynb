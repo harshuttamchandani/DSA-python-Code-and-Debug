{
 "cells": [
  {
   "cell_type": "code",
   "execution_count": 1,
   "id": "eccc9093",
   "metadata": {},
   "outputs": [],
   "source": [
    "#lec1\n",
    "#time complexity\n",
    "#rate at which time taken increases with respect to input size\n"
   ]
  },
  {
   "cell_type": "code",
   "execution_count": 6,
   "id": "e5f685cd",
   "metadata": {},
   "outputs": [
    {
     "name": "stdout",
     "output_type": "stream",
     "text": [
      "7\n",
      "8\n",
      "9\n",
      "3\n",
      "5\n",
      "7\n",
      "8\n",
      "9\n",
      "3\n",
      "5\n"
     ]
    }
   ],
   "source": [
    "#lec2\n",
    "#extraction of digits\n",
    "#53897\n",
    "n=53987\n",
    "\n",
    "#brute force\n",
    "m=str(n) #time lega -: O(n)\n",
    "\n",
    "for i in range(len(m)-1,-1,-1):\n",
    "    print(m[i])#O(n)\n",
    "#(O(2N)=>O(N))\n",
    "#\n",
    "\n",
    "#second way\n",
    "while (n!=0):\n",
    "    rem=n%10\n",
    "    n=n//10\n",
    "    print(rem)"
   ]
  },
  {
   "cell_type": "code",
   "execution_count": null,
   "id": "166de815",
   "metadata": {},
   "outputs": [],
   "source": []
  }
 ],
 "metadata": {
  "kernelspec": {
   "display_name": "Python 3 (ipykernel)",
   "language": "python",
   "name": "python3"
  },
  "language_info": {
   "codemirror_mode": {
    "name": "ipython",
    "version": 3
   },
   "file_extension": ".py",
   "mimetype": "text/x-python",
   "name": "python",
   "nbconvert_exporter": "python",
   "pygments_lexer": "ipython3",
   "version": "3.11.5"
  }
 },
 "nbformat": 4,
 "nbformat_minor": 5
}
