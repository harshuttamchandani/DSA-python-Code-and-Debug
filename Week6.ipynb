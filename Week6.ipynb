{
 "cells": [
  {
   "cell_type": "code",
   "execution_count": 1,
   "id": "4312cc40",
   "metadata": {},
   "outputs": [],
   "source": [
    "#lec1\n",
    "#time complexity\n",
    "#rate at which time taken increases with respect to input size\n"
   ]
  },
  {
   "cell_type": "code",
   "execution_count": 37,
   "id": "756c88c8",
   "metadata": {},
   "outputs": [
    {
     "name": "stdout",
     "output_type": "stream",
     "text": [
      "7 8 9 3 5 \n",
      "7 8 9 3 5 \n",
      "4\n"
     ]
    }
   ],
   "source": [
    "#lec2\n",
    "#extraction of digits\n",
    "#53897\n",
    "import math\n",
    "n=53987\n",
    "b=n\n",
    "#brute force\n",
    "m=str(n) #time lega -: O(n)\n",
    "\n",
    "for i in range(len(m)-1,-1,-1):\n",
    "    print(m[i],end=' ')#O(n)\n",
    "#(O(2N)=>O(N))\n",
    "#O(N) S.C M =STR(N)\n",
    "print()\n",
    "#second way OPTIMAL -: O(log base (10) (N)) hai as N divide by 10 N is the number \n",
    "while (n!=0):\n",
    "    rem=n%10\n",
    "    n=n//10\n",
    "    \n",
    "    print(rem,end=' ')\n",
    "#kam hue jaa raha joh number se divide woh base\n",
    "#no of digits approx dega log base 10 se number; utni baar loop woh integer+1 baar for loop \n",
    "#no of digits wala number hi\n",
    "print()\n",
    "print((int(math.log10(b))))"
   ]
  },
  {
   "cell_type": "code",
   "execution_count": 39,
   "id": "cf742878",
   "metadata": {},
   "outputs": [
    {
     "name": "stdout",
     "output_type": "stream",
     "text": [
      "15\n"
     ]
    }
   ],
   "source": [
    "# 1 operation in 10^8 operation logic remember\n",
    "#import math ; math.sqrt()\n",
    " \n",
    "#sum of all divisors\n",
    "# way for optimal kitni baar number repeat hoga -: n//i times karke \n",
    "n=4\n",
    "ans=0\n",
    "for i in range(1,n+1):\n",
    "    ans+=i*(n//i)\n",
    "print(ans)\n"
   ]
  },
  {
   "cell_type": "markdown",
   "id": "ba49c4f2",
   "metadata": {},
   "source": [
    "## Day 4"
   ]
  },
  {
   "cell_type": "code",
   "execution_count": 2,
   "id": "bdf5e828",
   "metadata": {},
   "outputs": [],
   "source": [
    "# def func():\n",
    "#     print(\"hello\")\n",
    "#     func()\n",
    "#     print(\"good\")\n",
    "# func()\n",
    "# keeps printing hello infinite loop -: recursion depth exceeded exceed -: 996,998 pein ruk jaata\n",
    "#can be changed\n"
   ]
  },
  {
   "cell_type": "code",
   "execution_count": 5,
   "id": "b540a645",
   "metadata": {},
   "outputs": [
    {
     "name": "stdout",
     "output_type": "stream",
     "text": [
      "3\n",
      "harsh\n",
      "harsh\n",
      "harsh\n",
      "harsh\n",
      "done\n",
      "harsh\n",
      "harsh\n",
      "harsh\n"
     ]
    }
   ],
   "source": [
    "#print annirudh/x n times\n",
    "\n",
    "a=int(input())\n",
    "for i in range(a+1):\n",
    "    print(\"harsh\")\n",
    "\n",
    "print(\"done\")\n",
    "def func(i,n):\n",
    "    if i>=n:\n",
    "        return n\n",
    "    print(\"harsh\")\n",
    "    func(i+1,n)\n",
    "func(0,3)"
   ]
  },
  {
   "cell_type": "code",
   "execution_count": 9,
   "id": "17c76d79",
   "metadata": {},
   "outputs": [
    {
     "name": "stdout",
     "output_type": "stream",
     "text": [
      "10\n",
      "9\n",
      "8\n",
      "7\n",
      "6\n",
      "5\n",
      "4\n",
      "3\n",
      "2\n",
      "1\n"
     ]
    }
   ],
   "source": [
    "#print 1 to n\n",
    "def func(i,n):\n",
    "    if i>n:\n",
    "        return\n",
    "    print(i)\n",
    "    func(i+1,n)\n",
    "func(1,5)"
   ]
  },
  {
   "cell_type": "code",
   "execution_count": 10,
   "id": "81d61cdc",
   "metadata": {},
   "outputs": [
    {
     "name": "stdout",
     "output_type": "stream",
     "text": [
      "1\n",
      "2\n",
      "3\n",
      "4\n",
      "5\n"
     ]
    }
   ],
   "source": [
    "\n",
    "def a(n):\n",
    "    if n==0:\n",
    "        return\n",
    "    a(n-1)\n",
    "    print(n)\n",
    "a(10)"
   ]
  },
  {
   "cell_type": "code",
   "execution_count": 12,
   "id": "bf0b8225",
   "metadata": {},
   "outputs": [
    {
     "name": "stdout",
     "output_type": "stream",
     "text": [
      "5\n",
      "4\n",
      "3\n",
      "2\n",
      "1\n"
     ]
    }
   ],
   "source": [
    "#print n to 1\n",
    "\n",
    "def a(n):\n",
    "    if n==0:\n",
    "        return\n",
    "    print(n)\n",
    "    a(n-1)\n",
    "a(5)"
   ]
  },
  {
   "cell_type": "code",
   "execution_count": 13,
   "id": "97987339",
   "metadata": {},
   "outputs": [
    {
     "name": "stdout",
     "output_type": "stream",
     "text": [
      "1\n",
      "2\n",
      "3\n",
      "4\n",
      "5\n"
     ]
    }
   ],
   "source": [
    "#with backtracking sort of\n",
    "def func(i):\n",
    "    if i<1:\n",
    "        return\n",
    "    func(i-1)\n",
    "    print(i)\n",
    "func(5)"
   ]
  },
  {
   "cell_type": "code",
   "execution_count": 15,
   "id": "10a301fb",
   "metadata": {},
   "outputs": [
    {
     "name": "stdout",
     "output_type": "stream",
     "text": [
      "55\n"
     ]
    }
   ],
   "source": [
    "#parameterised and functional\n",
    "#paramaterised tha abhi tak \n",
    "\n",
    "def func(i,sum):\n",
    "    if i<1:\n",
    "        print(sum)\n",
    "        return\n",
    "    func(i-1,sum+i)\n",
    "func(10,0)"
   ]
  },
  {
   "cell_type": "code",
   "execution_count": 20,
   "id": "babc0345",
   "metadata": {},
   "outputs": [
    {
     "name": "stdout",
     "output_type": "stream",
     "text": [
      "55\n"
     ]
    }
   ],
   "source": [
    "#sum of 1 to N -: functional\n",
    "\n",
    "def func(n):\n",
    "    if n==1:\n",
    "        return 1\n",
    "    return n+func(n-1)\n",
    "ans=func(10)\n",
    "print(ans)\n",
    "#if 1000 func(1000) might not work 996 ki limit here 2971\n",
    "\n",
    "#functional waale se sum print not the number itself"
   ]
  },
  {
   "cell_type": "code",
   "execution_count": null,
   "id": "2776c960",
   "metadata": {},
   "outputs": [],
   "source": []
  }
 ],
 "metadata": {
  "kernelspec": {
   "display_name": "Python 3 (ipykernel)",
   "language": "python",
   "name": "python3"
  },
  "language_info": {
   "codemirror_mode": {
    "name": "ipython",
    "version": 3
   },
   "file_extension": ".py",
   "mimetype": "text/x-python",
   "name": "python",
   "nbconvert_exporter": "python",
   "pygments_lexer": "ipython3",
   "version": "3.11.5"
  }
 },
 "nbformat": 4,
 "nbformat_minor": 5
}
