{
 "cells": [
  {
   "cell_type": "code",
   "execution_count": 1,
   "id": "0ddb945f",
   "metadata": {},
   "outputs": [],
   "source": [
    "#lec1\n",
    "#time complexity\n",
    "#rate at which time taken increases with respect to input size\n"
   ]
  },
  {
   "cell_type": "code",
   "execution_count": 37,
   "id": "f915c832",
   "metadata": {},
   "outputs": [
    {
     "name": "stdout",
     "output_type": "stream",
     "text": [
      "7 8 9 3 5 \n",
      "7 8 9 3 5 \n",
      "4\n"
     ]
    }
   ],
   "source": [
    "#lec2\n",
    "#extraction of digits\n",
    "#53897\n",
    "import math\n",
    "n=53987\n",
    "b=n\n",
    "#brute force\n",
    "m=str(n) #time lega -: O(n)\n",
    "\n",
    "for i in range(len(m)-1,-1,-1):\n",
    "    print(m[i],end=' ')#O(n)\n",
    "#(O(2N)=>O(N))\n",
    "#O(N) S.C M =STR(N)\n",
    "print()\n",
    "#second way OPTIMAL -: O(log base (10) (N)) hai as N divide by 10 N is the number \n",
    "while (n!=0):\n",
    "    rem=n%10\n",
    "    n=n//10\n",
    "    \n",
    "    print(rem,end=' ')\n",
    "#kam hue jaa raha joh number se divide woh base\n",
    "#no of digits approx dega log base 10 se number; utni baar loop woh integer+1 baar for loop \n",
    "#no of digits wala number hi\n",
    "print()\n",
    "print((int(math.log10(b))))"
   ]
  },
  {
   "cell_type": "code",
   "execution_count": 39,
   "id": "0754f1cc",
   "metadata": {},
   "outputs": [
    {
     "name": "stdout",
     "output_type": "stream",
     "text": [
      "15\n"
     ]
    }
   ],
   "source": [
    "# 1 operation in 10^8 operation logic remember\n",
    "#import math ; math.sqrt()\n",
    "\n",
    "#sum of all divisors\n",
    "# way for optimal kitni baar number repeat hoga -: n//i times karke \n",
    "n=4\n",
    "ans=0\n",
    "for i in range(1,n+1):\n",
    "    ans+=i*(n//i)\n",
    "print(ans)\n"
   ]
  },
  {
   "cell_type": "code",
   "execution_count": null,
   "id": "cb86cdc8",
   "metadata": {},
   "outputs": [],
   "source": []
  }
 ],
 "metadata": {
  "kernelspec": {
   "display_name": "Python 3 (ipykernel)",
   "language": "python",
   "name": "python3"
  },
  "language_info": {
   "codemirror_mode": {
    "name": "ipython",
    "version": 3
   },
   "file_extension": ".py",
   "mimetype": "text/x-python",
   "name": "python",
   "nbconvert_exporter": "python",
   "pygments_lexer": "ipython3",
   "version": "3.11.5"
  }
 },
 "nbformat": 4,
 "nbformat_minor": 5
}
