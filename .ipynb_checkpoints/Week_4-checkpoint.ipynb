{
 "cells": [
  {
   "cell_type": "code",
   "execution_count": 13,
   "id": "b133c54c",
   "metadata": {},
   "outputs": [
    {
     "name": "stdout",
     "output_type": "stream",
     "text": [
      "[1, 2, 3, 1, 3, 4]\n",
      "[1, 2, 3, 1, 2, 3, 1, 2, 3, 1, 2, 3, 1, 2, 3]\n",
      "[0, 0, 0, 0, 0, 0, 0, 0, 0, 0]\n"
     ]
    }
   ],
   "source": [
    "#Lists operations\n",
    "\n",
    "lst1=[1,2,3]\n",
    "lst2=[1,3,4]\n",
    "#add \n",
    "res=lst1+lst2\n",
    "print(res)\n",
    "#add a no\n",
    "#res2=lst1+5 #can only concatenate list (not \"int\") to list\n",
    "#res2=lst1-5 # unsupported operand type(s) for -: 'list' and 'int'\n",
    "#res2=lst1/5 #unsupported operand type(s) for /: 'list' and 'int'\n",
    "res2=lst1*5 #can be done har cheez baar 5 times repeat\n",
    "#make a list jaha mein sab 0 10 times\n",
    "lst=[0]*10\n",
    "#multiply list to a list\n",
    "#print(lst1*lst2) #error,can't multiply sequence by non-int of type 'list'\n",
    "print(res2)\n",
    "print(lst)"
   ]
  },
  {
   "cell_type": "code",
   "execution_count": 18,
   "id": "b8bb78b7",
   "metadata": {},
   "outputs": [
    {
     "name": "stdout",
     "output_type": "stream",
     "text": [
      "55\n",
      "4374110144\n",
      "4374110144\n",
      "<class 'list'>\n",
      "4303055768\n",
      "<class 'int'>\n"
     ]
    }
   ],
   "source": [
    "#updating list\n",
    "#overwrite here\n",
    "\n",
    "my_list=[10,5,'harsh'] #list\n",
    "my_list=55 #overwrite not update #int ; data type hi change kardiya \n",
    "print(my_list)\n",
    "\n",
    "my_list=[10,5,'harsh']\n",
    "#ids of lists\n",
    "print(id(my_list)) #ek id hoti hai uss location ki throughout waise\n",
    "print(id(my_list)) #same aayegi\n",
    "print(type(my_list))\n",
    "my_list=55\n",
    "print(id(my_list))# value is changed that means new variablen hi create hogaya hai\n",
    "print(type(my_list))\n",
    "\n"
   ]
  },
  {
   "cell_type": "code",
   "execution_count": 21,
   "id": "04a86f0a",
   "metadata": {},
   "outputs": [
    {
     "name": "stdout",
     "output_type": "stream",
     "text": [
      "[10, 5]\n",
      "['harsh', 'harsh2']\n"
     ]
    }
   ],
   "source": [
    "#annotations sirf dikhane ke liye\n",
    "my_list:list=[10,5,'harsh'] #list with any thing\n",
    "my_list:list[int]=[10,5]\n",
    "print(my_list)\n",
    "\n",
    "# other way ; leetcode use karta hai ; module ka use\n",
    "from typing import List #list ;tuple; dictionary teeno import ; rem capital L List mein\n",
    "\n",
    "lst1:List[str]=['harsh','harsh2']\n",
    "print(lst1)\n",
    "\n"
   ]
  },
  {
   "cell_type": "code",
   "execution_count": 24,
   "id": "b2c25482",
   "metadata": {},
   "outputs": [
    {
     "name": "stdout",
     "output_type": "stream",
     "text": [
      "[10, 5, 'harsh']\n",
      "4372913856\n",
      "[100, 5, 'harsh']\n",
      "4372913856\n"
     ]
    }
   ],
   "source": [
    "#updating\n",
    "\n",
    "my_list=[10,5,'harsh']\n",
    "print(my_list)\n",
    "print(id(my_list))\n",
    "my_list[0]=100\n",
    "print(my_list)\n",
    "print(id(my_list)) #id remains same\n"
   ]
  },
  {
   "cell_type": "code",
   "execution_count": 27,
   "id": "a23ae2a9",
   "metadata": {},
   "outputs": [
    {
     "name": "stdout",
     "output_type": "stream",
     "text": [
      "[10, 5, 9, 10, 11, 3, 4]\n",
      "[0, 1, 1, 0, 1, 1, 0]\n"
     ]
    }
   ],
   "source": [
    "# even ko 0 odd ko 1 in a list ; similarly position ke liye a[i]%2==0 ki jagah i%2==0\n",
    "my_list=[10,5,9,10,11,3,4]\n",
    "print(my_list)\n",
    "\n",
    "for i in range(0,len(my_list)):\n",
    "    if(my_list[i]%2==0):\n",
    "        my_list[i]=0\n",
    "    else:\n",
    "        my_list[i]=1\n",
    "\n",
    "print(my_list)"
   ]
  },
  {
   "cell_type": "code",
   "execution_count": 28,
   "id": "f3fc5709",
   "metadata": {},
   "outputs": [
    {
     "name": "stdout",
     "output_type": "stream",
     "text": [
      "1 1\n"
     ]
    }
   ],
   "source": [
    "#pass_by_reference\n",
    "\n",
    "def change(a,b):\n",
    "    a=100\n",
    "    b=100\n",
    "\n",
    "a=1\n",
    "b=1\n",
    "change(a,b)\n",
    "print(a,b)\n",
    "\n",
    "#pass by value ;farak nahi padega usmein\n",
    "#int; FLOAT;strings are pass by value"
   ]
  },
  {
   "cell_type": "code",
   "execution_count": 31,
   "id": "b2067261",
   "metadata": {},
   "outputs": [
    {
     "name": "stdout",
     "output_type": "stream",
     "text": [
      "[100, 5, 2]\n"
     ]
    }
   ],
   "source": [
    "from typing import List\n",
    "\n",
    "def change(my_list:list):\n",
    "    my_list[0]=100\n",
    "\n",
    "xyz=[2,5,2]\n",
    "change(xyz)\n",
    "print(xyz)\n",
    "\n",
    "#pass by refernce hota hai\n",
    "#mutable mein-: list\n",
    "#xyz sends address apna my list and xyz pointing towards same ; id will be same\n"
   ]
  },
  {
   "cell_type": "code",
   "execution_count": 50,
   "id": "e28e1939",
   "metadata": {},
   "outputs": [
    {
     "name": "stdout",
     "output_type": "stream",
     "text": [
      "[2, 5, 2, 100]\n",
      "[-90, 2, 5, 2, 100]\n",
      "[-90, 2, 5, 92, 2, 100]\n",
      "[-90, 2, 5, 92, 2, 100, 22]\n",
      "[-90, 2, 5, 92, 2, 'harsh', 100, 22]\n",
      "[]\n"
     ]
    }
   ],
   "source": [
    "#methods ; specific data types ke saath\n",
    "#lists ke liye => \n",
    "\n",
    "#append;end mein daalna\n",
    "\n",
    "xyz=[2,5,2]\n",
    "xyz.append(100)\n",
    "print(xyz)\n",
    "\n",
    "#insert-: in btw daalna\n",
    "\n",
    "xyz.insert(0,-90)\n",
    "print(xyz)\n",
    "\n",
    "xyz.insert(3,92) #shift karega \n",
    "print(xyz)\n",
    "\n",
    "xyz.insert(10,22) #bahar toh end mein\n",
    "print(xyz)\n",
    "\n",
    "xyz.insert(-2,'harsh')\n",
    "print(xyz)\n",
    "\n",
    "\n",
    "\n",
    "#clear\n",
    "xyz.clear()#list empty\n",
    "print(xyz)\n",
    "\n",
    "#count (no of occurence ka value return)\n",
    "\n"
   ]
  },
  {
   "cell_type": "code",
   "execution_count": 62,
   "id": "003d110d",
   "metadata": {},
   "outputs": [
    {
     "name": "stdout",
     "output_type": "stream",
     "text": [
      "2\n",
      "[2, 5, 2, 100, [2, 3, 4]]\n",
      "[2, 5, 2, 100, [2, 3, 4], 2, 3, 4]\n",
      "[4, 3, 2, [2, 3, 4], 100, 2, 5, 2]\n",
      "[12, 19, 23, 43, 54, 82, 89]\n",
      "[89, 82, 54, 43, 23, 19, 12]\n",
      "[89, 82, 54, 43, 23, 19, 12]\n",
      "['banana', 'harsh', 'uttam']\n"
     ]
    }
   ],
   "source": [
    "xyz=[2,5,2]\n",
    "\n",
    "print(xyz.count(2)) \n",
    "\n",
    "xyz.append(100)\n",
    "xyz.append([2,3,4]) #list ke andar list\n",
    "print(xyz) \n",
    "xyz.extend([2,3,4]) #list ke andar just extend karta hai ; iterable hai list hai ; \n",
    "# + operator jaise but + se tuple nahi kar payenge extend se karta hai\n",
    "print(xyz)\n",
    "\n",
    "xyz.reverse() #ulta kardenge poora\n",
    "print(xyz)\n",
    "\n",
    "#xyz.sort() #error dega if string ya list ho toh ; sab integer ya \n",
    "#print(xyz)\n",
    "\n",
    "#sort\n",
    "abc=[43,89,19,82,54,23,12]\n",
    "abc.sort()\n",
    "print(abc)\n",
    "\n",
    "abc=[43,89,19,82,54,23,12]\n",
    "abc.sort(reverse=True) #for descending\n",
    "print(abc)\n",
    "\n",
    "#another way\n",
    "abc=[43,89,19,82,54,23,12]\n",
    "abc.sort() \n",
    "abc.reverse()\n",
    "print(abc)\n",
    "\n",
    "temp=['harsh','uttam','banana'] #sorts using ascii values\n",
    "temp.sort()\n",
    "print(temp)"
   ]
  },
  {
   "cell_type": "code",
   "execution_count": 74,
   "id": "81815417",
   "metadata": {},
   "outputs": [
    {
     "name": "stdout",
     "output_type": "stream",
     "text": [
      "[43, 89, 19, 82, 54, 23]\n",
      "[43, 89, 19, 54, 23]\n",
      "[43, 89, 54, 23]\n",
      "[43, 54, 23]\n"
     ]
    }
   ],
   "source": [
    "# pop,remove,index \n",
    "\n",
    "# pop karte hai woh nikalta hai woh saath mein return bhi karta hai\n",
    "abc=[43,89,19,82,54,23,12]\n",
    "abc.pop() #last wala pop kardega\n",
    "print(abc)\n",
    "abc.pop(3)#remove by index\n",
    "print(abc)\n",
    "#abc.pop(45) #index error\n",
    "\n",
    "#remove by value karta hai\n",
    "abc.remove(19) #removes the first occurance ;doesn't return anything\n",
    "print(abc)\n",
    "\n",
    "\n",
    "#del -:kisi mein bhi(dict etc) by pos ; not method ; function\n",
    "del abc[1]\n",
    "print(abc)\n",
    "#del abc # ab poora list delete\n",
    "#print(abc) #NameError: name 'abc' is not defined\n"
   ]
  },
  {
   "cell_type": "markdown",
   "id": "c86d15d1",
   "metadata": {},
   "source": [
    "## assignment"
   ]
  },
  {
   "cell_type": "code",
   "execution_count": 77,
   "id": "c9bbaee9",
   "metadata": {},
   "outputs": [
    {
     "name": "stdout",
     "output_type": "stream",
     "text": [
      "[3, 5] [2, 4, 6, 8]\n"
     ]
    }
   ],
   "source": [
    "'''\n",
    "Make a list of your own. Make two more empty list like odd and even.\n",
    "Put all the even numbers from original list to even and odd numbers to odd and print both lists. \n",
    "(Don't remove anything from original one).\n",
    "'''\n",
    "\n",
    "l=[2,3,4,5,6,8]\n",
    "odd=[]\n",
    "eve=[]\n",
    "for i in l: #by value\n",
    "    if i%2==0:\n",
    "        eve.append(i)\n",
    "    else:\n",
    "        odd.append(i)\n",
    "print(odd,eve)"
   ]
  },
  {
   "cell_type": "code",
   "execution_count": 78,
   "id": "23b44a8d",
   "metadata": {},
   "outputs": [],
   "source": [
    "'''\n",
    "Q2. Write a function to remove duplicates from a list and print them.\n",
    "'''\n",
    "l=[2,3,4,5,6,8]"
   ]
  },
  {
   "cell_type": "code",
   "execution_count": null,
   "id": "56f091cc",
   "metadata": {},
   "outputs": [],
   "source": []
  },
  {
   "cell_type": "code",
   "execution_count": null,
   "id": "3be2d1be",
   "metadata": {},
   "outputs": [],
   "source": []
  },
  {
   "cell_type": "code",
   "execution_count": null,
   "id": "a5cea193",
   "metadata": {},
   "outputs": [],
   "source": []
  },
  {
   "cell_type": "markdown",
   "id": "dc82ebe8",
   "metadata": {},
   "source": [
    "## Day 2"
   ]
  },
  {
   "cell_type": "code",
   "execution_count": 89,
   "id": "34137f47",
   "metadata": {},
   "outputs": [
    {
     "name": "stdout",
     "output_type": "stream",
     "text": [
      "no\n",
      "True\n"
     ]
    }
   ],
   "source": [
    "#membership operators\n",
    "#in or not in\n",
    "\n",
    "l=[2,3,4,5,6,8]\n",
    "x=1\n",
    "y=2\n",
    "'''\n",
    "way 1\n",
    "for i in l:\n",
    "    if x==i:\n",
    "        print('yes')\n",
    "        break\n",
    "        \n",
    "'''\n",
    "\n",
    "'''\n",
    "way 2\n",
    "if l.count(x)>=1:\n",
    "    print('yes')\n",
    "'''\n",
    "#membership -: returns true ya false\n",
    "if x in l:\n",
    "    print(\"yes\")\n",
    "else:\n",
    "    print(\"no\")\n",
    "\n",
    "#ulta bhi\n",
    "if y not in l:\n",
    "    print(False)\n",
    "else:\n",
    "    print(True)"
   ]
  },
  {
   "cell_type": "code",
   "execution_count": 103,
   "id": "bb0efb0d",
   "metadata": {},
   "outputs": [
    {
     "name": "stdout",
     "output_type": "stream",
     "text": [
      "[1, 3, 4, 4, 6, 8, 2, 2]\n"
     ]
    }
   ],
   "source": [
    "#remove duplicates ; can contain duplicates\n",
    "'''\n",
    "l=[2,3,4,2,6,8]\n",
    "x=2\n",
    "for i in range(0,len(l)):\n",
    "    if l[i]==x: \n",
    "        l.pop(i) # modifying length problematic #cannot modify length aise in the length\n",
    "        # remove kar bhi dega but length ghat gayi ; but for loop poora jaayega \n",
    "        # IndexError: list index out of range\n",
    "\n",
    "        \n",
    "print(l)\n",
    "'''\n",
    "#other way\n",
    "l=[1,2,2,2,3,4,4,2,6,2,8,2,2]\n",
    " # 0,1,2,3,4,5,6,7,8,9,10,11,12\n",
    "    \n",
    "\n",
    "#internally by index jaayega\n",
    "x=2\n",
    "for num in l:\n",
    "    if num==x: \n",
    "        l.remove(num) #removes first index\n",
    "'''\n",
    "still problem hai \n",
    "l=[1,2,2,2,3,4,4,2,6,2,8,2,2]\n",
    " # 0,1,2,3,4,5,6,7,8,9,10,11,12\n",
    " \n",
    "#0\n",
    "#1\n",
    "[1,2,2,3,4,4,2,6,2,8,2,2]\n",
    "#2 removes first occurance\n",
    "[1,2,3,4,4,2,6,2,8,2,2]\n",
    "#3 \n",
    "#4\n",
    "#5 removes first ocurance\n",
    "[1,3,4,4,2,6,2,8,2,2]\n",
    "#6 removes first ocurance\n",
    "[1,3,4,4,6,2,8,2,2]\n",
    "as follow up hoga wierd behaviour show hoga\n",
    "'''\n",
    "print(l)\n",
    "\n",
    "\n",
    "        "
   ]
  },
  {
   "cell_type": "code",
   "execution_count": 104,
   "id": "c5b03a55",
   "metadata": {},
   "outputs": [
    {
     "name": "stdout",
     "output_type": "stream",
     "text": [
      "[1, 3, 4, 4, 6, 8]\n"
     ]
    }
   ],
   "source": [
    "#remove duplicates\n",
    "#another varible result\n",
    "#correct way\n",
    "\n",
    "l=[1,2,2,2,3,4,4,2,6,2,8,2,2]\n",
    "    \n",
    "\n",
    "#internally by index jaayega\n",
    "x=2\n",
    "result=[]\n",
    "for num in l:\n",
    "    if num!=x:\n",
    "        result.append(num)\n",
    "print(result)\n",
    "\n"
   ]
  },
  {
   "cell_type": "code",
   "execution_count": 109,
   "id": "ad271b47",
   "metadata": {},
   "outputs": [
    {
     "name": "stdout",
     "output_type": "stream",
     "text": [
      "[1, 2, 3, 4, 6, 8]\n"
     ]
    }
   ],
   "source": [
    "#saare duplicates remove\n",
    "#proper way \n",
    "\n",
    "l=[1,2,2,2,3,4,4,2,6,2,8,2,2]\n",
    "    \n",
    "\n",
    "#internally by index jaayega\n",
    "x=2\n",
    "result=[]\n",
    "n=len(l)\n",
    "for i in range(0,n):\n",
    "    num=l[i]\n",
    "    if num not in result:\n",
    "        result.append(num)\n",
    "print(result)\n",
    "\n",
    "#o(n^2) complexity\n",
    "# so complexity reduce ho jaayegi set se\n",
    "# dsa mein with out other list ke"
   ]
  },
  {
   "cell_type": "code",
   "execution_count": 132,
   "id": "c5d845bd",
   "metadata": {},
   "outputs": [
    {
     "name": "stdout",
     "output_type": "stream",
     "text": [
      "[54, 64, 59]\n",
      "[64, 12, 44, 10]\n",
      "[]\n",
      "[44, 33, 12]\n",
      "[64, 59, 12]\n",
      "[12, 33, 44, 33, 10]\n",
      "[12, 33, 44, 33, 10]\n",
      "[12, 59, 64, 54]\n",
      "[54, 64, 59, 12, 33, 44, 33, 10]\n",
      "[10, 33, 44, 33, 12, 59, 64, 54]\n"
     ]
    }
   ],
   "source": [
    "#list slicing\n",
    "\n",
    "'''\n",
    "#manually \n",
    "l=[1,2,19,2,3,4,4,2,6,2,8,2,2]\n",
    "result=[]\n",
    "for i in range(0,3):\n",
    "    result.append(l[i])\n",
    "print(result)\n",
    "'''\n",
    "\n",
    "# arr[start:end:step]\n",
    "#if step +ve aage else peeche (end-1) tak karega as in for #just like for loop\n",
    "#by default 1 step\n",
    "\n",
    "l=[54,64,59,12,33,44,33,10]\n",
    "result=l[0:3]\n",
    "print(result)\n",
    "print(l[1:8:2])\n",
    "print(l[2:5:-2]) #empty array\n",
    "print(l[5:2:-1])\n",
    "print(l[-7:-4])\n",
    "print(l[3:len(l)])\n",
    "print(l[3:])#3 se end tak\n",
    "print(l[3::-1]) #ulta starting tak from 3rd index\n",
    "print(l[:]) #start to end l to r\n",
    "print(l[::-1]) #reverse array r to l"
   ]
  },
  {
   "cell_type": "code",
   "execution_count": 2,
   "id": "cab8cdec",
   "metadata": {},
   "outputs": [
    {
     "name": "stdout",
     "output_type": "stream",
     "text": [
      "[1, 2, 3, 4, 5, 6, 7, 8, 9]\n",
      "[6, 7, 8, 9, 10, 11, 12, 13, 14]\n"
     ]
    }
   ],
   "source": [
    "#create a new lists\n",
    "result=[]\n",
    "for i in range(1,10):\n",
    "    result.append(i)\n",
    "print(result)\n",
    "\n",
    "\n",
    "result=[]\n",
    "for i in range(1,10):\n",
    "    result.append(i+5)\n",
    "print(result)"
   ]
  },
  {
   "cell_type": "code",
   "execution_count": 8,
   "id": "b188b7a7",
   "metadata": {},
   "outputs": [
    {
     "name": "stdout",
     "output_type": "stream",
     "text": [
      "[1, 2, 3, 4, 5, 6, 7, 8, 9, 10]\n",
      "[6, 7, 8, 9, 10, 11, 12, 13, 14, 15]\n",
      "[4, 5, 6, 7, 8, 9, 10, 11, 12, 13, 14, 15, 16, 17, 18, 19, 20, 21, 22]\n"
     ]
    }
   ],
   "source": [
    "# list comphrehension\n",
    "\n",
    "result=[i for i in range(1,11)]\n",
    "print (result)\n",
    "\n",
    "result=[i+5 for i in range(1,11)]\n",
    "print (result)\n",
    "\n",
    "start=4\n",
    "end=22\n",
    "result=[i for i in range(start,end+1)]\n",
    "print (result)"
   ]
  },
  {
   "cell_type": "code",
   "execution_count": 12,
   "id": "7ca77bd8",
   "metadata": {},
   "outputs": [
    {
     "name": "stdout",
     "output_type": "stream",
     "text": [
      "[False, True, False, True, False, True, False, True, False]\n",
      "[False, True, False, True, False, True, False, True, False, True]\n"
     ]
    }
   ],
   "source": [
    "\n",
    "result=[]\n",
    "for i in range(1,10):\n",
    "    result.append(i%2==0)\n",
    "print(result)\n",
    "\n",
    "result=[i%2==0 for i in range(1,11)]\n",
    "print (result)"
   ]
  },
  {
   "cell_type": "code",
   "execution_count": 27,
   "id": "a65ca630",
   "metadata": {},
   "outputs": [
    {
     "name": "stdout",
     "output_type": "stream",
     "text": [
      "['odd', 'even', 'odd', 'even', 'odd', 'even', 'odd', 'even', 'odd']\n",
      "['odd', 'Even', 'odd', 'Even', 'odd', 'Even', 'odd', 'Even', 'odd']\n"
     ]
    }
   ],
   "source": [
    "result=[]\n",
    "for i in range(1,10):\n",
    "    if i%2==0:\n",
    "        result.append(\"even\")\n",
    "    else:\n",
    "        result.append(\"odd\")\n",
    "print(result)\n",
    "\n",
    "#else is compulsory here\n",
    "result=[\"Even\" if i%2==0 else \"odd\" for i in range(1,10)] #kya add karna hai aage \n",
    "print (result)\n",
    "\n",
    "#error\n",
    "\n",
    "#result=[\"Even\" if i%2==0 else pass for i in range(1,10)] #kya add karna hai aage \n",
    "#print (result)\n"
   ]
  },
  {
   "cell_type": "code",
   "execution_count": 26,
   "id": "e3f8f215",
   "metadata": {},
   "outputs": [
    {
     "name": "stdout",
     "output_type": "stream",
     "text": [
      "[2, 4, 6, 8]\n"
     ]
    }
   ],
   "source": [
    "#make a list with even no only\n",
    "\n",
    "result=[i for i in range(1,10) if i%2==0] #kab add karna hai piche\n",
    "print (result)\n",
    "\n"
   ]
  },
  {
   "cell_type": "code",
   "execution_count": 31,
   "id": "5bf33090",
   "metadata": {},
   "outputs": [
    {
     "name": "stdout",
     "output_type": "stream",
     "text": [
      "[234, 1930, 232, 44]\n"
     ]
    }
   ],
   "source": [
    "arr=[\"234\",1930,232,44]\n",
    "result=[int(i) for i in arr]\n",
    "print(result)"
   ]
  },
  {
   "cell_type": "code",
   "execution_count": 40,
   "id": "5e038495",
   "metadata": {},
   "outputs": [
    {
     "name": "stdout",
     "output_type": "stream",
     "text": [
      "[23, 13, 53, 19]\n"
     ]
    }
   ],
   "source": [
    "#prime using list comprehension\n",
    "def isprime(n):\n",
    "    for i in range(2,int(n**0.5)+1):\n",
    "        if n%i==0:\n",
    "            return False\n",
    "    return True\n",
    "l=[4,16,23,13,53,24,19]\n",
    "\n",
    "result=[i for i in l if isprime(i)]\n",
    "print(result)\n"
   ]
  },
  {
   "cell_type": "markdown",
   "id": "43fa4a8d",
   "metadata": {},
   "source": [
    "# Day 3- Tuples"
   ]
  },
  {
   "cell_type": "code",
   "execution_count": 46,
   "id": "7e28bfe3",
   "metadata": {},
   "outputs": [
    {
     "name": "stdout",
     "output_type": "stream",
     "text": [
      "('a', 'bc', 45, 55.55)\n",
      "a\n"
     ]
    },
    {
     "ename": "TypeError",
     "evalue": "'tuple' object does not support item assignment",
     "output_type": "error",
     "traceback": [
      "\u001b[0;31m---------------------------------------------------------------------------\u001b[0m",
      "\u001b[0;31mTypeError\u001b[0m                                 Traceback (most recent call last)",
      "Cell \u001b[0;32mIn[46], line 7\u001b[0m\n\u001b[1;32m      5\u001b[0m \u001b[38;5;28mprint\u001b[39m(my_tuple[\u001b[38;5;241m0\u001b[39m])\n\u001b[1;32m      6\u001b[0m \u001b[38;5;66;03m#immutables\u001b[39;00m\n\u001b[0;32m----> 7\u001b[0m my_tuple[\u001b[38;5;241m0\u001b[39m]\u001b[38;5;241m=\u001b[39m\u001b[38;5;241m12\u001b[39m\n",
      "\u001b[0;31mTypeError\u001b[0m: 'tuple' object does not support item assignment"
     ]
    }
   ],
   "source": [
    "#() used for denoting\n",
    "my_tuple=(\"a\",\"bc\",45,55.55)\n",
    "print(my_tuple)\n",
    "\n",
    "print(my_tuple[0])\n",
    "#immutables\n",
    "#my_tuple[0]=12 #'tuple' object does not support item assignment\n"
   ]
  },
  {
   "cell_type": "code",
   "execution_count": 52,
   "id": "57723f51",
   "metadata": {},
   "outputs": [
    {
     "name": "stdout",
     "output_type": "stream",
     "text": [
      "2\n",
      "1\n"
     ]
    }
   ],
   "source": [
    "#immutable so very less methods\n",
    "#count and index\n",
    "my_tuple=(\"a\",45,55.55,45)\n",
    "print(my_tuple.count(45))\n",
    "print(my_tuple.index(45))\n",
    "#print(my_tuple.index(100)) #ValueError: tuple.index(x): x not in tuple\n"
   ]
  },
  {
   "cell_type": "code",
   "execution_count": 64,
   "id": "eee3b646",
   "metadata": {},
   "outputs": [
    {
     "name": "stdout",
     "output_type": "stream",
     "text": [
      "('a', 45, 55.55, 45)\n",
      "45\n",
      "a 45 55.55 45 \n",
      "a 45 55.55 45 "
     ]
    }
   ],
   "source": [
    "#tuple iteration\n",
    "\n",
    "my_tuple=(\"a\",45,55.55,45)\n",
    "print(my_tuple)\n",
    "print(my_tuple[-1])\n",
    "#via index\n",
    "for i in range(0,len(my_tuple)):\n",
    "    print(my_tuple[i],end=' ')\n",
    "print()\n",
    "#via value   \n",
    "for num in my_tuple:\n",
    "    print(num,end=' ')"
   ]
  },
  {
   "cell_type": "code",
   "execution_count": 67,
   "id": "08ca099e",
   "metadata": {},
   "outputs": [
    {
     "name": "stdout",
     "output_type": "stream",
     "text": [
      "4369974832\n",
      "4369164272\n",
      "('a', 45, 55.55, 45, 55)\n"
     ]
    }
   ],
   "source": [
    "#indirect way of appending mutate\n",
    "\n",
    "my_tuple=(\"a\",45,55.55,45)\n",
    "print(id(my_tuple))\n",
    "a=list(my_tuple)\n",
    "a.append(55)\n",
    "\n",
    "my_tuple=tuple(a)\n",
    "print(id(my_tuple)) #id changes\n",
    "\n",
    "print(my_tuple)"
   ]
  },
  {
   "cell_type": "code",
   "execution_count": 73,
   "id": "f241dd60",
   "metadata": {},
   "outputs": [
    {
     "name": "stdout",
     "output_type": "stream",
     "text": [
      "(10, 23, 53, 23, 19, 34)\n",
      "<class 'tuple'>\n",
      "10\n",
      "<class 'int'>\n",
      "10\n",
      "<class 'int'>\n",
      "(10,)\n",
      "<class 'tuple'>\n"
     ]
    }
   ],
   "source": [
    "a=10,23,53,23,19,34 #is a tuple\n",
    "print(a)\n",
    "print(type(a))\n",
    "\n",
    "b=10\n",
    "print(b)\n",
    "print(type(b))\n",
    "\n",
    "c=(10) #still int\n",
    "print(c)\n",
    "print(type(c))\n",
    "\n",
    "d=(10,)#aise karke\n",
    "print(d)\n",
    "print(type(d))"
   ]
  },
  {
   "cell_type": "code",
   "execution_count": 77,
   "id": "c3de8999",
   "metadata": {},
   "outputs": [
    {
     "name": "stdout",
     "output_type": "stream",
     "text": [
      "12 <class 'int'>\n",
      "42 <class 'int'>\n",
      "13 <class 'int'>\n",
      "\n",
      "12 <class 'int'>\n",
      "42 <class 'int'>\n",
      "13 <class 'int'>\n"
     ]
    }
   ],
   "source": [
    "#unpacking\n",
    "\n",
    "a,b,c=[12,42,13]\n",
    "print(a,type(a))\n",
    "print(b,type(b))\n",
    "print(c,type(c))\n",
    "\n",
    "print()\n",
    "\n",
    "a,b,c=(12,42,13)\n",
    "print(a,type(a))\n",
    "print(b,type(b))\n",
    "print(c,type(c))\n",
    "\n",
    "#both tuples onli"
   ]
  },
  {
   "cell_type": "code",
   "execution_count": 80,
   "id": "a6abb593",
   "metadata": {},
   "outputs": [
    {
     "name": "stdout",
     "output_type": "stream",
     "text": [
      "20\n",
      "10\n"
     ]
    }
   ],
   "source": [
    "#unpacking\n",
    "#error to many values to unpack\n",
    "'''\n",
    "a,b,c=[12,42,13,23,323]\n",
    "print(a,type(a))\n",
    "print(b,type(b))\n",
    "print(c,type(c))\n",
    "\n",
    "print()\n",
    "'''\n",
    "\n",
    "#swaping is unpacking only\n",
    "x=10\n",
    "y=20\n",
    "\n",
    "x,y=y,x\n",
    "\n",
    "print(x)\n",
    "print(y)"
   ]
  },
  {
   "cell_type": "markdown",
   "id": "ff109373",
   "metadata": {},
   "source": [
    "## Strings"
   ]
  },
  {
   "cell_type": "code",
   "execution_count": 93,
   "id": "665db537",
   "metadata": {},
   "outputs": [
    {
     "name": "stdout",
     "output_type": "stream",
     "text": [
      "hello world\n",
      "<class 'str'>\n",
      "11\n",
      "h\n",
      "e\n",
      "l\n",
      "l\n",
      "hello world\n",
      "hello world\n",
      "dlrow olleh"
     ]
    }
   ],
   "source": [
    "#strings\n",
    "\n",
    "a='hello world'\n",
    "print(a)\n",
    "print(type(a))\n",
    "\n",
    "#immutable\n",
    "#a[2]='e' #error 'str' object does not support item assignment\n",
    "\n",
    "print(len(a))\n",
    "print(a[0])\n",
    "print(a[1])\n",
    "print(a[2])\n",
    "print(a[3])\n",
    "\n",
    "#via index\n",
    "for index in range(len(a)):\n",
    "    print (a[index],end='')\n",
    "print()\n",
    "#via value\n",
    "for ch in a:\n",
    "    print(ch,end='')\n",
    "print()    \n",
    "#reverse order\n",
    "for index in range(len(a)-1,0-1,-1):\n",
    "    print(a[index],end='')"
   ]
  },
  {
   "cell_type": "code",
   "execution_count": 95,
   "id": "42a2dcd2",
   "metadata": {},
   "outputs": [
    {
     "name": "stdout",
     "output_type": "stream",
     "text": [
      "a\n",
      "b\n",
      "c\n"
     ]
    }
   ],
   "source": [
    "#unpacking for strings\n",
    "\n",
    "x,y,z=\"abc\"\n",
    "\n",
    "print(x)\n",
    "print(y)\n",
    "print(z)"
   ]
  },
  {
   "cell_type": "code",
   "execution_count": 99,
   "id": "ad485221",
   "metadata": {},
   "outputs": [
    {
     "name": "stdout",
     "output_type": "stream",
     "text": [
      "dlrow olleh\n",
      "ello\n",
      " oll\n",
      "hlowrd\n"
     ]
    }
   ],
   "source": [
    "#slicing\n",
    "a='hello world'\n",
    "print(a[::-1])\n",
    "print(a[1:5])\n",
    "print(a[5:1:-1])\n",
    "print(a[::2])\n"
   ]
  },
  {
   "cell_type": "code",
   "execution_count": 103,
   "id": "7de70e46",
   "metadata": {},
   "outputs": [
    {
     "name": "stdout",
     "output_type": "stream",
     "text": [
      "dlrow olleh\n",
      "dlrow olleh"
     ]
    }
   ],
   "source": [
    "#reverse order\n",
    "a='hello world'\n",
    "x=a[::-1]\n",
    "for char in x:\n",
    "    print(char,end='')\n",
    "print()\n",
    "#same as above direct\n",
    "for char in a[::-1]:\n",
    "    print(char,end='')"
   ]
  },
  {
   "cell_type": "code",
   "execution_count": 106,
   "id": "c07a86de",
   "metadata": {},
   "outputs": [
    {
     "name": "stdout",
     "output_type": "stream",
     "text": [
      "5\n"
     ]
    }
   ],
   "source": [
    "#count no of o's\n",
    "#both caps and not caps O\n",
    "c=0\n",
    "a=\"Helllooo woOrld\"\n",
    "for i in a:\n",
    "    if i=='o' or i=='O':\n",
    "        c+=1\n",
    "print(c)"
   ]
  },
  {
   "cell_type": "code",
   "execution_count": 136,
   "id": "3f887b74",
   "metadata": {},
   "outputs": [
    {
     "name": "stdout",
     "output_type": "stream",
     "text": [
      "HelLloOo woOrld\n",
      "4370879536\n",
      "helllooo woorld\n",
      "4370302704\n",
      "helllooo woorld\n",
      "HELLLOOO WOORLD\n",
      "Helllooo Woorld\n",
      "Helllooo woorld\n",
      "AnIRUdH\n",
      "True\n",
      "False\n",
      "True\n",
      "False\n",
      "True\n",
      "True\n"
     ]
    }
   ],
   "source": [
    "#string methods\n",
    "#many methods 25 tak\n",
    "a=\"HelLloOo woOrld\"\n",
    "a.lower()\n",
    "print(a)\n",
    "print(id(a))\n",
    "#not changing a as immutable save in another\n",
    "b=a.lower()\n",
    "print(b)\n",
    "\n",
    "a=a.lower() #gives you another string joh ek alag mein jaayegi\n",
    "print(id(a))\n",
    "print(a)\n",
    "\n",
    "c=a.upper()\n",
    "print(c)\n",
    "\n",
    "d=a.title() #onli pehla letter captial of each word\n",
    "print(d)\n",
    "\n",
    "e=a.capitalize()#only pehla letter poori string ka\n",
    "print(e)\n",
    "x='aNiruDh'\n",
    "\n",
    "f=x.swapcase() #just ulta capital to lower and lower to cap\n",
    "print(f)\n",
    "\n",
    "x=\"124dvfa\"\n",
    "y=\"anirudg\"\n",
    "z=\"ANIRUDH\"\n",
    "xyz=\"1234\"\n",
    "\n",
    "print(x.islower())\n",
    "print(z.islower())\n",
    "print(z.isupper())\n",
    "print(x.isalpha()) #all alphabets\n",
    "print(x.isalnum()) #alpha+nums\n",
    "print(xyz.isdigit())"
   ]
  },
  {
   "cell_type": "code",
   "execution_count": 138,
   "id": "b7ed8e61",
   "metadata": {},
   "outputs": [
    {
     "name": "stdout",
     "output_type": "stream",
     "text": [
      "enter something4\n",
      "enter something 2afdf\n",
      "4afdf\n"
     ]
    }
   ],
   "source": [
    "#ques \n",
    "#input a 2 strings if 2 numbers int add else concadenate\n",
    "\n",
    "a=input(\"enter something\")\n",
    "b=input(\"enter something 2\")\n",
    "if(a.isdigit() and b.isdigit()):\n",
    "    c=int(a)+int(b)\n",
    "else:\n",
    "    c=a+b\n",
    "print(c)\n",
    "    "
   ]
  },
  {
   "cell_type": "code",
   "execution_count": 142,
   "id": "02279c4a",
   "metadata": {},
   "outputs": [
    {
     "name": "stdout",
     "output_type": "stream",
     "text": [
      "n= ?2\n",
      "[2, 5]\n"
     ]
    }
   ],
   "source": [
    "#w4 a3 q3\n",
    "\n",
    "list2=[2,45,2,5]\n",
    "n=int(input(\"n= ?\"))\n",
    "length=len(list2)\n",
    "l2=list2[length-1:length-n-1:-1]\n",
    "l2.reverse()\n",
    "print(l2)"
   ]
  },
  {
   "cell_type": "markdown",
   "id": "c7ef105c",
   "metadata": {},
   "source": [
    "## Day 4"
   ]
  },
  {
   "cell_type": "code",
   "execution_count": 147,
   "id": "297bb8e5",
   "metadata": {},
   "outputs": [
    {
     "name": "stdout",
     "output_type": "stream",
     "text": [
      "97\n",
      "32\n",
      "65\n",
      "48\n"
     ]
    }
   ],
   "source": [
    "#ascii\n",
    "\n",
    "#ord is used to convert\n",
    "\n",
    "char='a'\n",
    "print(ord(char))\n",
    "char=' '\n",
    "print(ord(char))\n",
    "char='A'\n",
    "print(ord(char))\n",
    "char='0'\n",
    "print(ord(char))"
   ]
  },
  {
   "cell_type": "code",
   "execution_count": 152,
   "id": "911dba12",
   "metadata": {},
   "outputs": [
    {
     "name": "stdout",
     "output_type": "stream",
     "text": [
      "5\n",
      "5\n"
     ]
    }
   ],
   "source": [
    "#count the number of digits\n",
    "char='abcdfefgsjfnfbb vnjasj32123'\n",
    "c=0\n",
    "for i in char:\n",
    "    if(i.isdigit()):\n",
    "        c+=1\n",
    "        \n",
    "print(c)\n",
    "\n",
    "#ascii way\n",
    "char='abcdfefgsjfnfbb vnjasj32123'\n",
    "c=0\n",
    "for i in char:\n",
    "    if(ord(i)>=48 and ord(i)<=57):\n",
    "        c+=1\n",
    "        \n",
    "print(c)"
   ]
  },
  {
   "cell_type": "code",
   "execution_count": 157,
   "id": "0e697398",
   "metadata": {},
   "outputs": [
    {
     "name": "stdout",
     "output_type": "stream",
     "text": [
      "6\n",
      "5\n",
      "10\n",
      "5\n",
      "12\n"
     ]
    }
   ],
   "source": [
    "#\n",
    "\n",
    "char = \"Hhj4388*8$*#(     AMNUuda1218*(^S#*8))\"\n",
    "abc='aB2 3@'\n",
    "caps=0\n",
    "small=0\n",
    "special=0\n",
    "digit=0\n",
    "space=0\n",
    "for i in char:\n",
    "    ch=ord(i)\n",
    "    if(ch==ord(' ')):\n",
    "        space+=1\n",
    "    elif(ch>=48 and ch<=57):\n",
    "        digit+=1\n",
    "    elif(ch>=97 and ch<=122):\n",
    "        small+=1\n",
    "    elif(ch>=65 and ch<=90):\n",
    "        caps+=1\n",
    "    else:\n",
    "        special+=1\n",
    "        \n",
    "print(caps)\n",
    "print(space)\n",
    "print(digit)\n",
    "print(small)\n",
    "print(special)"
   ]
  },
  {
   "cell_type": "code",
   "execution_count": 162,
   "id": "3694e4f7",
   "metadata": {},
   "outputs": [
    {
     "name": "stdout",
     "output_type": "stream",
     "text": [
      "True\n",
      "True\n",
      "False\n"
     ]
    }
   ],
   "source": [
    "#other way\n",
    "\n",
    "# print('a'>60) #error\n",
    "print('a'>'A') #converts apne aap implicit\n",
    "print('anirudh'>'anig') #letter by letter r and g compare r>g 114>103\n",
    "print('aniR'>'anir')\n"
   ]
  },
  {
   "cell_type": "code",
   "execution_count": 164,
   "id": "144ad6a9",
   "metadata": {},
   "outputs": [
    {
     "name": "stdout",
     "output_type": "stream",
     "text": [
      "6\n",
      "5\n",
      "10\n",
      "5\n",
      "12\n"
     ]
    }
   ],
   "source": [
    "char = \"Hhj4388*8$*#(     AMNUuda1218*(^S#*8))\"\n",
    "abc='aB2 3@'\n",
    "caps=0\n",
    "small=0\n",
    "special=0\n",
    "digit=0\n",
    "space=0\n",
    "for i in char:\n",
    "    if(i==' '):\n",
    "        space+=1\n",
    "    elif('0'<=i<='9'):\n",
    "        digit+=1\n",
    "    elif('a'<=i<='z'):\n",
    "        small+=1\n",
    "    elif('A'<=i<='Z'):\n",
    "        caps+=1\n",
    "    else:\n",
    "        special+=1\n",
    "        \n",
    "print(caps)\n",
    "print(space)\n",
    "print(digit)\n",
    "print(small)\n",
    "print(special)"
   ]
  },
  {
   "cell_type": "code",
   "execution_count": 171,
   "id": "8e3df45b",
   "metadata": {},
   "outputs": [
    {
     "name": "stdout",
     "output_type": "stream",
     "text": [
      "enter chara\n",
      "enter chard\n",
      "enter charf\n",
      "enter charq\n",
      "adf\n"
     ]
    }
   ],
   "source": [
    "'''\n",
    "taking input char\n",
    "until q presed\n",
    "'''\n",
    "ans=''\n",
    "# ans+='s' ans ka dusra id banta hai\n",
    "while(True):\n",
    "    x=input(\"enter char\")\n",
    "    if(x=='q' or x=='Q'):\n",
    "    #if x in ['q','Q']:  another way\n",
    "        break\n",
    "    ans+=x\n",
    "\n",
    "print(ans)"
   ]
  },
  {
   "cell_type": "code",
   "execution_count": null,
   "id": "067f26db",
   "metadata": {},
   "outputs": [],
   "source": [
    "a=[]#empty list\n",
    "a=list() #another way of making\n",
    "\n",
    "a=int()\n",
    "b=str()"
   ]
  },
  {
   "cell_type": "code",
   "execution_count": 179,
   "id": "fb5bfad6",
   "metadata": {},
   "outputs": [
    {
     "name": "stdout",
     "output_type": "stream",
     "text": [
      "ABNJFSD\n"
     ]
    }
   ],
   "source": [
    "#lower to upper\n",
    "strs='abNJFSD'\n",
    "result=\"\"\n",
    "for i in strs:\n",
    "    ascii_code=ord(i)\n",
    "    if 97<=ascii_code<=122:\n",
    "        ascii_code-=32\n",
    "        result+=chr(ascii_code)\n",
    "    else:\n",
    "        result+=i\n",
    "print(result)\n"
   ]
  },
  {
   "cell_type": "code",
   "execution_count": 181,
   "id": "f8f3ccf9",
   "metadata": {},
   "outputs": [
    {
     "name": "stdout",
     "output_type": "stream",
     "text": [
      "abnjfsd\n"
     ]
    }
   ],
   "source": [
    "#upper to lower\n",
    "\n",
    "strs='abNJFSD'\n",
    "result=\"\"\n",
    "for i in strs:\n",
    "    ascii_code=ord(i)\n",
    "    if 65<=ascii_code<=91:\n",
    "        ascii_code+=32\n",
    "        result+=chr(ascii_code)\n",
    "    else:\n",
    "        result+=i\n",
    "print(result)\n"
   ]
  },
  {
   "cell_type": "code",
   "execution_count": 182,
   "id": "c0572de3",
   "metadata": {},
   "outputs": [
    {
     "name": "stdout",
     "output_type": "stream",
     "text": [
      "ABnjfsd34DFJAInbds\n"
     ]
    }
   ],
   "source": [
    "#small+upper toggle case\n",
    "strs='abNJFSD34dfjaiNBDS'\n",
    "result=\"\"\n",
    "for i in strs:\n",
    "    ascii_code=ord(i)\n",
    "    if 65<=ascii_code<=91:\n",
    "        ascii_code+=32\n",
    "        result+=chr(ascii_code)\n",
    "    elif 97<=ascii_code<=122:\n",
    "        ascii_code-=32\n",
    "        result+=chr(ascii_code)\n",
    "    else:\n",
    "        result+=i\n",
    "print(result)"
   ]
  },
  {
   "cell_type": "code",
   "execution_count": null,
   "id": "ef335117",
   "metadata": {},
   "outputs": [],
   "source": []
  }
 ],
 "metadata": {
  "kernelspec": {
   "display_name": "Python 3 (ipykernel)",
   "language": "python",
   "name": "python3"
  },
  "language_info": {
   "codemirror_mode": {
    "name": "ipython",
    "version": 3
   },
   "file_extension": ".py",
   "mimetype": "text/x-python",
   "name": "python",
   "nbconvert_exporter": "python",
   "pygments_lexer": "ipython3",
   "version": "3.11.5"
  }
 },
 "nbformat": 4,
 "nbformat_minor": 5
}
