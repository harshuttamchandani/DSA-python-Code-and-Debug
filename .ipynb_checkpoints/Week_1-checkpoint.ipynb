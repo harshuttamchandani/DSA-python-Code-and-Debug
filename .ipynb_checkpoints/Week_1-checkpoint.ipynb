{
 "cells": [
  {
   "cell_type": "markdown",
   "id": "a301dd2a",
   "metadata": {},
   "source": [
    "# Day 2"
   ]
  },
  {
   "cell_type": "code",
   "execution_count": 4,
   "id": "4e052e48-a6e6-4ce5-9408-c75bc9ee2d6e",
   "metadata": {
    "tags": []
   },
   "outputs": [],
   "source": [
    "#Basics\n",
    "#.py extension\n",
    "\n",
    "# A .pyc file is a compiled Python module that contains the bytecode representation of a Python script\n",
    "\n",
    "\n"
   ]
  },
  {
   "cell_type": "code",
   "execution_count": 4,
   "id": "11d6986e-c50d-439e-b0f5-fee9928438d4",
   "metadata": {
    "tags": []
   },
   "outputs": [
    {
     "name": "stdout",
     "output_type": "stream",
     "text": [
      "hello\n",
      "ok done\n",
      "hello this is harsh\n",
      "my name is harsh age is 22 gender is male "
     ]
    }
   ],
   "source": [
    "print(\"hello\")\n",
    "print(\"ok done\")\n",
    "\n",
    "#by default end with new line\n",
    "print(\"hello\",end=\" \")\n",
    "print(\"this\",end=\" \")\n",
    "print(\"is\",end=\" \")\n",
    "print(\"harsh\")\n",
    "\n",
    "print(\"my name is harsh\",end=\" \")\n",
    "print(\"age is 22\",end=\" \")\n",
    "print(\"gender is male\",end=\" \")\n"
   ]
  },
  {
   "cell_type": "code",
   "execution_count": null,
   "id": "498ed7c9-4046-4500-bd42-9f36e9fec0e7",
   "metadata": {},
   "outputs": [],
   "source": [
    "#comments for making code readable and understandable -: single line\n",
    "\n",
    "\"\"\"\n",
    "multiline comment\n",
    "Docstrings (double quotes and single quotes x 3)\n",
    "\"\"\"\n",
    "\n",
    "# Use cmd+/ to comment multiple lines together by selecting them"
   ]
  },
  {
   "cell_type": "code",
   "execution_count": 17,
   "id": "6ee9d65e-ef2e-4fc9-a120-3a23ea1df9d0",
   "metadata": {
    "tags": []
   },
   "outputs": [
    {
     "name": "stdout",
     "output_type": "stream",
     "text": [
      "hello \n",
      "harsh\n",
      "hello \tharsh\n",
      "hello \\nharsh\n",
      "hello \"harsh\n",
      "hello \"harsh\" \n",
      "hello \"harsh\" \n",
      "hello 'harsh' \n"
     ]
    }
   ],
   "source": [
    "\"\"\"\n",
    "escape sequence\n",
    "\\n-:new line ;\n",
    "\\t -: tab; \n",
    "\\\\ -: \\;\n",
    "\\\" -: \" ; \n",
    "\\' -: ' \n",
    "\n",
    "always in double quotes -: print waale ke saath allowed\n",
    "\n",
    "\"\"\"\n",
    "print(\"hello \\nharsh\")\n",
    "print(\"hello \\tharsh\")#one tab=4spaces\n",
    "print(\"hello \\\\nharsh\")\n",
    "print(\"hello \\\"harsh\")\n",
    "#error print(\"hello \"harsh\"\"\") ya bahar use single quotes aur vice versa\n",
    "print(\"hello \\\"harsh\\\" \")\n",
    "print('hello \"harsh\" ')\n",
    "print(\"hello 'harsh' \")"
   ]
  },
  {
   "cell_type": "code",
   "execution_count": 18,
   "id": "3aa60ab7-ea9e-4b71-a80c-33b85c22048a",
   "metadata": {},
   "outputs": [
    {
     "name": "stdout",
     "output_type": "stream",
     "text": [
      "pyt/\\hon\n"
     ]
    }
   ],
   "source": [
    "#py/\\thon\n",
    "\n",
    "print(\"pyt/\\\\hon\")"
   ]
  },
  {
   "cell_type": "code",
   "execution_count": 21,
   "id": "3af8f58d",
   "metadata": {},
   "outputs": [
    {
     "name": "stdout",
     "output_type": "stream",
     "text": [
      "py\"\\\"/\"\\\"thon\n",
      "py\"\\\"/\"\\\"thon\n"
     ]
    }
   ],
   "source": [
    "# py\"\\\"/\"\\\"thon\n",
    "\n",
    "print('py\"\\\\\"/\"\\\\\"thon')\n",
    "print(\"py\\\"\\\\\\\"/\\\"\\\\\\\"thon\")"
   ]
  },
  {
   "cell_type": "code",
   "execution_count": 22,
   "id": "6e678f1b",
   "metadata": {},
   "outputs": [
    {
     "name": "stdout",
     "output_type": "stream",
     "text": [
      "22\n"
     ]
    }
   ],
   "source": [
    "#variables\n",
    "\n",
    "a=10\n",
    "b=12\n",
    "total=a+b\n",
    "print(total)"
   ]
  },
  {
   "cell_type": "code",
   "execution_count": 27,
   "id": "176f1c5e",
   "metadata": {},
   "outputs": [
    {
     "data": {
      "text/plain": [
       "'\\nabc #valid\\nfirst_name #valid\\nABC #valid\\na_b_c #valid\\n_abc123 #valid\\n______ #valid\\n'"
      ]
     },
     "execution_count": 27,
     "metadata": {},
     "output_type": "execute_result"
    }
   ],
   "source": [
    "'''\n",
    "abc #valid\n",
    "first_name #valid\n",
    "ABC #valid\n",
    "a_b_c #valid\n",
    "_abc123 #valid\n",
    "______ #valid\n",
    "_123 #valid\n",
    "___3___#valid\n",
    "3abc #invalid\n",
    "'''\n"
   ]
  },
  {
   "cell_type": "code",
   "execution_count": 43,
   "id": "1618be0f",
   "metadata": {},
   "outputs": [
    {
     "name": "stdout",
     "output_type": "stream",
     "text": [
      "harsh\n",
      "22\n",
      "male\n",
      "harsh 22 male\n",
      "my name is harsh\n",
      "my name is harsh i am 22 years old my gender is male\n",
      "my name is harsh\n",
      "my name is {name}\n",
      "55\n",
      "a---55\n",
      "a=55\n",
      "name='harsh'\n"
     ]
    }
   ],
   "source": [
    "#printing variables\n",
    "\n",
    "name=\"harsh\"\n",
    "age=22\n",
    "gender='male'\n",
    "\n",
    "#in vs code opt+shift+(up/down) upar neeche copy current line\n",
    "\n",
    "print(name)\n",
    "print(age)\n",
    "print(gender)\n",
    "print(name,age,gender) #apne aap gives space when , se print\n",
    "print(\"my name is\",name)\n",
    "print(\"my name is\",name,\"i am\",age,\"years old\",\"my gender is\",gender)\n",
    "\n",
    "#line pein kahi bhi click cmd+x (cut)\n",
    "\n",
    "#using fstrings\n",
    "\n",
    "print(f\"my name is {name}\")\n",
    "print(\"my name is {name}\") #as it is \n",
    "\n",
    "\n",
    "#print can be used for debugging\n",
    "\n",
    "a=55\n",
    "print(f\"{a}\")\n",
    "print(f\"a---{a}\")\n",
    "print(f\"{a=}\") #directly {} will give value\n",
    "print(f\"{name=}\") # with data type single quotes bhi"
   ]
  },
  {
   "cell_type": "code",
   "execution_count": 51,
   "id": "4424c8aa",
   "metadata": {},
   "outputs": [
    {
     "name": "stdout",
     "output_type": "stream",
     "text": [
      "<class 'int'>\n",
      "<class 'str'>\n",
      "<class 'float'>\n",
      "<class 'bool'>\n"
     ]
    }
   ],
   "source": [
    "'''\n",
    "#data types\n",
    "integer -: int-: 68\n",
    "float-:float-:2.09 #double and float same\n",
    "string-:str-:\"harsh\",\"hi welcome\",'ancc'\n",
    "boolean-:bool-: True, False #T and F caps\n",
    "\n",
    "others -: lists , sets , dicts etc \n",
    "'''\n",
    "\n",
    "a=45\n",
    "b='harsh'\n",
    "c=53.3\n",
    "d=True\n",
    "print(type(a))\n",
    "print(type(b))\n",
    "print(type(c))\n",
    "print(type(d))"
   ]
  },
  {
   "cell_type": "code",
   "execution_count": 61,
   "id": "ea575a0c",
   "metadata": {},
   "outputs": [
    {
     "name": "stdout",
     "output_type": "stream",
     "text": [
      "harshuttamchandani\n",
      "100200\n",
      "300\n",
      "300\n"
     ]
    }
   ],
   "source": [
    "#type conversion\n",
    "a=\"harsh\"\n",
    "b=\"uttamchandani\"\n",
    "print(a+b)\n",
    "\n",
    "c=\"100\"\n",
    "d=\"200\"\n",
    "print(c+d)\n",
    "\n",
    "e=int(c)\n",
    "f=int(d)\n",
    "\n",
    "print(e+f)\n",
    "\n",
    "print(int(c)+int(d))\n",
    "\n"
   ]
  },
  {
   "cell_type": "code",
   "execution_count": null,
   "id": "bce27ee7",
   "metadata": {},
   "outputs": [],
   "source": [
    "g=int(\"100acc\") #error\n",
    "f=int(\"00100\") #removes 00\n",
    "h=int(\"120.5\")#error as float . for it problem"
   ]
  },
  {
   "cell_type": "code",
   "execution_count": 70,
   "id": "0f3c1da2",
   "metadata": {},
   "outputs": [
    {
     "name": "stdout",
     "output_type": "stream",
     "text": [
      "10.0\n",
      "10\n",
      "-11\n"
     ]
    }
   ],
   "source": [
    "a=float(10)\n",
    "print(a)\n",
    "\n",
    "b=int(10.4)\n",
    "print(b)\n",
    "\n",
    "c=int(-11.6)  \n",
    "print(c) #ans -11 and not -12 nearest zero wala no. \n",
    "#remove decimals bas"
   ]
  },
  {
   "cell_type": "code",
   "execution_count": 74,
   "id": "69aad677",
   "metadata": {},
   "outputs": [
    {
     "name": "stdout",
     "output_type": "stream",
     "text": [
      "1st no3\n",
      "2nd no4\n",
      "34\n",
      "7\n"
     ]
    }
   ],
   "source": [
    "#input from user\n",
    "#by default takes takes string\n",
    "\n",
    "a=input(\"1st no\")\n",
    "b=input(\"2nd no\")\n",
    "print(a+b)\n",
    "print(int(a)+int(b))"
   ]
  },
  {
   "cell_type": "code",
   "execution_count": 78,
   "id": "cf4a6a9d",
   "metadata": {},
   "outputs": [
    {
     "name": "stdout",
     "output_type": "stream",
     "text": [
      "1st no5\n",
      "1st no6\n",
      "1st no4\n",
      "1st no2\n",
      "1st no1\n",
      "sum = 18 \n",
      " avg= 3.6\n"
     ]
    }
   ],
   "source": [
    "#avg and sum\n",
    "\n",
    "a=int(input(\"1st no\"))\n",
    "b=int(input(\"1st no\"))\n",
    "c=int(input(\"1st no\"))\n",
    "d=int(input(\"1st no\"))\n",
    "e=int(input(\"1st no\"))\n",
    "#sum keyword use total\n",
    "total=a+b+c+d+e\n",
    "avg=total/5\n",
    "print(\"sum =\",total,\"avg=\",avg)"
   ]
  },
  {
   "cell_type": "markdown",
   "id": "0340a0fd",
   "metadata": {},
   "source": [
    "# assignment 1"
   ]
  },
  {
   "cell_type": "code",
   "execution_count": 82,
   "id": "29539b4f",
   "metadata": {},
   "outputs": [
    {
     "name": "stdout",
     "output_type": "stream",
     "text": [
      "False\n",
      "True\n",
      "True\n",
      "False\n",
      "True\n"
     ]
    }
   ],
   "source": [
    "'''\n",
    "1) a=5 b=10\n",
    "a > 5 and b>= 10 (false)\n",
    "a >= 5 or not b > 10 (true)\n",
    "not ( a > 5 and b > 5) (true)\n",
    "not ( a < 10 or not b < 10) (false)\n",
    "not (not a <= 5 or not b >= 10) (true)\n",
    "'''\n",
    "a=5\n",
    "b=10\n",
    "print(a > 5 and b>= 10)\n",
    "print(a >= 5 or not b > 10 )\n",
    "print(not ( a > 5 and b > 5))\n",
    "print(not ( a < 10 or not b < 10))\n",
    "print(not (not a <= 5 or not b >= 10))"
   ]
  },
  {
   "cell_type": "code",
   "execution_count": 86,
   "id": "30604974",
   "metadata": {},
   "outputs": [
    {
     "name": "stdout",
     "output_type": "stream",
     "text": [
      "enter kms45\n",
      "miles= 27.9\n"
     ]
    }
   ],
   "source": [
    "'''\n",
    "2)kms to miles\n",
    "1km=0.621371 miles\n",
    "'''\n",
    "km=float(input(\"enter kms\"))\n",
    "miles=km*0.621371\n",
    "print(\"miles=\",miles)"
   ]
  },
  {
   "cell_type": "code",
   "execution_count": 87,
   "id": "221c3c5e",
   "metadata": {},
   "outputs": [
    {
     "data": {
      "text/plain": [
       "'3 done before'"
      ]
     },
     "execution_count": 87,
     "metadata": {},
     "output_type": "execute_result"
    }
   ],
   "source": [
    "'''3 done before'''\n",
    "'''4)\n",
    "rs->paisa\n",
    "1rs =100 paisa\n",
    "just do as kms to miles\n",
    "'''"
   ]
  },
  {
   "cell_type": "code",
   "execution_count": 96,
   "id": "1fca6643",
   "metadata": {},
   "outputs": [
    {
     "name": "stdout",
     "output_type": "stream",
     "text": [
      "side= 3\n",
      "9.0\n"
     ]
    }
   ],
   "source": [
    "#5)area of square\n",
    "\n",
    "s=float(input(\"side= \"))\n",
    "area=s*s #or power (**) 2\n",
    "print(area)"
   ]
  },
  {
   "cell_type": "code",
   "execution_count": 90,
   "id": "902c3d93",
   "metadata": {},
   "outputs": [
    {
     "name": "stdout",
     "output_type": "stream",
     "text": [
      "no. of games ?10\n",
      "no. of wins ?4\n",
      "no. of losses ?3\n",
      "points=22\n"
     ]
    }
   ],
   "source": [
    "'''\n",
    "Q6. Ask number of games played in a tournament.\n",
    "Ask the user number of games won and number of games loss. \n",
    "Calculate number of tie and total\n",
    "Points. (1 win= 4 points, 1 tie =2 points)\n",
    "'''\n",
    "n=int(input(\"no. of games ?\"))\n",
    "w=int(input(\"no. of wins ?\"))\n",
    "l=int(input(\"no. of losses ?\"))\n",
    "tie=n-(w+l)\n",
    "points=4*w+2*tie\n",
    "print(f\"{points=}\")"
   ]
  },
  {
   "cell_type": "code",
   "execution_count": 94,
   "id": "10f0a7df",
   "metadata": {},
   "outputs": [
    {
     "name": "stdout",
     "output_type": "stream",
     "text": [
      "enter a no 5\n",
      "not div by 3\n"
     ]
    }
   ],
   "source": [
    "# 7 divisible by 3\n",
    "a=int(input(\"enter a no \"))\n",
    "if(a%3==0):\n",
    "    print(\"divisible by 3\")\n",
    "else:\n",
    "    print(\"not div by 3\")"
   ]
  },
  {
   "cell_type": "code",
   "execution_count": null,
   "id": "84d015b8",
   "metadata": {},
   "outputs": [],
   "source": [
    "# 8 odd or even similar to above %2==0"
   ]
  },
  {
   "cell_type": "code",
   "execution_count": null,
   "id": "097073c3",
   "metadata": {},
   "outputs": [],
   "source": [
    "#9 rectangle = square ??\n",
    "l=int(input(\"enter a len \"))\n",
    "b=int(input(\"enter a breadth \"))\n",
    "if(l==b):\n",
    "    print(\"square\")\n",
    "else:\n",
    "    print(\"rect\")"
   ]
  },
  {
   "cell_type": "markdown",
   "id": "a4b02887",
   "metadata": {},
   "source": [
    "# Day 3"
   ]
  },
  {
   "cell_type": "code",
   "execution_count": 106,
   "id": "9fe22084",
   "metadata": {},
   "outputs": [
    {
     "name": "stdout",
     "output_type": "stream",
     "text": [
      "harsh\n",
      "16\n",
      "20\n",
      "ji\n"
     ]
    }
   ],
   "source": [
    "#annotations\n",
    "name=\"harsh\"\n",
    "print(name)\n",
    "name=16\n",
    "print(name)\n",
    "\n",
    "#if settings.json vscode mein you have added the python.analysis.typecheckingmode=basic type cheez \n",
    "#then red dikhayega; still will work\n",
    "age:int =20\n",
    "print(age)\n",
    "age=\"ji\"\n",
    "print(age)\n",
    "age:int|str  =20 #dono allowed\n",
    "#annotations are good practise"
   ]
  },
  {
   "cell_type": "code",
   "execution_count": 107,
   "id": "28bfa33b",
   "metadata": {},
   "outputs": [
    {
     "data": {
      "text/plain": [
       "'\\n'"
      ]
     },
     "execution_count": 107,
     "metadata": {},
     "output_type": "execute_result"
    }
   ],
   "source": [
    "'''\n",
    "operators\n",
    "Arthematic\n",
    "Assignment\n",
    "Comparison\n",
    "logical\n",
    "Membership\n",
    "Identity\n",
    "Bitwise\n",
    "\n",
    "'''"
   ]
  },
  {
   "cell_type": "code",
   "execution_count": 134,
   "id": "b126e2bd",
   "metadata": {},
   "outputs": [
    {
     "name": "stdout",
     "output_type": "stream",
     "text": [
      "5.0\n",
      "100\n",
      "0\n",
      "5\n",
      "3.1622776601683795\n",
      "-4\n",
      "-3\n",
      "-4\n"
     ]
    }
   ],
   "source": [
    "#arthematic +,-,/,*\n",
    "# // floor divison\n",
    "# ** power\n",
    "# % modulus\n",
    "\n",
    "a=10\n",
    "b=2\n",
    "\n",
    "#divison always gives floats\n",
    "\n",
    "print(a/b)\n",
    "print(a**b)\n",
    "print(a%b)\n",
    "print(a//b)\n",
    "print(a**0.5) #sqrt\n",
    "\n",
    "a=-16\n",
    "b=5\n",
    "#floor division humesha lower value dega unlike int \n",
    "print(a//b)\n",
    "print(int(a/b))\n",
    "\n",
    "#here why it comes 4 ??\n",
    "print(a%b)\n",
    "#number line wala concept divide karo remainder ko subtract from 5(divisor) then denominator ka sign\n",
    "\n"
   ]
  },
  {
   "cell_type": "code",
   "execution_count": 129,
   "id": "4b2af3ab",
   "metadata": {},
   "outputs": [
    {
     "name": "stdout",
     "output_type": "stream",
     "text": [
      "20\n",
      "11\n",
      "121\n"
     ]
    }
   ],
   "source": [
    "#assignment =, +=, -= ,/= ,%= ,**= etc\n",
    "\n",
    "a=10\n",
    "a+=10\n",
    "print(a)\n",
    "a-=9\n",
    "print(a)\n",
    "a**=2\n",
    "print(a)\n",
    "\n"
   ]
  },
  {
   "cell_type": "code",
   "execution_count": null,
   "id": "0d9e4edf",
   "metadata": {},
   "outputs": [],
   "source": [
    "#comparisions ()\n",
    "#ans always in Boolean\n",
    "#Q1 assignment 1 "
   ]
  },
  {
   "cell_type": "code",
   "execution_count": 140,
   "id": "004be8f4",
   "metadata": {},
   "outputs": [
    {
     "name": "stdout",
     "output_type": "stream",
     "text": [
      "True\n",
      "True\n",
      "False\n",
      "False\n"
     ]
    }
   ],
   "source": [
    "#Logical \n",
    "# And , OR , NOT\n",
    "# do conditional/comparisions ko jodna\n",
    "# basic logic gates , truth tables\n",
    "\n",
    "\n",
    "m=30\n",
    "c=32\n",
    "p=12\n",
    "\n",
    "print(m>20 or c>20)\n",
    "print(c>30 or xyz>0) # doesnt check xyz \n",
    "print(not c>30 and xyz>0) # and mein bhi as and aur ek false hogaya hai\n",
    "#print(c>30 and xyz>0) # name error\n",
    "\n",
    "print(not(c>30))"
   ]
  },
  {
   "cell_type": "markdown",
   "id": "f0a06cbd",
   "metadata": {},
   "source": [
    "# if-else"
   ]
  },
  {
   "cell_type": "code",
   "execution_count": 141,
   "id": "ab08f859",
   "metadata": {},
   "outputs": [
    {
     "name": "stdout",
     "output_type": "stream",
     "text": [
      "age23\n",
      "y\n",
      "done\n"
     ]
    }
   ],
   "source": [
    "# conditions yeh toh yeh nahi toh yeh\n",
    "#indentation ka khayal\n",
    "\n",
    "age=int(input(\"age\"))\n",
    "if age>=18:\n",
    "    print(\"y\")\n",
    "else:\n",
    "    print(\"no\")\n",
    "print(\"done\") #runs irrespective\n"
   ]
  },
  {
   "cell_type": "code",
   "execution_count": 148,
   "id": "af33d1f0",
   "metadata": {},
   "outputs": [
    {
     "name": "stdout",
     "output_type": "stream",
     "text": [
      "y\n",
      "yneg\n",
      "0\n",
      "y\n"
     ]
    }
   ],
   "source": [
    "#Truthy and Falsy\n",
    "# int-> only 0 is Falsy all others truthy(1,2,-19)\n",
    "# float-> only 0.0 is Falsy all others truthy(1,2,-19,2.4)\n",
    "# string-> only \"\"(empty string) is Falsy all others truthy(\"harsh\",\" \"(space))\n",
    "\n",
    "num=2\n",
    "if num:\n",
    "    print(\"y\")\n",
    "    \n",
    "num=-1\n",
    "if num:\n",
    "    print(\"yneg\")\n",
    "    \n",
    "num=0\n",
    "if num:\n",
    "    print(\"yzero\")\n",
    "    \n",
    "num=\"\"\n",
    "if num:\n",
    "    print(\"yempty\")\n",
    "\n",
    "    \n",
    "#odd eve \n",
    "l=10\n",
    "print(l%2) #gives 0 not true and false\n",
    "if not(l%2): # ! symbol doesn't work\n",
    "    print('y')\n",
    "else:\n",
    "    print('n')"
   ]
  },
  {
   "cell_type": "markdown",
   "id": "de8afb87",
   "metadata": {},
   "source": [
    "# Assignment 2\n"
   ]
  },
  {
   "cell_type": "code",
   "execution_count": 152,
   "id": "18da3c0d",
   "metadata": {},
   "outputs": [
    {
     "name": "stdout",
     "output_type": "stream",
     "text": [
      "enter a 2\n",
      "enter b 1\n",
      "divisble\n"
     ]
    }
   ],
   "source": [
    "'''q1 check divisible or not'''\n",
    "a=int(input(\"enter a \"))\n",
    "b=int(input(\"enter b \"))\n",
    "if(not(a%b)):  #a%b==0 easy way ; just tried truthy or falsy\n",
    "    print(\"divisble\")\n",
    "else:\n",
    "    print(\"not\")"
   ]
  },
  {
   "cell_type": "code",
   "execution_count": null,
   "id": "d4e7b42b",
   "metadata": {},
   "outputs": [],
   "source": [
    "'''q2 75 se greater attendance\n",
    "input from user classes held class attended\n",
    "'''\n",
    "\n",
    "a=int(input(\"enter class attended \"))\n",
    "b=int(input(\"enter class held \"))\n",
    "perc=(a/b)*100\n",
    "if(perc>=75):\n",
    "    print(\"allowed\",perc)\n",
    "else:\n",
    "    print(\"not allowed\",perc)\n",
    "    "
   ]
  },
  {
   "cell_type": "code",
   "execution_count": null,
   "id": "f569bcd6",
   "metadata": {},
   "outputs": [],
   "source": [
    "'''q3 divisible 2,3 and not 8'''\n",
    "a=int(input(\"enter no. \"))\n",
    "if(a%2==0 and a%3==0 and not(a%8==0)):\n",
    "    print(\"check\")\n",
    "else:\n",
    "    print(\"not satisfying cond\")\n",
    "\n"
   ]
  },
  {
   "cell_type": "code",
   "execution_count": 4,
   "id": "ddc5ede8",
   "metadata": {},
   "outputs": [
    {
     "name": "stdout",
     "output_type": "stream",
     "text": [
      "enter marks:8\n",
      "F\n"
     ]
    }
   ],
   "source": [
    "'''q4 score grading'''\n",
    "\n",
    "marks=int(input(\"enter marks:\"))\n",
    "if(marks>=90):\n",
    "    print('A')\n",
    "elif(marks>=80 and marks<90):\n",
    "    print('B')\n",
    "elif(marks>=70 and marks<80):\n",
    "    print('C')\n",
    "elif(marks>=60 and marks<70):\n",
    "    print('D')\n",
    "else:\n",
    "    print('F')\n"
   ]
  },
  {
   "cell_type": "code",
   "execution_count": 6,
   "id": "e5429508",
   "metadata": {},
   "outputs": [
    {
     "name": "stdout",
     "output_type": "stream",
     "text": [
      "enter amount:800000\n",
      "560000.0\n"
     ]
    }
   ],
   "source": [
    "'''q5 Bill'''\n",
    "\n",
    "amt=int(input(\"enter amount:\"))\n",
    "disc=0\n",
    "if(amt>=50000):\n",
    "    disc=30\n",
    "elif(amt>=40000 and amt<=49000):\n",
    "    disc=25\n",
    "elif(amt>=30000 and amt<39000):\n",
    "    disc=20\n",
    "elif(amt>=10000 and amt<29999):\n",
    "    disc=10\n",
    "disamt=amt-(amt*30/100)\n",
    "print(disamt)"
   ]
  },
  {
   "cell_type": "code",
   "execution_count": 16,
   "id": "17acdea8",
   "metadata": {},
   "outputs": [
    {
     "name": "stdout",
     "output_type": "stream",
     "text": [
      "a=3\n",
      "b=2\n",
      "c=1\n",
      "d=5\n",
      "1\n"
     ]
    }
   ],
   "source": [
    "'''q6\n",
    "smallest\n",
    "here ig no need to check unique if use set\n",
    "'''\n",
    "a=int(input(\"a=\"))\n",
    "b=int(input(\"b=\"))\n",
    "c=int(input(\"c=\"))\n",
    "d=int(input(\"d=\"))\n",
    "#assume a smallest\n",
    "min=a\n",
    "if(b<min):\n",
    "    min=b\n",
    "if(c<min):\n",
    "    min=c\n",
    "if(d<min):\n",
    "    min=d\n",
    "\n",
    "print(min)"
   ]
  },
  {
   "cell_type": "code",
   "execution_count": 7,
   "id": "0664c6e7",
   "metadata": {},
   "outputs": [
    {
     "data": {
      "text/plain": [
       "'q7'"
      ]
     },
     "execution_count": 7,
     "metadata": {},
     "output_type": "execute_result"
    }
   ],
   "source": [
    "'''q7\n",
    "salary and increment\n",
    "just like bill one perform maths\n",
    "'''"
   ]
  },
  {
   "cell_type": "code",
   "execution_count": 19,
   "id": "6131d833",
   "metadata": {},
   "outputs": [
    {
     "name": "stdout",
     "output_type": "stream",
     "text": [
      "c=2016\n",
      "leap\n"
     ]
    }
   ],
   "source": [
    "'''q8\n",
    "check leapp\n",
    "'''\n",
    "c=int(input(\"c=\"))\n",
    "if(c%4==0 and((not(c%100==0))or (c%400==0))):\n",
    "    print('leap')\n",
    "else:\n",
    "    print('not leap')"
   ]
  },
  {
   "cell_type": "markdown",
   "id": "87d45e54",
   "metadata": {},
   "source": [
    "# contest"
   ]
  },
  {
   "cell_type": "code",
   "execution_count": 9,
   "id": "3535dfa5",
   "metadata": {},
   "outputs": [
    {
     "name": "stdout",
     "output_type": "stream",
     "text": [
      "a=-32\n",
      "32\n"
     ]
    }
   ],
   "source": [
    "'''q1 absolute'''\n",
    "a=int(input(\"a=\"))\n",
    "if a>=0:\n",
    "    print(a)\n",
    "else:\n",
    "    print(a*-1)"
   ]
  },
  {
   "cell_type": "code",
   "execution_count": 15,
   "id": "cd31c8db",
   "metadata": {},
   "outputs": [
    {
     "name": "stdout",
     "output_type": "stream",
     "text": [
      "a=23\n",
      "b=67\n",
      "c=90\n",
      "obtuse\n"
     ]
    }
   ],
   "source": [
    "'''2) triangle '''\n",
    "a=int(input(\"a=\"))\n",
    "b=int(input(\"b=\"))\n",
    "c=int(input(\"c=\"))\n",
    "if a+b+c==180:\n",
    "    if a==90 or b==90 and c==90:\n",
    "        print(\"right\")\n",
    "    elif a<90 and b<90 and c<90:\n",
    "        print('acute')\n",
    "    else:\n",
    "        print('obtuse')\n",
    "else:\n",
    "    print(\"invalid\")"
   ]
  },
  {
   "cell_type": "code",
   "execution_count": 13,
   "id": "bf98e951",
   "metadata": {},
   "outputs": [
    {
     "data": {
      "text/plain": [
       "-171"
      ]
     },
     "execution_count": 13,
     "metadata": {},
     "output_type": "execute_result"
    }
   ],
   "source": [
    "-1024//6 #point to remember floor division; basic precedeence (r to l for ** ; here no use but later maybe)"
   ]
  },
  {
   "cell_type": "code",
   "execution_count": null,
   "id": "e2100bc5",
   "metadata": {},
   "outputs": [],
   "source": [
    "#solve in mind using pen paper;other ques;truthy and falsy ; precedence"
   ]
  }
 ],
 "metadata": {
  "kernelspec": {
   "display_name": "Python 3 (ipykernel)",
   "language": "python",
   "name": "python3"
  },
  "language_info": {
   "codemirror_mode": {
    "name": "ipython",
    "version": 3
   },
   "file_extension": ".py",
   "mimetype": "text/x-python",
   "name": "python",
   "nbconvert_exporter": "python",
   "pygments_lexer": "ipython3",
   "version": "3.11.5"
  }
 },
 "nbformat": 4,
 "nbformat_minor": 5
}
