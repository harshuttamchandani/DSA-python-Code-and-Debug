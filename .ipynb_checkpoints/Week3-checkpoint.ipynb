{
 "cells": [
  {
   "cell_type": "markdown",
   "id": "c5e63037",
   "metadata": {},
   "source": [
    "# DAY 1"
   ]
  },
  {
   "cell_type": "code",
   "execution_count": 3,
   "id": "1d053e9a",
   "metadata": {},
   "outputs": [
    {
     "name": "stdout",
     "output_type": "stream",
     "text": [
      "1 10 11 12 \n",
      "2 10 11 12 \n",
      "3 10 11 12 \n"
     ]
    }
   ],
   "source": [
    "#nested loops\n",
    "\n",
    "for i in range (1,4):\n",
    "    print(i,end=' ')\n",
    "    for j in range(10,13):\n",
    "        print(j,end=' ')\n",
    "    print()"
   ]
  },
  {
   "cell_type": "code",
   "execution_count": 5,
   "id": "1c935edf",
   "metadata": {},
   "outputs": [
    {
     "name": "stdout",
     "output_type": "stream",
     "text": [
      "****\n",
      "****\n",
      "****\n",
      "****\n"
     ]
    }
   ],
   "source": [
    "'''\n",
    "*****\n",
    "*****\n",
    "*****\n",
    "*****\n",
    "*****\n",
    "'''\n",
    "#use row and col concept;i for row j for columns\n",
    "\n",
    "for i in range(1,5):\n",
    "    for j in range(1,5):\n",
    "        print('*',end='')\n",
    "    print()"
   ]
  },
  {
   "cell_type": "code",
   "execution_count": 7,
   "id": "459d5d26",
   "metadata": {},
   "outputs": [
    {
     "name": "stdout",
     "output_type": "stream",
     "text": [
      "12345\n",
      "12345\n",
      "12345\n",
      "12345\n",
      "12345\n"
     ]
    }
   ],
   "source": [
    "'''\n",
    "12345\n",
    "12345\n",
    "12345\n",
    "12345\n",
    "12345\n",
    "'''\n",
    "for i in range(1,6):\n",
    "    for j in range(1,6):\n",
    "        print(j,end='')\n",
    "    print()"
   ]
  },
  {
   "cell_type": "code",
   "execution_count": 8,
   "id": "5b79ef27",
   "metadata": {},
   "outputs": [
    {
     "name": "stdout",
     "output_type": "stream",
     "text": [
      "11111\n",
      "22222\n",
      "33333\n",
      "44444\n",
      "55555\n"
     ]
    }
   ],
   "source": [
    "'''\n",
    "11111\n",
    "22222\n",
    "33333\n",
    "44444\n",
    "55555\n",
    "'''\n",
    "for i in range(1,6):\n",
    "    for j in range(1,6):\n",
    "        print(i,end='')\n",
    "    print()"
   ]
  },
  {
   "cell_type": "code",
   "execution_count": 10,
   "id": "9eb32b18",
   "metadata": {},
   "outputs": [
    {
     "name": "stdout",
     "output_type": "stream",
     "text": [
      "*\n",
      "**\n",
      "***\n",
      "****\n",
      "*****\n"
     ]
    }
   ],
   "source": [
    "'''\n",
    "*\n",
    "**\n",
    "***\n",
    "****\n",
    "*****\n",
    "'''\n",
    "\n",
    "for i in range(1,6):\n",
    "    for j in range(1,i+1):\n",
    "        print('*',end='')\n",
    "    print()"
   ]
  },
  {
   "cell_type": "code",
   "execution_count": 12,
   "id": "7fe78e0d",
   "metadata": {},
   "outputs": [
    {
     "name": "stdout",
     "output_type": "stream",
     "text": [
      "1\n",
      "12\n",
      "123\n",
      "1234\n",
      "12345\n"
     ]
    }
   ],
   "source": [
    "'''\n",
    "1\n",
    "12\n",
    "123\n",
    "1234\n",
    "12345\n",
    "\n",
    "'''\n",
    "\n",
    "for i in range(1,6):\n",
    "    for j in range(1,i+1):\n",
    "        print(j,end='')\n",
    "    print()"
   ]
  },
  {
   "cell_type": "code",
   "execution_count": 13,
   "id": "e2924fe8",
   "metadata": {},
   "outputs": [
    {
     "name": "stdout",
     "output_type": "stream",
     "text": [
      "1\n",
      "21\n",
      "321\n",
      "4321\n",
      "54321\n"
     ]
    }
   ],
   "source": [
    "'''\n",
    "1\n",
    "21\n",
    "321\n",
    "4321\n",
    "54321\n",
    "'''\n",
    "\n",
    "for i in range(1,6):\n",
    "    for j in range(i,0,-1):\n",
    "        print(j,end='')\n",
    "    print()"
   ]
  },
  {
   "cell_type": "code",
   "execution_count": 15,
   "id": "e6a2fbe1",
   "metadata": {},
   "outputs": [
    {
     "name": "stdout",
     "output_type": "stream",
     "text": [
      "5\n",
      "45\n",
      "345\n",
      "2345\n",
      "12345\n"
     ]
    }
   ],
   "source": [
    "'''\n",
    "5\n",
    "4 5\n",
    "3 4 5\n",
    "2 3 4 5\n",
    "1 2 3 4 5\n",
    "'''\n",
    "for i in range(5,0,-1):\n",
    "    for j in range(i,6):\n",
    "        print(j,end='')\n",
    "    print()"
   ]
  },
  {
   "cell_type": "code",
   "execution_count": 19,
   "id": "d1e20ec1",
   "metadata": {},
   "outputs": [
    {
     "name": "stdout",
     "output_type": "stream",
     "text": [
      "5\n",
      "45\n",
      "345\n",
      "2345\n",
      "12345\n"
     ]
    }
   ],
   "source": [
    "'''\n",
    "5\n",
    "4 5\n",
    "3 4 5\n",
    "2 3 4 5\n",
    "1 2 3 4 5\n",
    "\n",
    "another way; harder loop ulta\n",
    "'''\n",
    "for i in range(1,6):\n",
    "    for j in range(1,i+1):\n",
    "        print(5-i+j,end='')\n",
    "    print()"
   ]
  },
  {
   "cell_type": "markdown",
   "id": "53d19090",
   "metadata": {},
   "source": [
    "# Day 2"
   ]
  },
  {
   "cell_type": "code",
   "execution_count": 26,
   "id": "076e9980",
   "metadata": {},
   "outputs": [
    {
     "name": "stdout",
     "output_type": "stream",
     "text": [
      "    *\n",
      "   **\n",
      "  ***\n",
      " ****\n",
      "*****\n"
     ]
    }
   ],
   "source": [
    "'''\n",
    "    *\n",
    "   **\n",
    "  ***\n",
    " ****\n",
    "***** \n",
    "'''\n",
    "\n",
    "for i in range (1,6):\n",
    "    for sp in range(1,5-i+1):\n",
    "        print(' ',end='')\n",
    "    for j in range(1,i+1):\n",
    "        print('*',end='')\n",
    "    print('')"
   ]
  },
  {
   "cell_type": "code",
   "execution_count": 27,
   "id": "a62a62c9",
   "metadata": {},
   "outputs": [
    {
     "name": "stdout",
     "output_type": "stream",
     "text": [
      "    1\n",
      "   12\n",
      "  123\n",
      " 1234\n",
      "12345\n"
     ]
    }
   ],
   "source": [
    "'''\n",
    "    1\n",
    "   12\n",
    "  123\n",
    " 1234\n",
    "12345 \n",
    "'''\n",
    "\n",
    "for i in range (1,6):\n",
    "    for sp in range(1,5-i+1):\n",
    "        print(' ',end='')\n",
    "    for j in range(1,i+1):\n",
    "        print(j,end='')\n",
    "    print('')"
   ]
  },
  {
   "cell_type": "code",
   "execution_count": 28,
   "id": "b2e278b3",
   "metadata": {},
   "outputs": [
    {
     "name": "stdout",
     "output_type": "stream",
     "text": [
      "    1\n",
      "   21\n",
      "  321\n",
      " 4321\n",
      "54321\n"
     ]
    }
   ],
   "source": [
    "'''\n",
    "    1\n",
    "   21\n",
    "  321\n",
    " 4321\n",
    "54321 \n",
    "'''\n",
    "for i in range (1,6):\n",
    "    for sp in range(1,5-i+1):\n",
    "        print(' ',end='')\n",
    "    for j in range(i,0,-1):\n",
    "        print(j,end='')\n",
    "    print('')\n"
   ]
  },
  {
   "cell_type": "code",
   "execution_count": 33,
   "id": "7f2a104b",
   "metadata": {},
   "outputs": [
    {
     "name": "stdout",
     "output_type": "stream",
     "text": [
      "    5\n",
      "   45\n",
      "  345\n",
      " 2345\n",
      "12345\n"
     ]
    }
   ],
   "source": [
    "'''\n",
    "    5\n",
    "   45\n",
    "  345\n",
    " 2345\n",
    "54321 \n",
    "way 1\n",
    "'''\n",
    "for i in range (1,6):\n",
    "    for sp in range(1,5-i+1):\n",
    "        print(' ',end='')\n",
    "    for j in range(i,0,-1):\n",
    "        print(6-j,end='')\n",
    "    print('')\n"
   ]
  },
  {
   "cell_type": "code",
   "execution_count": 35,
   "id": "3b886881",
   "metadata": {},
   "outputs": [
    {
     "name": "stdout",
     "output_type": "stream",
     "text": [
      "    5\n",
      "   45\n",
      "  345\n",
      " 2345\n",
      "12345\n"
     ]
    }
   ],
   "source": [
    "'''\n",
    "    5\n",
    "   45\n",
    "  345\n",
    " 2345\n",
    "12345 \n",
    "another way easier\n",
    "'''\n",
    "for i in range (5,0,-1):\n",
    "    for sp in range(1,i):\n",
    "        print(' ',end='')\n",
    "    for j in range(i,6):\n",
    "        print(j,end='')\n",
    "    print('')\n"
   ]
  },
  {
   "cell_type": "code",
   "execution_count": 36,
   "id": "b21abe43",
   "metadata": {},
   "outputs": [
    {
     "name": "stdout",
     "output_type": "stream",
     "text": [
      "    5 \n",
      "   4 5 \n",
      "  3 4 5 \n",
      " 2 3 4 5 \n",
      "1 2 3 4 5 \n"
     ]
    }
   ],
   "source": [
    "'''\n",
    "    5\n",
    "   4 5\n",
    "  3 4 5\n",
    " 2 3 4 5\n",
    "1 2 3 4 5\n",
    "'''\n",
    "\n",
    "for i in range(1,6):\n",
    "    for sp in range(1,5-i+1):\n",
    "        print(' ',end='')\n",
    "    for j in range(6-i,6):\n",
    "        print(j,end=' ')\n",
    "    print()"
   ]
  },
  {
   "cell_type": "code",
   "execution_count": 41,
   "id": "1e9ceaae",
   "metadata": {},
   "outputs": [
    {
     "name": "stdout",
     "output_type": "stream",
     "text": [
      "n=? 5\n",
      "*\n",
      "**\n",
      "***\n",
      "****\n",
      "****\n",
      "***\n",
      "**\n",
      "*\n"
     ]
    }
   ],
   "source": [
    "'''\n",
    "\n",
    "*\n",
    "**\n",
    "***\n",
    "****\n",
    "*****\n",
    "****\n",
    "***\n",
    "**\n",
    "*\n",
    "'''\n",
    "n=int(input(\"n=? \"))\n",
    "\n",
    "for i in range(1,n):\n",
    "    for j in range(1,i+1):\n",
    "        print('*',end='')\n",
    "    print()\n",
    "    \n",
    "for i in range(n-1,0,-1):\n",
    "    for j in range(1,i+1):\n",
    "        print('*',end='')\n",
    "    print()\n",
    "\n",
    "#sir did using n//2 like total lines types and not for even here n stand for first half "
   ]
  },
  {
   "cell_type": "code",
   "execution_count": null,
   "id": "b067e3f0",
   "metadata": {},
   "outputs": [],
   "source": [
    "# doubt and assigment discussion "
   ]
  },
  {
   "cell_type": "markdown",
   "id": "b7e7c62d",
   "metadata": {},
   "source": [
    "## Day 3"
   ]
  },
  {
   "cell_type": "code",
   "execution_count": 42,
   "id": "be3a4282",
   "metadata": {},
   "outputs": [],
   "source": [
    "# question discussion"
   ]
  },
  {
   "cell_type": "code",
   "execution_count": 9,
   "id": "fb67fe5c",
   "metadata": {
    "scrolled": true
   },
   "outputs": [
    {
     "name": "stdout",
     "output_type": "stream",
     "text": [
      "5\n",
      "        1 \n",
      "      2 2 2 \n",
      "    3 3 3 3 3 \n",
      "  4 4 4 4 4 4 4 \n",
      "5 5 5 5 5 5 5 5 5 \n"
     ]
    }
   ],
   "source": [
    "#W3 assignment 2 hard patterns\n",
    "\n",
    "'''\n",
    "      1\n",
    "    2 2 2\n",
    "  3 3 3 3 3\n",
    "4 4 4 4 4 4 4 ...\n",
    "'''\n",
    "n= int(input())\n",
    "for i in range(1,n+1):\n",
    "    for sp in range(1,n-i+1):\n",
    "        print(\" \",end=\" \")\n",
    "    \n",
    "    for j in range(1,2*i):\n",
    "        print(i,end=\" \") \n",
    "        \n",
    "    print()"
   ]
  },
  {
   "cell_type": "code",
   "execution_count": 17,
   "id": "ab158424",
   "metadata": {},
   "outputs": [
    {
     "name": "stdout",
     "output_type": "stream",
     "text": [
      "n?= 9\n",
      "        1 \n",
      "      2 2 2 \n",
      "    3 3 3 3 3 \n",
      "  4 4 4 4 4 4 4 \n",
      "5 5 5 5 5 5 5 5 5 \n",
      "  4 4 4 4 4 4 4 \n",
      "    3 3 3 3 3 \n",
      "      2 2 2 \n",
      "        1 \n"
     ]
    }
   ],
   "source": [
    "\n",
    "'''\n",
    "      1\n",
    "    2 2 2\n",
    "  3 3 3 3 3\n",
    "4 4 4 4 4 4 4\n",
    "  3 3 3 3 3\n",
    "    2 2 2\n",
    "      1\n",
    "      \n",
    "n=7 no. of lines\n",
    "'''\n",
    "#n//2=3\n",
    "\n",
    "n=int(input('n?= '))\n",
    "nn=n//2+1 #3\n",
    "for i in range(1,nn+1):\n",
    "    for sp in range(1,nn-i+1):\n",
    "        print(\" \",end=\" \")\n",
    "    for j in range(1,2*i) :\n",
    "        print(i, end=\" \")\n",
    "    print()\n",
    "for i in range(nn-1,0,-1):\n",
    "    for sp in range(1,nn-i+1):\n",
    "        print(\" \",end=\" \")\n",
    "    for j in range(1,2*i) :\n",
    "        print(i, end=\" \")\n",
    "    print() \n",
    "    "
   ]
  },
  {
   "cell_type": "code",
   "execution_count": 18,
   "id": "53b6aedd",
   "metadata": {},
   "outputs": [],
   "source": [
    "#some discussion about interviews and patterns wale assignment ki baat thodi bahut"
   ]
  },
  {
   "cell_type": "code",
   "execution_count": 20,
   "id": "1f27cdf1",
   "metadata": {
    "scrolled": true
   },
   "outputs": [
    {
     "name": "stdout",
     "output_type": "stream",
     "text": [
      "1 \n",
      "2 3 \n",
      "4 5 6 \n",
      "7 8 9 10 \n",
      "11 12 13 14 15 \n"
     ]
    }
   ],
   "source": [
    "#assignment 2 q9\n",
    "'''\n",
    "1\n",
    "2 3\n",
    "4 5 6\n",
    "7 8 9 10\n",
    "\n",
    "'''\n",
    "\n",
    "count=1\n",
    "for i in range(1,6):\n",
    "    for j in range(1,i+1):\n",
    "        print(count,end=' ')\n",
    "        count+=1\n",
    "    print()"
   ]
  },
  {
   "cell_type": "code",
   "execution_count": 21,
   "id": "b218e6b8",
   "metadata": {},
   "outputs": [
    {
     "name": "stdout",
     "output_type": "stream",
     "text": [
      "5\n",
      "54\n",
      "543\n",
      "5432\n",
      "54321\n"
     ]
    }
   ],
   "source": [
    "'''\n",
    "assignment 1 q4\n",
    "5\n",
    "5 4\n",
    "5 4 3\n",
    "5 4 3 2\n",
    "5 4 3 2 1\n",
    "'''\n",
    "\n",
    "for i in range(5,0,-1):\n",
    "    for j in range(5,i-1,-1):\n",
    "        print(j,end='')\n",
    "    print()"
   ]
  },
  {
   "cell_type": "markdown",
   "id": "a3fd030f",
   "metadata": {},
   "source": [
    "## DAY 4"
   ]
  },
  {
   "cell_type": "code",
   "execution_count": null,
   "id": "5d8bf860",
   "metadata": {},
   "outputs": [],
   "source": [
    "#LISTS\n"
   ]
  }
 ],
 "metadata": {
  "kernelspec": {
   "display_name": "Python 3 (ipykernel)",
   "language": "python",
   "name": "python3"
  },
  "language_info": {
   "codemirror_mode": {
    "name": "ipython",
    "version": 3
   },
   "file_extension": ".py",
   "mimetype": "text/x-python",
   "name": "python",
   "nbconvert_exporter": "python",
   "pygments_lexer": "ipython3",
   "version": "3.11.5"
  }
 },
 "nbformat": 4,
 "nbformat_minor": 5
}
