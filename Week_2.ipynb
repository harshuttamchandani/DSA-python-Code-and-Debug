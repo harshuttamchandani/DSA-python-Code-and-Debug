{
 "cells": [
  {
   "cell_type": "markdown",
   "id": "058266b6",
   "metadata": {},
   "source": [
    "# Day 1"
   ]
  },
  {
   "cell_type": "code",
   "execution_count": 8,
   "id": "5dced17d",
   "metadata": {},
   "outputs": [
    {
     "name": "stdout",
     "output_type": "stream",
     "text": [
      "A\n",
      "Invalid\n"
     ]
    }
   ],
   "source": [
    "#elif ques basic done week 1\n",
    "\n",
    "'''\n",
    "muliple elif doesn't check others\n",
    "if bahut saare har baar check and then end mein else check (dangaling else)\n",
    "'''\n",
    "\n",
    "marks = 95\n",
    "if marks >= 91 and marks<=100:\n",
    "    print (\"A\")\n",
    "if marks >= 81 and marks <= 90:\n",
    "    print (\"B\")\n",
    "if marks>=71 and marks<= 80:\n",
    "    print(\"c\")\n",
    "if marks >= 61 and marks<=79:\n",
    "    print(\"D\")\n",
    "if marks >= 0 and marks<= 60:\n",
    "    print (\"FAIL\")\n",
    "else:\n",
    "    print(\"Invalid\")"
   ]
  },
  {
   "cell_type": "code",
   "execution_count": 17,
   "id": "a1a64d82",
   "metadata": {},
   "outputs": [
    {
     "name": "stdout",
     "output_type": "stream",
     "text": [
      "30\n",
      "foo bar\n"
     ]
    }
   ],
   "source": [
    "#foo-bar;ig fizz buzz\n",
    "\n",
    "'''user input koi bhi no-: 3 foo\n",
    "5 se-: boo\n",
    "3 and 5 foo bar\n",
    "nothing foo foo bar bar'''\n",
    "\n",
    "c=int(input())\n",
    "if(c%15==0): #idhar if first condition 3 waali raki hoti so 30 wale case mein problem\n",
    "    print('foo bar')\n",
    "elif(c%3==0):\n",
    "    print('foo')\n",
    "elif(c%5==0):   \n",
    "    print('bar')\n",
    "else:\n",
    "    print('foo foo bar bar')"
   ]
  },
  {
   "cell_type": "code",
   "execution_count": 20,
   "id": "98fa7536",
   "metadata": {},
   "outputs": [
    {
     "name": "stdout",
     "output_type": "stream",
     "text": [
      "22.5\n",
      "5.625\n",
      "True\n"
     ]
    }
   ],
   "source": [
    "#operator precedence\n",
    "\n",
    "print(10*9/4)\n",
    "print(10*9/4**2)\n",
    "print(10*9 > 4**2) #>< very niche precedence mein\n"
   ]
  },
  {
   "cell_type": "code",
   "execution_count": 21,
   "id": "22f347a3",
   "metadata": {},
   "outputs": [
    {
     "name": "stdout",
     "output_type": "stream",
     "text": [
      "no ?3\n",
      "+ve\n"
     ]
    }
   ],
   "source": [
    "#nested if else\n",
    "# positive neg 0\n",
    "\n",
    "num=int(input(\"no ?\"))\n",
    "if num>=0:\n",
    "    if num==0:\n",
    "        print('O')\n",
    "    else:\n",
    "        print('+ve')\n",
    "else:\n",
    "    print('-ve')"
   ]
  },
  {
   "cell_type": "code",
   "execution_count": 24,
   "id": "355d92a9",
   "metadata": {},
   "outputs": [
    {
     "name": "stdout",
     "output_type": "stream",
     "text": [
      "i am greet function\n",
      "done\n"
     ]
    }
   ],
   "source": [
    "#Functions\n",
    "def greet(): #function defination\n",
    "    print(\"i am greet function\")\n",
    "    print(\"done\")\n",
    "greet() #call\n",
    "\n",
    "#interpreter so ulta nahi ki greet call pehle not possible -: Name error\n"
   ]
  },
  {
   "cell_type": "code",
   "execution_count": 25,
   "id": "94a574be",
   "metadata": {},
   "outputs": [],
   "source": [
    "#addition\n",
    "\n",
    "#pass -: doesn't do anything; cannot leave functions empty\n",
    "\n",
    "def add():\n",
    "    pass \n",
    "\n",
    "add()"
   ]
  },
  {
   "cell_type": "code",
   "execution_count": 30,
   "id": "06aa4312",
   "metadata": {},
   "outputs": [
    {
     "name": "stdout",
     "output_type": "stream",
     "text": [
      "30\n",
      "180\n"
     ]
    }
   ],
   "source": [
    "#global and local variable ; scoping\n",
    "#har variable ka scope jaha tak woh valid hote hai\n",
    "#-: function tak limited scope -: local\n",
    "\n",
    "def add():\n",
    "    a=10 #loc\n",
    "    b=20 #loc\n",
    "    total=a+b #loc\n",
    "    print(total)\n",
    "    \n",
    "def sub():\n",
    "    a=200 #loc\n",
    "    b=20 #loc\n",
    "    total=a-b #loc\n",
    "    print(total)\n",
    "\n",
    "#a=100  if global banao toh\n",
    "add()\n",
    "sub()\n",
    "#print(a) #name error ; function ke andar apni duniya local variables ki\n",
    "\n",
    "\n"
   ]
  },
  {
   "cell_type": "code",
   "execution_count": 38,
   "id": "90aab69a",
   "metadata": {},
   "outputs": [
    {
     "name": "stdout",
     "output_type": "stream",
     "text": [
      "13\n",
      "harshharsh\n"
     ]
    }
   ],
   "source": [
    "#types of func\n",
    "'''\n",
    "without parameter; without return\n",
    "with parameter; without return\n",
    "without parameter; with return\n",
    "with parameter; with return\n",
    "'''\n",
    "# argument -: joh bhej rahe ho\n",
    "# parameters -: joh define kar rahe func\n",
    "\n",
    "def add(a:int,b:int):\n",
    "    \n",
    "    total=a+b #loc\n",
    "    print(total)\n",
    "\n",
    "add(10,3)\n",
    "add(\"harsh\",\"uttamchandani\") \n",
    "# annotation karlo a:int b:int \n",
    "#still work kar jaayega\n",
    "#add(10,\"harsh\") #error str+int not allowed\n",
    "\n",
    "\n"
   ]
  },
  {
   "cell_type": "code",
   "execution_count": 42,
   "id": "b8b42ab2",
   "metadata": {},
   "outputs": [
    {
     "name": "stdout",
     "output_type": "stream",
     "text": [
      "Total marks scored = 244\n",
      "Total marks scored = 247\n"
     ]
    }
   ],
   "source": [
    "#named parameters\n",
    "def marks(physics: float, chemistry: float, maths: float, english: float):\n",
    "    total = physics + chemistry + maths + english\n",
    "    print(f\"Total marks scored = {total}\")\n",
    "\n",
    "#positional arguments ussi pos mein and joh bheje woh name se woh named\n",
    "# marks (59, 87, 81, 99) direct map kardega \n",
    "marks (english=99, physics=11, maths=34, chemistry=100) #apan ne jaise di hai uske hisaab se apne aap\n",
    "marks (59, 88, english=11,maths=89)\n",
    "#marks (59, english=11,maths=89,88) # pehle waale aage daaldo else poisitional argument follows keyword error"
   ]
  },
  {
   "cell_type": "markdown",
   "id": "d29ade6e",
   "metadata": {},
   "source": [
    "# Assigments are at end together"
   ]
  },
  {
   "cell_type": "markdown",
   "id": "8ec2ab12",
   "metadata": {},
   "source": [
    "# Day 2"
   ]
  },
  {
   "cell_type": "code",
   "execution_count": 3,
   "id": "8a0fbc1f",
   "metadata": {},
   "outputs": [
    {
     "name": "stdout",
     "output_type": "stream",
     "text": [
      "Total marks scored = 259\n",
      "Total marks scored = 170\n",
      "Total marks scored = 59238823\n"
     ]
    }
   ],
   "source": [
    "#default arguments\n",
    "\n",
    "def marks(physics: float, maths: float, english: float,chemistry: float=0):\n",
    "    # default argument should be at right always important else not work\n",
    "    #joh joh chahiye right pein\n",
    "    total = physics + chemistry + maths + english\n",
    "    print(f\"Total marks scored = {total}\")\n",
    "    \n",
    "marks (59, 88,23,89)\n",
    "marks (59, 88,23) #takes 0 apne aap\n",
    "marks ('59', '88','23','23')#string contanecate ; sirf annotations hai vs mein red dikhadega\n",
    "#marks ('59', '88','23')#error here\n",
    "# marks (59,english=89,maths=11,40) #positional argument follows keyword argument error"
   ]
  },
  {
   "cell_type": "code",
   "execution_count": 6,
   "id": "bba41efd",
   "metadata": {},
   "outputs": [
    {
     "name": "stdout",
     "output_type": "stream",
     "text": [
      "17\n",
      "7\n"
     ]
    }
   ],
   "source": [
    "#with return\n",
    "\n",
    "def marks(m1,m2):\n",
    "    total=m1+m2\n",
    "    return total\n",
    "\n",
    "print(marks(7,10))#direct print\n",
    "x=marks(3,4)#save karke print\n",
    "print(x)\n"
   ]
  },
  {
   "cell_type": "code",
   "execution_count": 9,
   "id": "4df0919e",
   "metadata": {},
   "outputs": [
    {
     "name": "stdout",
     "output_type": "stream",
     "text": [
      "7\n",
      "None\n"
     ]
    }
   ],
   "source": [
    "#without return\n",
    "def marks(m1,m2):\n",
    "    total=m1+m2\n",
    "    print(total)\n",
    "\n",
    "x=marks(3,4)#ismein none type hoga\n",
    "print(x)"
   ]
  },
  {
   "cell_type": "code",
   "execution_count": 10,
   "id": "78676885",
   "metadata": {},
   "outputs": [
    {
     "name": "stdout",
     "output_type": "stream",
     "text": [
      "6 <class 'int'>\n",
      "None <class 'NoneType'>\n"
     ]
    }
   ],
   "source": [
    "#None\n",
    "a=6\n",
    "b=None\n",
    "print(a,type(a))\n",
    "print(b,type(b))"
   ]
  },
  {
   "cell_type": "code",
   "execution_count": 12,
   "id": "b48435dc",
   "metadata": {},
   "outputs": [
    {
     "name": "stdout",
     "output_type": "stream",
     "text": [
      "7\n"
     ]
    }
   ],
   "source": [
    "def marks(m1,m2)->int: # -> return type is int annotation\n",
    "    total=m1+m2\n",
    "    return total\n",
    "\n",
    "x=marks(3,4)\n",
    "print(x)"
   ]
  },
  {
   "cell_type": "code",
   "execution_count": 14,
   "id": "15a8e267",
   "metadata": {},
   "outputs": [
    {
     "name": "stdout",
     "output_type": "stream",
     "text": [
      "your marks 7\n"
     ]
    }
   ],
   "source": [
    "def marks(m1,m2)->str: # -> return type is str msg ke saath annotation\n",
    "    total=m1+m2\n",
    "    return f\"your marks {total}\" \n",
    "\n",
    "print(marks(3,4))"
   ]
  },
  {
   "cell_type": "code",
   "execution_count": 16,
   "id": "62c3bbb8",
   "metadata": {},
   "outputs": [
    {
     "name": "stdout",
     "output_type": "stream",
     "text": [
      "True\n"
     ]
    }
   ],
   "source": [
    "#clean coding\n",
    "#odd_even\n",
    "\n",
    "def checkoddeve(a:int)->bool:\n",
    "    if(a%2==0):\n",
    "        return True\n",
    "    else:\n",
    "        return False\n",
    "a=4\n",
    "print(checkoddeve(4))"
   ]
  },
  {
   "cell_type": "code",
   "execution_count": 17,
   "id": "5ee1f056",
   "metadata": {},
   "outputs": [
    {
     "name": "stdout",
     "output_type": "stream",
     "text": [
      "True\n"
     ]
    }
   ],
   "source": [
    "#another good way return break kardeta hai so but onli in return not print\n",
    "def checkoddeve(a:int)->bool:\n",
    "    if(a%2==0):\n",
    "        return True\n",
    "    return False\n",
    "a=4\n",
    "print(checkoddeve(4))"
   ]
  },
  {
   "cell_type": "code",
   "execution_count": 18,
   "id": "f417c7e8",
   "metadata": {},
   "outputs": [
    {
     "name": "stdout",
     "output_type": "stream",
     "text": [
      "age=? 24\n"
     ]
    },
    {
     "data": {
      "text/plain": [
       "True"
      ]
     },
     "execution_count": 18,
     "metadata": {},
     "output_type": "execute_result"
    }
   ],
   "source": [
    "#age vote\n",
    "\n",
    "def eligible(age:int)->bool:\n",
    "    if(age>=18):\n",
    "        return True\n",
    "    return False\n",
    "age=int(input(\"age=? \"))\n",
    "eligible(age)"
   ]
  },
  {
   "cell_type": "code",
   "execution_count": 22,
   "id": "68db00b1",
   "metadata": {},
   "outputs": [
    {
     "name": "stdout",
     "output_type": "stream",
     "text": [
      "age=? 45\n",
      "can vote\n"
     ]
    }
   ],
   "source": [
    "#here dono print ho jaayenge ; khaali return laga do toh works\n",
    "def eligible(age:int)->None:\n",
    "    if(age>=18):\n",
    "        print (\"can vote\")\n",
    "        #return    #return None bhi likh sakte ho\n",
    "    print (\"cannot vote\")\n",
    "age=int(input(\"age=? \"))\n",
    "eligible(age)"
   ]
  },
  {
   "cell_type": "code",
   "execution_count": 25,
   "id": "249c2ec0",
   "metadata": {},
   "outputs": [
    {
     "name": "stdout",
     "output_type": "stream",
     "text": [
      "5\n"
     ]
    }
   ],
   "source": [
    "def min3(a:int,b:int,c:int)->int:\n",
    "    if(a<b and a<c):\n",
    "        return a\n",
    "    elif(b<a and b<c):\n",
    "        return b\n",
    "    return c\n",
    "\n",
    "a=5\n",
    "b=10\n",
    "c=8\n",
    "print(min3(a,b,c))"
   ]
  },
  {
   "cell_type": "code",
   "execution_count": 24,
   "id": "daec852e",
   "metadata": {},
   "outputs": [
    {
     "name": "stdout",
     "output_type": "stream",
     "text": [
      "5\n"
     ]
    }
   ],
   "source": [
    "#min3\n",
    "'''3 integers as input smallest return'''\n",
    "\n",
    "def min3(a:int,b:int,c:int)->int:\n",
    "    '''this function returns min value''' #docstring ban jaati vscode mein dikhjaati hai hover karne pein\n",
    "    minimum=a\n",
    "    if(b<minimum):\n",
    "        minimum=b\n",
    "    if(c<minimum):\n",
    "        minimum=c\n",
    "    return minimum\n",
    "\n",
    "a=5\n",
    "b=10\n",
    "c=8\n",
    "print(min3(a,b,c))\n",
    "\n",
    "# min inbuilt function also exists use waise that in dsa saves time "
   ]
  },
  {
   "cell_type": "markdown",
   "id": "c347358d",
   "metadata": {},
   "source": [
    "# Day 3\n",
    "\n"
   ]
  },
  {
   "cell_type": "code",
   "execution_count": 27,
   "id": "c9c36b0d",
   "metadata": {},
   "outputs": [
    {
     "name": "stdout",
     "output_type": "stream",
     "text": [
      "1 hello\n",
      "2 hello\n",
      "3 hello\n",
      "4 hello\n",
      "5 hello\n",
      "6 hello\n",
      "7 hello\n",
      "8 hello\n",
      "9 hello\n",
      "10 hello\n",
      "11 hello\n",
      "12 hello\n",
      "13 hello\n",
      "14 hello\n",
      "15 hello\n",
      "done\n"
     ]
    }
   ],
   "source": [
    "#while loop\n",
    "#print hello 15 times\n",
    "a=1\n",
    "while(a<=15):\n",
    "    print(a,\"hello\")\n",
    "    a+=1 #if not this infinite loop\n",
    "print(\"done\")\n",
    "\n",
    "#cmd+c to exit \n"
   ]
  },
  {
   "cell_type": "code",
   "execution_count": 28,
   "id": "708ce28c",
   "metadata": {},
   "outputs": [
    {
     "name": "stdout",
     "output_type": "stream",
     "text": [
      "1\n",
      "2\n",
      "3\n",
      "4\n",
      "5\n",
      "6\n",
      "7\n",
      "8\n",
      "9\n",
      "10\n",
      "done\n"
     ]
    }
   ],
   "source": [
    "#print 1 to 10\n",
    "a=1\n",
    "while(a<=10):\n",
    "    print(a)\n",
    "    a+=1 #if not this infinite loop ; i=i+1\n",
    "print(\"done\")"
   ]
  },
  {
   "cell_type": "code",
   "execution_count": 36,
   "id": "ec9baa1e",
   "metadata": {},
   "outputs": [
    {
     "name": "stdout",
     "output_type": "stream",
     "text": [
      "1 2 3 4 5 6 7 8 9 10 \n",
      "1 2 3 4 \n"
     ]
    }
   ],
   "source": [
    "def pattern(n:int)->None:\n",
    "    i=1\n",
    "    while(i<=n):\n",
    "        print(i,end=' ')\n",
    "        i+=1\n",
    "    print() #if no print dono same lines mein aa jaayenge\n",
    "pattern(10)\n",
    "pattern(4)"
   ]
  },
  {
   "cell_type": "code",
   "execution_count": 42,
   "id": "82b8a4f9",
   "metadata": {},
   "outputs": [
    {
     "name": "stdout",
     "output_type": "stream",
     "text": [
      "start ? 3\n",
      "end ? 4\n",
      "3 4 \n"
     ]
    }
   ],
   "source": [
    "'''start to end'''\n",
    "def pattern(start:int,end:int)->None:\n",
    "    i=start\n",
    "    while(i<=e):\n",
    "        print(i,end=' ')\n",
    "        i+=1\n",
    "    print() \n",
    "start=int(input(\"start ? \"))\n",
    "e=int(input(\"end ? \"))\n",
    "pattern(start,e)"
   ]
  },
  {
   "cell_type": "code",
   "execution_count": 45,
   "id": "e65a5a6c",
   "metadata": {},
   "outputs": [
    {
     "name": "stdout",
     "output_type": "stream",
     "text": [
      "55\n"
     ]
    }
   ],
   "source": [
    "'''sum of numbers 1 to 10'''\n",
    "\n",
    "def sum(n:int)->int:\n",
    "    i=1\n",
    "    sum=0\n",
    "    while(i<=n):\n",
    "        sum=sum+i\n",
    "        i+=1\n",
    "    return sum\n",
    "n=10\n",
    "print(sum(n))"
   ]
  },
  {
   "cell_type": "code",
   "execution_count": 47,
   "id": "bad639a3",
   "metadata": {},
   "outputs": [
    {
     "name": "stdout",
     "output_type": "stream",
     "text": [
      "3628800\n"
     ]
    }
   ],
   "source": [
    "'''mul of numbers 1 to 10'''\n",
    "\n",
    "def mul(n:int)->int:\n",
    "    i=1\n",
    "    mul=1\n",
    "    while(i<=n):\n",
    "        mul=mul*i\n",
    "        i+=1\n",
    "    return mul\n",
    "n=10\n",
    "print(mul(n))"
   ]
  },
  {
   "cell_type": "code",
   "execution_count": 51,
   "id": "eddefd0c",
   "metadata": {},
   "outputs": [
    {
     "name": "stdout",
     "output_type": "stream",
     "text": [
      "start ? 1\n",
      "end ? 22\n",
      "11\n",
      "no of even no= 11\n"
     ]
    }
   ],
   "source": [
    "'''Count even no start to end'''\n",
    "def counteven(start:int,end:int)->None:\n",
    "    i=start\n",
    "    count=0\n",
    "    while(i<=e):\n",
    "        if(i%2==0):\n",
    "            count+=1\n",
    "        i+=1\n",
    "    return count\n",
    "start=int(input(\"start ? \"))\n",
    "e=int(input(\"end ? \"))\n",
    "print(counteven(start,e))\n",
    "print(f\"no of even no= {counteven(start,e)}\") #another way to print"
   ]
  },
  {
   "cell_type": "code",
   "execution_count": 53,
   "id": "6b61ed57",
   "metadata": {},
   "outputs": [
    {
     "name": "stdout",
     "output_type": "stream",
     "text": [
      "start ? 71\n",
      "end ? 189\n",
      "sum= 7670\n"
     ]
    }
   ],
   "source": [
    "'''even no sum'''\n",
    "\n",
    "def counteven(start:int,end:int)->None:\n",
    "    i=start\n",
    "    sum=0\n",
    "    while(i<=e):\n",
    "        if(i%2==0):\n",
    "            sum+=i\n",
    "        i+=1\n",
    "    return sum\n",
    "start=int(input(\"start ? \"))\n",
    "e=int(input(\"end ? \"))\n",
    "print(f\"sum= {counteven(start,e)}\") #another way to print"
   ]
  },
  {
   "cell_type": "markdown",
   "id": "acbd0102",
   "metadata": {},
   "source": [
    "# Day 4"
   ]
  },
  {
   "cell_type": "code",
   "execution_count": 55,
   "id": "9f730665",
   "metadata": {},
   "outputs": [
    {
     "name": "stdout",
     "output_type": "stream",
     "text": [
      "3\n"
     ]
    }
   ],
   "source": [
    "#Assignment 2 q3\n",
    "\n",
    "'''find middle no'''\n",
    "def middle(a,b,c)->int:\n",
    "    if((a>b and a<c) or (a>c and a<b)):\n",
    "        return a\n",
    "    elif ((b>a and b<c) or (b>c and b<a)):\n",
    "        return b\n",
    "    return c\n",
    "print(middle(3,3,6))\n",
    "        "
   ]
  },
  {
   "cell_type": "code",
   "execution_count": null,
   "id": "1635870c",
   "metadata": {},
   "outputs": [],
   "source": []
  },
  {
   "cell_type": "code",
   "execution_count": null,
   "id": "a1a8cd5e",
   "metadata": {},
   "outputs": [],
   "source": []
  },
  {
   "cell_type": "code",
   "execution_count": null,
   "id": "0afda93e",
   "metadata": {},
   "outputs": [],
   "source": []
  },
  {
   "cell_type": "code",
   "execution_count": null,
   "id": "186977bf",
   "metadata": {},
   "outputs": [],
   "source": []
  },
  {
   "cell_type": "code",
   "execution_count": 54,
   "id": "cab605ee",
   "metadata": {},
   "outputs": [
    {
     "name": "stdout",
     "output_type": "stream",
     "text": [
      "6\n",
      "-1\n"
     ]
    }
   ],
   "source": [
    "#w2 assignment 2 q1\n",
    "\n",
    "def largest(a:int=None,b:int=None,c:int=None)->int:\n",
    "    if(a==b and b==c and a==None):\n",
    "        return -1\n",
    "    if(a>b and a>c):\n",
    "        return a\n",
    "    if(b>a and b>c):\n",
    "        return b\n",
    "    if(c>b and c>a):\n",
    "        return c\n",
    "print(largest(2,3,6))\n",
    "print(largest())"
   ]
  },
  {
   "cell_type": "code",
   "execution_count": null,
   "id": "03b12006",
   "metadata": {},
   "outputs": [],
   "source": []
  }
 ],
 "metadata": {
  "kernelspec": {
   "display_name": "Python 3 (ipykernel)",
   "language": "python",
   "name": "python3"
  },
  "language_info": {
   "codemirror_mode": {
    "name": "ipython",
    "version": 3
   },
   "file_extension": ".py",
   "mimetype": "text/x-python",
   "name": "python",
   "nbconvert_exporter": "python",
   "pygments_lexer": "ipython3",
   "version": "3.11.5"
  }
 },
 "nbformat": 4,
 "nbformat_minor": 5
}
