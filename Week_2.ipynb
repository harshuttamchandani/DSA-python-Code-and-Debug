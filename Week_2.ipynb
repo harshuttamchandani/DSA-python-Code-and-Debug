{
 "cells": [
  {
   "cell_type": "markdown",
   "id": "058266b6",
   "metadata": {},
   "source": [
    "# Day 1"
   ]
  },
  {
   "cell_type": "code",
   "execution_count": 8,
   "id": "5dced17d",
   "metadata": {},
   "outputs": [
    {
     "name": "stdout",
     "output_type": "stream",
     "text": [
      "A\n",
      "Invalid\n"
     ]
    }
   ],
   "source": [
    "#elif ques basic done week 1\n",
    "\n",
    "'''\n",
    "muliple elif doesn't check others\n",
    "if bahut saare har baar check and then end mein else check (dangaling else)\n",
    "'''\n",
    "\n",
    "marks = 95\n",
    "if marks >= 91 and marks<=100:\n",
    "    print (\"A\")\n",
    "if marks >= 81 and marks <= 90:\n",
    "    print (\"B\")\n",
    "if marks>=71 and marks<= 80:\n",
    "    print(\"c\")\n",
    "if marks >= 61 and marks<=79:\n",
    "    print(\"D\")\n",
    "if marks >= 0 and marks<= 60:\n",
    "    print (\"FAIL\")\n",
    "else:\n",
    "    print(\"Invalid\")"
   ]
  },
  {
   "cell_type": "code",
   "execution_count": 17,
   "id": "a1a64d82",
   "metadata": {},
   "outputs": [
    {
     "name": "stdout",
     "output_type": "stream",
     "text": [
      "30\n",
      "foo bar\n"
     ]
    }
   ],
   "source": [
    "#foo-bar;ig fizz buzz\n",
    "\n",
    "'''user input koi bhi no-: 3 foo\n",
    "5 se-: boo\n",
    "3 and 5 foo bar\n",
    "nothing foo foo bar bar'''\n",
    "\n",
    "c=int(input())\n",
    "if(c%15==0): #idhar if first condition 3 waali raki hoti so 30 wale case mein problem\n",
    "    print('foo bar')\n",
    "elif(c%3==0):\n",
    "    print('foo')\n",
    "elif(c%5==0):   \n",
    "    print('bar')\n",
    "else:\n",
    "    print('foo foo bar bar')"
   ]
  },
  {
   "cell_type": "code",
   "execution_count": 20,
   "id": "98fa7536",
   "metadata": {},
   "outputs": [
    {
     "name": "stdout",
     "output_type": "stream",
     "text": [
      "22.5\n",
      "5.625\n",
      "True\n"
     ]
    }
   ],
   "source": [
    "#operator precedence\n",
    "\n",
    "print(10*9/4)\n",
    "print(10*9/4**2)\n",
    "print(10*9 > 4**2) #>< very niche precedence mein\n"
   ]
  },
  {
   "cell_type": "code",
   "execution_count": 21,
   "id": "22f347a3",
   "metadata": {},
   "outputs": [
    {
     "name": "stdout",
     "output_type": "stream",
     "text": [
      "no ?3\n",
      "+ve\n"
     ]
    }
   ],
   "source": [
    "#nested if else\n",
    "# positive neg 0\n",
    "\n",
    "num=int(input(\"no ?\"))\n",
    "if num>=0:\n",
    "    if num==0:\n",
    "        print('O')\n",
    "    else:\n",
    "        print('+ve')\n",
    "else:\n",
    "    print('-ve')"
   ]
  },
  {
   "cell_type": "code",
   "execution_count": 24,
   "id": "355d92a9",
   "metadata": {},
   "outputs": [
    {
     "name": "stdout",
     "output_type": "stream",
     "text": [
      "i am greet function\n",
      "done\n"
     ]
    }
   ],
   "source": [
    "#Functions\n",
    "def greet(): #function defination\n",
    "    print(\"i am greet function\")\n",
    "    print(\"done\")\n",
    "greet() #call\n",
    "\n",
    "#interpreter so ulta nahi ki greet call pehle not possible -: Name error\n"
   ]
  },
  {
   "cell_type": "code",
   "execution_count": 25,
   "id": "94a574be",
   "metadata": {},
   "outputs": [],
   "source": [
    "#addition\n",
    "\n",
    "#pass -: doesn't do anything; cannot leave functions empty\n",
    "\n",
    "def add():\n",
    "    pass \n",
    "\n",
    "add()"
   ]
  },
  {
   "cell_type": "code",
   "execution_count": 30,
   "id": "06aa4312",
   "metadata": {},
   "outputs": [
    {
     "name": "stdout",
     "output_type": "stream",
     "text": [
      "30\n",
      "180\n"
     ]
    }
   ],
   "source": [
    "#global and local variable ; scoping\n",
    "#har variable ka scope jaha tak woh valid hote hai\n",
    "#-: function tak limited scope -: local\n",
    "\n",
    "def add():\n",
    "    a=10 #loc\n",
    "    b=20 #loc\n",
    "    total=a+b #loc\n",
    "    print(total)\n",
    "    \n",
    "def sub():\n",
    "    a=200 #loc\n",
    "    b=20 #loc\n",
    "    total=a-b #loc\n",
    "    print(total)\n",
    "\n",
    "#a=100  if global banao toh\n",
    "add()\n",
    "sub()\n",
    "#print(a) #name error ; function ke andar apni duniya local variables ki\n",
    "\n",
    "\n"
   ]
  },
  {
   "cell_type": "code",
   "execution_count": 38,
   "id": "90aab69a",
   "metadata": {},
   "outputs": [
    {
     "name": "stdout",
     "output_type": "stream",
     "text": [
      "13\n",
      "harshharsh\n"
     ]
    }
   ],
   "source": [
    "#types of func\n",
    "'''\n",
    "without parameter; without return\n",
    "with parameter; without return\n",
    "without parameter; with return\n",
    "with parameter; with return\n",
    "'''\n",
    "# argument -: joh bhej rahe ho\n",
    "# parameters -: joh define kar rahe func\n",
    "\n",
    "def add(a:int,b:int):\n",
    "    \n",
    "    total=a+b #loc\n",
    "    print(total)\n",
    "\n",
    "add(10,3)\n",
    "add(\"harsh\",\"uttamchandani\") \n",
    "# annotation karlo a:int b:int \n",
    "#still work kar jaayega\n",
    "#add(10,\"harsh\") #error str+int not allowed\n",
    "\n",
    "\n"
   ]
  },
  {
   "cell_type": "code",
   "execution_count": 42,
   "id": "b8b42ab2",
   "metadata": {},
   "outputs": [
    {
     "name": "stdout",
     "output_type": "stream",
     "text": [
      "Total marks scored = 244\n",
      "Total marks scored = 247\n"
     ]
    }
   ],
   "source": [
    "#named parameters\n",
    "def marks(physics: float, chemistry: float, maths: float, english: float):\n",
    "    total = physics + chemistry + maths + english\n",
    "    print(f\"Total marks scored = {total}\")\n",
    "\n",
    "#positional arguments ussi pos mein and joh bheje woh name se woh named\n",
    "# marks (59, 87, 81, 99) direct map kardega \n",
    "marks (english=99, physics=11, maths=34, chemistry=100) #apan ne jaise di hai uske hisaab se apne aap\n",
    "marks (59, 88, english=11,maths=89)\n",
    "#marks (59, english=11,maths=89,88) # pehle waale aage daaldo else poisitional argument follows keyword error"
   ]
  },
  {
   "cell_type": "markdown",
   "id": "d29ade6e",
   "metadata": {},
   "source": [
    "# Assigments are at end together"
   ]
  },
  {
   "cell_type": "markdown",
   "id": "8ec2ab12",
   "metadata": {},
   "source": [
    "# Day 2"
   ]
  },
  {
   "cell_type": "code",
   "execution_count": 3,
   "id": "8a0fbc1f",
   "metadata": {},
   "outputs": [
    {
     "name": "stdout",
     "output_type": "stream",
     "text": [
      "Total marks scored = 259\n",
      "Total marks scored = 170\n",
      "Total marks scored = 59238823\n"
     ]
    }
   ],
   "source": [
    "#default arguments\n",
    "\n",
    "def marks(physics: float, maths: float, english: float,chemistry: float=0):\n",
    "    # default argument should be at right always important else not work\n",
    "    #joh joh chahiye right pein\n",
    "    total = physics + chemistry + maths + english\n",
    "    print(f\"Total marks scored = {total}\")\n",
    "    \n",
    "marks (59, 88,23,89)\n",
    "marks (59, 88,23) #takes 0 apne aap\n",
    "marks ('59', '88','23','23')#string contanecate ; sirf annotations hai vs mein red dikhadega\n",
    "#marks ('59', '88','23')#error here\n",
    "# marks (59,english=89,maths=11,40) #positional argument follows keyword argument error"
   ]
  },
  {
   "cell_type": "code",
   "execution_count": 6,
   "id": "bba41efd",
   "metadata": {},
   "outputs": [
    {
     "name": "stdout",
     "output_type": "stream",
     "text": [
      "17\n",
      "7\n"
     ]
    }
   ],
   "source": [
    "#with return\n",
    "\n",
    "def marks(m1,m2):\n",
    "    total=m1+m2\n",
    "    return total\n",
    "\n",
    "print(marks(7,10))#direct print\n",
    "x=marks(3,4)#save karke print\n",
    "print(x)\n"
   ]
  },
  {
   "cell_type": "code",
   "execution_count": 9,
   "id": "4df0919e",
   "metadata": {},
   "outputs": [
    {
     "name": "stdout",
     "output_type": "stream",
     "text": [
      "7\n",
      "None\n"
     ]
    }
   ],
   "source": [
    "#without return\n",
    "def marks(m1,m2):\n",
    "    total=m1+m2\n",
    "    print(total)\n",
    "\n",
    "x=marks(3,4)#ismein none type hoga\n",
    "print(x)"
   ]
  },
  {
   "cell_type": "code",
   "execution_count": 10,
   "id": "e4f3f104",
   "metadata": {},
   "outputs": [
    {
     "name": "stdout",
     "output_type": "stream",
     "text": [
      "6 <class 'int'>\n",
      "None <class 'NoneType'>\n"
     ]
    }
   ],
   "source": [
    "#None\n",
    "a=6\n",
    "b=None\n",
    "print(a,type(a))\n",
    "print(b,type(b))"
   ]
  },
  {
   "cell_type": "code",
   "execution_count": 12,
   "id": "434b3be7",
   "metadata": {},
   "outputs": [
    {
     "name": "stdout",
     "output_type": "stream",
     "text": [
      "7\n"
     ]
    }
   ],
   "source": [
    "def marks(m1,m2)->int: # -> return type is int annotation\n",
    "    total=m1+m2\n",
    "    return total\n",
    "\n",
    "x=marks(3,4)\n",
    "print(x)"
   ]
  },
  {
   "cell_type": "code",
   "execution_count": 14,
   "id": "82413508",
   "metadata": {},
   "outputs": [
    {
     "name": "stdout",
     "output_type": "stream",
     "text": [
      "your marks 7\n"
     ]
    }
   ],
   "source": [
    "def marks(m1,m2)->str: # -> return type is str msg ke saath annotation\n",
    "    total=m1+m2\n",
    "    return f\"your marks {total}\" \n",
    "\n",
    "print(marks(3,4))"
   ]
  },
  {
   "cell_type": "code",
   "execution_count": 16,
   "id": "714d3621",
   "metadata": {},
   "outputs": [
    {
     "name": "stdout",
     "output_type": "stream",
     "text": [
      "True\n"
     ]
    }
   ],
   "source": [
    "#clean coding\n",
    "#odd_even\n",
    "\n",
    "def checkoddeve(a:int)->bool:\n",
    "    if(a%2==0):\n",
    "        return True\n",
    "    else:\n",
    "        return False\n",
    "a=4\n",
    "print(checkoddeve(4))"
   ]
  },
  {
   "cell_type": "code",
   "execution_count": 17,
   "id": "38771986",
   "metadata": {},
   "outputs": [
    {
     "name": "stdout",
     "output_type": "stream",
     "text": [
      "True\n"
     ]
    }
   ],
   "source": [
    "#another good way return break kardeta hai so but onli in return not print\n",
    "def checkoddeve(a:int)->bool:\n",
    "    if(a%2==0):\n",
    "        return True\n",
    "    return False\n",
    "a=4\n",
    "print(checkoddeve(4))"
   ]
  },
  {
   "cell_type": "code",
   "execution_count": 18,
   "id": "097f542f",
   "metadata": {},
   "outputs": [
    {
     "name": "stdout",
     "output_type": "stream",
     "text": [
      "age=? 24\n"
     ]
    },
    {
     "data": {
      "text/plain": [
       "True"
      ]
     },
     "execution_count": 18,
     "metadata": {},
     "output_type": "execute_result"
    }
   ],
   "source": [
    "#age vote\n",
    "\n",
    "def eligible(age:int)->bool:\n",
    "    if(age>=18):\n",
    "        return True\n",
    "    return False\n",
    "age=int(input(\"age=? \"))\n",
    "eligible(age)"
   ]
  },
  {
   "cell_type": "code",
   "execution_count": 22,
   "id": "a6d1a9d6",
   "metadata": {},
   "outputs": [
    {
     "name": "stdout",
     "output_type": "stream",
     "text": [
      "age=? 45\n",
      "can vote\n"
     ]
    }
   ],
   "source": [
    "#here dono print ho jaayenge ; khaali return laga do toh works\n",
    "def eligible(age:int)->None:\n",
    "    if(age>=18):\n",
    "        print (\"can vote\")\n",
    "        #return    #return None bhi likh sakte ho\n",
    "    print (\"cannot vote\")\n",
    "age=int(input(\"age=? \"))\n",
    "eligible(age)"
   ]
  },
  {
   "cell_type": "code",
   "execution_count": 25,
   "id": "008a62fc",
   "metadata": {},
   "outputs": [
    {
     "name": "stdout",
     "output_type": "stream",
     "text": [
      "5\n"
     ]
    }
   ],
   "source": [
    "def min3(a:int,b:int,c:int)->int:\n",
    "    if(a<b and a<c):\n",
    "        return a\n",
    "    elif(b<a and b<c):\n",
    "        return b\n",
    "    return c\n",
    "\n",
    "a=5\n",
    "b=10\n",
    "c=8\n",
    "print(min3(a,b,c))"
   ]
  },
  {
   "cell_type": "code",
   "execution_count": 24,
   "id": "e00a8852",
   "metadata": {},
   "outputs": [
    {
     "name": "stdout",
     "output_type": "stream",
     "text": [
      "5\n"
     ]
    }
   ],
   "source": [
    "#min3\n",
    "'''3 integers as input smallest return'''\n",
    "\n",
    "def min3(a:int,b:int,c:int)->int:\n",
    "    '''this function returns min value''' #docstring ban jaati vscode mein dikhjaati hai hover karne pein\n",
    "    minimum=a\n",
    "    if(b<minimum):\n",
    "        minimum=b\n",
    "    if(c<minimum):\n",
    "        minimum=c\n",
    "    return minimum\n",
    "\n",
    "a=5\n",
    "b=10\n",
    "c=8\n",
    "print(min3(a,b,c))\n",
    "\n",
    "# min inbuilt function also exists use waise that in dsa saves time "
   ]
  },
  {
   "cell_type": "markdown",
   "id": "3664a498",
   "metadata": {},
   "source": [
    "# Day 3\n",
    "\n"
   ]
  },
  {
   "cell_type": "code",
   "execution_count": 27,
   "id": "80e17ebe",
   "metadata": {},
   "outputs": [
    {
     "name": "stdout",
     "output_type": "stream",
     "text": [
      "1 hello\n",
      "2 hello\n",
      "3 hello\n",
      "4 hello\n",
      "5 hello\n",
      "6 hello\n",
      "7 hello\n",
      "8 hello\n",
      "9 hello\n",
      "10 hello\n",
      "11 hello\n",
      "12 hello\n",
      "13 hello\n",
      "14 hello\n",
      "15 hello\n",
      "done\n"
     ]
    }
   ],
   "source": [
    "#while loop\n",
    "#print hello 15 times\n",
    "a=1\n",
    "while(a<=15):\n",
    "    print(a,\"hello\")\n",
    "    a+=1 #if not this infinite loop\n",
    "print(\"done\")\n",
    "\n",
    "#cmd+c to exit \n"
   ]
  },
  {
   "cell_type": "code",
   "execution_count": 28,
   "id": "d72ab9d9",
   "metadata": {},
   "outputs": [
    {
     "name": "stdout",
     "output_type": "stream",
     "text": [
      "1\n",
      "2\n",
      "3\n",
      "4\n",
      "5\n",
      "6\n",
      "7\n",
      "8\n",
      "9\n",
      "10\n",
      "done\n"
     ]
    }
   ],
   "source": [
    "#print 1 to 10\n",
    "a=1\n",
    "while(a<=10):\n",
    "    print(a)\n",
    "    a+=1 #if not this infinite loop ; i=i+1\n",
    "print(\"done\")"
   ]
  },
  {
   "cell_type": "code",
   "execution_count": 36,
   "id": "4e9aaaa3",
   "metadata": {},
   "outputs": [
    {
     "name": "stdout",
     "output_type": "stream",
     "text": [
      "1 2 3 4 5 6 7 8 9 10 \n",
      "1 2 3 4 \n"
     ]
    }
   ],
   "source": [
    "def pattern(n:int)->None:\n",
    "    i=1\n",
    "    while(i<=n):\n",
    "        print(i,end=' ')\n",
    "        i+=1\n",
    "    print() #if no print dono same lines mein aa jaayenge\n",
    "pattern(10)\n",
    "pattern(4)"
   ]
  },
  {
   "cell_type": "code",
   "execution_count": 42,
   "id": "3c04c061",
   "metadata": {},
   "outputs": [
    {
     "name": "stdout",
     "output_type": "stream",
     "text": [
      "start ? 3\n",
      "end ? 4\n",
      "3 4 \n"
     ]
    }
   ],
   "source": [
    "'''start to end'''\n",
    "def pattern(start:int,end:int)->None:\n",
    "    i=start\n",
    "    while(i<=e):\n",
    "        print(i,end=' ')\n",
    "        i+=1\n",
    "    print() \n",
    "start=int(input(\"start ? \"))\n",
    "e=int(input(\"end ? \"))\n",
    "pattern(start,e)"
   ]
  },
  {
   "cell_type": "code",
   "execution_count": 45,
   "id": "feffa81a",
   "metadata": {},
   "outputs": [
    {
     "name": "stdout",
     "output_type": "stream",
     "text": [
      "55\n"
     ]
    }
   ],
   "source": [
    "'''sum of numbers 1 to 10'''\n",
    "\n",
    "def sum(n:int)->int:\n",
    "    i=1\n",
    "    sum=0\n",
    "    while(i<=n):\n",
    "        sum=sum+i\n",
    "        i+=1\n",
    "    return sum\n",
    "n=10\n",
    "print(sum(n))"
   ]
  },
  {
   "cell_type": "code",
   "execution_count": 47,
   "id": "1e2a1215",
   "metadata": {},
   "outputs": [
    {
     "name": "stdout",
     "output_type": "stream",
     "text": [
      "3628800\n"
     ]
    }
   ],
   "source": [
    "'''mul of numbers 1 to 10'''\n",
    "\n",
    "def mul(n:int)->int:\n",
    "    i=1\n",
    "    mul=1\n",
    "    while(i<=n):\n",
    "        mul=mul*i\n",
    "        i+=1\n",
    "    return mul\n",
    "n=10\n",
    "print(mul(n))"
   ]
  },
  {
   "cell_type": "code",
   "execution_count": 51,
   "id": "de78afd9",
   "metadata": {},
   "outputs": [
    {
     "name": "stdout",
     "output_type": "stream",
     "text": [
      "start ? 1\n",
      "end ? 22\n",
      "11\n",
      "no of even no= 11\n"
     ]
    }
   ],
   "source": [
    "'''Count even no start to end'''\n",
    "def counteven(start:int,end:int)->None:\n",
    "    i=start\n",
    "    count=0\n",
    "    while(i<=e):\n",
    "        if(i%2==0):\n",
    "            count+=1\n",
    "        i+=1\n",
    "    return count\n",
    "start=int(input(\"start ? \"))\n",
    "e=int(input(\"end ? \"))\n",
    "print(counteven(start,e))\n",
    "print(f\"no of even no= {counteven(start,e)}\") #another way to print"
   ]
  },
  {
   "cell_type": "code",
   "execution_count": 53,
   "id": "475ecdc6",
   "metadata": {},
   "outputs": [
    {
     "name": "stdout",
     "output_type": "stream",
     "text": [
      "start ? 71\n",
      "end ? 189\n",
      "sum= 7670\n"
     ]
    }
   ],
   "source": [
    "'''even no sum'''\n",
    "\n",
    "def counteven(start:int,end:int)->None:\n",
    "    i=start\n",
    "    sum=0\n",
    "    while(i<=e):\n",
    "        if(i%2==0):\n",
    "            sum+=i\n",
    "        i+=1\n",
    "    return sum\n",
    "start=int(input(\"start ? \"))\n",
    "e=int(input(\"end ? \"))\n",
    "print(f\"sum= {counteven(start,e)}\") #another way to print"
   ]
  },
  {
   "cell_type": "code",
   "execution_count": null,
   "id": "ca6ec036",
   "metadata": {},
   "outputs": [],
   "source": [
    "#w2 assignment 2 q1\n",
    "\n",
    "def largest(a:int=None,b:int=None,c:int=None)->int:\n",
    "    if(a==b and b==c and a==None):\n",
    "        return -1\n",
    "    if(a>b and a>c):\n",
    "        return a\n",
    "    if(b>a and b>c):\n",
    "        return b\n",
    "    if(c>b and c>a):\n",
    "        return c\n",
    "print(largest(2,3,6))\n",
    "print(largest())"
   ]
  },
  {
   "cell_type": "markdown",
   "id": "5e9adeff",
   "metadata": {},
   "source": [
    "# Day 4"
   ]
  },
  {
   "cell_type": "code",
   "execution_count": 58,
   "id": "f23e58c8",
   "metadata": {},
   "outputs": [
    {
     "name": "stdout",
     "output_type": "stream",
     "text": [
      "2\n"
     ]
    }
   ],
   "source": [
    "#Assignment 2 q3\n",
    "\n",
    "'''find middle no'''\n",
    "def middle(a,b,c)->int:\n",
    "    if((a>b and a<c) or (a>c and a<b)): #a<=b<=c ;c<=b<=a works aise bhii\n",
    "        return a\n",
    "    elif ((b>a and b<c) or (b>c and b<a)):\n",
    "        return b\n",
    "    return c\n",
    "print(middle(3,1,2))\n",
    "        "
   ]
  },
  {
   "cell_type": "code",
   "execution_count": 60,
   "id": "737ed8d0",
   "metadata": {},
   "outputs": [
    {
     "name": "stdout",
     "output_type": "stream",
     "text": [
      "1\n",
      "2\n",
      "3\n",
      "done\n"
     ]
    }
   ],
   "source": [
    "#control statements\n",
    "# break and continue\n",
    "#usually in loops\n",
    "\n",
    "i=1\n",
    "while i<5:\n",
    "    print(i)\n",
    "    if i==3:\n",
    "        break\n",
    "    i+=1\n",
    "print('done')\n"
   ]
  },
  {
   "cell_type": "code",
   "execution_count": 10,
   "id": "acd9983d",
   "metadata": {},
   "outputs": [],
   "source": [
    "#return-: function ke bahar\n",
    "#break-: loop ke bahar\n",
    "\n"
   ]
  },
  {
   "cell_type": "code",
   "execution_count": null,
   "id": "1028c96f",
   "metadata": {},
   "outputs": [],
   "source": [
    "\"\"\"\n",
    "i=1\n",
    "while i<5:\n",
    "    print(i)\n",
    "    if i==3:\n",
    "        continue\n",
    "    #i+=1  #infinite loop chala jaayega;juypter ke la*de lag jaayenge mat karna\n",
    "print('done')\n",
    "\"\"\"\n",
    "\n",
    "'''\n",
    "1\n",
    "2\n",
    "3\n",
    "3\n",
    "3\n",
    "....infinite\n",
    "'''"
   ]
  },
  {
   "cell_type": "code",
   "execution_count": 6,
   "id": "6f4a5563",
   "metadata": {},
   "outputs": [
    {
     "name": "stdout",
     "output_type": "stream",
     "text": [
      "1\n",
      "2\n",
      "4\n",
      "done\n"
     ]
    }
   ],
   "source": [
    "#correct way \n",
    "i=1\n",
    "while i<5:   \n",
    "    if i==3:\n",
    "        i+=1\n",
    "        continue\n",
    "    print(i)\n",
    "    i+=1\n",
    "print('done')"
   ]
  },
  {
   "cell_type": "code",
   "execution_count": 9,
   "id": "6325042a",
   "metadata": {},
   "outputs": [
    {
     "name": "stdout",
     "output_type": "stream",
     "text": [
      "1 2 3 4 5 6 7 8 9 "
     ]
    }
   ],
   "source": [
    "#FOR-LOOPs\n",
    "'''first 10 no.s'''\n",
    "# start ,end+1;step\n",
    "for i in range(1,10,1):\n",
    "    print(i,end=' ')\n"
   ]
  },
  {
   "cell_type": "code",
   "execution_count": 21,
   "id": "ae6840a1",
   "metadata": {},
   "outputs": [
    {
     "name": "stdout",
     "output_type": "stream",
     "text": [
      "1 2 3 4 5 6 7 8 9 "
     ]
    }
   ],
   "source": [
    "'''first 10 no.s'''\n",
    "# start ,end+1;step\n",
    "for i in range(1,10,1):\n",
    "    print(i,end=' ')\n",
    "    #i=100 #likhdo no farak 1 to 10 hi jaayega unlike while\n"
   ]
  },
  {
   "cell_type": "code",
   "execution_count": 20,
   "id": "03aa5fa6",
   "metadata": {},
   "outputs": [
    {
     "name": "stdout",
     "output_type": "stream",
     "text": [
      "start? 1\n",
      "end? 10\n",
      "1 2 3 4 5 6 7 8 9 10 "
     ]
    }
   ],
   "source": [
    "def for_10(start,stop,step):\n",
    "    for i in range(start,stop+1,step):\n",
    "        print(i,end=' ')\n",
    "    \n",
    "start=int(input(\"start? \"))\n",
    "stop=int(input(\"end? \"))\n",
    "step=1\n",
    "for_10(start,stop,step)"
   ]
  },
  {
   "cell_type": "code",
   "execution_count": 33,
   "id": "f81190d7",
   "metadata": {
    "scrolled": false
   },
   "outputs": [
    {
     "name": "stdout",
     "output_type": "stream",
     "text": [
      "updated 1\n",
      "1 updated 2\n",
      "2 updated 3\n",
      "3 updated 4\n",
      "4 updated 5\n",
      "5 updated 6\n",
      "6 updated 7\n",
      "7 updated 8\n",
      "8 updated 9\n",
      "9 \n",
      "100\n"
     ]
    }
   ],
   "source": [
    "for i in range(1,10,1):\n",
    "    print(\"updated\",i)\n",
    "    print(i,end=' ')\n",
    "    i=100 \n",
    "print()\n",
    "\n",
    "print(i)"
   ]
  },
  {
   "cell_type": "code",
   "execution_count": 34,
   "id": "38d69297",
   "metadata": {},
   "outputs": [
    {
     "name": "stdout",
     "output_type": "stream",
     "text": [
      "012345678910"
     ]
    }
   ],
   "source": [
    "# 0 to 10\n",
    "\n",
    "for i in range(0,11):\n",
    "    print(i,end='')"
   ]
  },
  {
   "cell_type": "code",
   "execution_count": 36,
   "id": "2f5b7da4",
   "metadata": {},
   "outputs": [
    {
     "name": "stdout",
     "output_type": "stream",
     "text": [
      "012345678910"
     ]
    }
   ],
   "source": [
    "#start by default from 0\n",
    "#range is iterator\n",
    "# in -: membership\n",
    "\n",
    "for i in range(11):\n",
    "    print(i,end='')"
   ]
  },
  {
   "cell_type": "code",
   "execution_count": 38,
   "id": "e35b569d",
   "metadata": {},
   "outputs": [
    {
     "name": "stdout",
     "output_type": "stream",
     "text": [
      "2 4 6 8 10 12 14 16 18 20 "
     ]
    }
   ],
   "source": [
    "#use of step\n",
    "for i in range(2,21,2):\n",
    "    print(i,end=' ')"
   ]
  },
  {
   "cell_type": "code",
   "execution_count": 39,
   "id": "7c2022c9",
   "metadata": {},
   "outputs": [],
   "source": [
    "# while exceution faster than for"
   ]
  },
  {
   "cell_type": "code",
   "execution_count": 40,
   "id": "b51fd134",
   "metadata": {},
   "outputs": [
    {
     "name": "stdout",
     "output_type": "stream",
     "text": [
      "10 9 8 7 6 5 4 3 2 1 "
     ]
    }
   ],
   "source": [
    "#10 to 1\n",
    "\n",
    "for i in range(10,0,-1):\n",
    "    print(i,end=' ')"
   ]
  },
  {
   "cell_type": "code",
   "execution_count": 41,
   "id": "c4e092d2",
   "metadata": {},
   "outputs": [],
   "source": [
    "#not run; step =1 by default\n",
    "for i in range(10,0):\n",
    "    print(i,end=' ')"
   ]
  },
  {
   "cell_type": "code",
   "execution_count": 43,
   "id": "de3defb7",
   "metadata": {},
   "outputs": [
    {
     "name": "stdout",
     "output_type": "stream",
     "text": [
      "10 8 6 4 2 0 -2 -4 -6 -8 "
     ]
    }
   ],
   "source": [
    "for i in range(10,-10,-2):\n",
    "    print(i,end=' ')"
   ]
  },
  {
   "cell_type": "code",
   "execution_count": 44,
   "id": "294a9f36",
   "metadata": {},
   "outputs": [
    {
     "name": "stdout",
     "output_type": "stream",
     "text": [
      "1 2 3 4 5 6 7 8 9 "
     ]
    }
   ],
   "source": [
    "for i in range(1,10,1):\n",
    "    print(i,end=' ')\n",
    "    if i==5:\n",
    "        continue\n",
    "#idhar i increments upar for statement mein hi"
   ]
  },
  {
   "cell_type": "code",
   "execution_count": 46,
   "id": "8d38cbb3",
   "metadata": {},
   "outputs": [
    {
     "name": "stdout",
     "output_type": "stream",
     "text": [
      "start? 2\n",
      "end? 10\n",
      "30\n"
     ]
    }
   ],
   "source": [
    "#count_even ; sum_even\n",
    "\n",
    "def even(start,stop)->int:\n",
    "    sum=0\n",
    "    for i in range(start,stop+1,step):\n",
    "        if i%2==0:\n",
    "            sum+=i\n",
    "    return sum\n",
    "    \n",
    "start=int(input(\"start? \"))\n",
    "stop=int(input(\"end? \"))\n",
    "print(even(start,stop))"
   ]
  },
  {
   "cell_type": "code",
   "execution_count": 53,
   "id": "fa1fd6ed",
   "metadata": {},
   "outputs": [
    {
     "name": "stdout",
     "output_type": "stream",
     "text": [
      "1 2 5 10 \n",
      "1 3 5 15 \n"
     ]
    }
   ],
   "source": [
    "# ask a no; print factors ;ex for 10 -: 1,2,5,10\n",
    "\n",
    "def factors(n:int)->None:\n",
    "    for i in range(1,n+1):\n",
    "        if n%i==0:\n",
    "            print(i,end=' ')\n",
    "    print()\n",
    "\n",
    "factors(10)\n",
    "factors(15)"
   ]
  },
  {
   "cell_type": "code",
   "execution_count": null,
   "id": "c90e526b",
   "metadata": {},
   "outputs": [],
   "source": [
    "#optimal\n",
    "\n",
    "#square root tak jaana\n",
    "'''\n",
    "36\n",
    "1->36\n",
    "2->18\n",
    "3->12\n",
    "4->9\n",
    "6->6\n",
    "\n",
    "sirf 1 to 6 chale jaao\n",
    "ans order alag ho jaata hai 1,36,2 ,18,3,12,4,9,6\n",
    "'''\n",
    "# much faster as 36 ki jagah 6 times onliii\n",
    "def factors(n:int)->None:\n",
    "    for i in range(1,(int(n**0.5)+1)):\n",
    "        if n%i==0:\n",
    "            print(i,end=' ')\n",
    "            if n//i!=i:\n",
    "                print(n//i)# 2 baar print ho jaayega if without condition last waala perfect square case mein\n",
    "    print()\n",
    "\n",
    "factors(36)\n",
    "factors(15)"
   ]
  },
  {
   "cell_type": "markdown",
   "id": "0bf4260d",
   "metadata": {},
   "source": [
    "# DAY 5 "
   ]
  },
  {
   "cell_type": "code",
   "execution_count": 61,
   "id": "92516e36",
   "metadata": {},
   "outputs": [],
   "source": [
    "#W2 assigment 4 discussion\n"
   ]
  },
  {
   "cell_type": "code",
   "execution_count": 9,
   "id": "3420e635",
   "metadata": {},
   "outputs": [
    {
     "name": "stdout",
     "output_type": "stream",
     "text": [
      "\n",
      "485\n"
     ]
    }
   ],
   "source": [
    "#'q2' Using while 1 to 2000 leap years\n",
    "\n",
    "i=1\n",
    "sum1=0\n",
    "while(i<=2000):\n",
    "    if((i%4==0 and i%100!=0) or (i%400==0)):\n",
    "        #print(i,end=' ')\n",
    "        sum1+=1\n",
    "    i+=1\n",
    "print()\n",
    "print(sum1)\n",
    "\n"
   ]
  },
  {
   "cell_type": "code",
   "execution_count": 8,
   "id": "a49d5bb0",
   "metadata": {},
   "outputs": [
    {
     "name": "stdout",
     "output_type": "stream",
     "text": [
      "n? 11\n",
      "10 20 30 40 50 60 70 80 90 100 110 "
     ]
    }
   ],
   "source": [
    "#q4 4-: 10 20 30 40 \n",
    "\n",
    "n=int(input(\"n? \"))\n",
    "for i in range(1,n+1):\n",
    "    print(i*10,end=' ')\n",
    "    \n",
    "    \n",
    "    \n",
    "    "
   ]
  },
  {
   "cell_type": "code",
   "execution_count": 12,
   "id": "9643a2c0",
   "metadata": {},
   "outputs": [
    {
     "name": "stdout",
     "output_type": "stream",
     "text": [
      "n? 4\n",
      "1 2 4 8 "
     ]
    }
   ],
   "source": [
    "#'q5' 4-: 1,2,4,8\n",
    "#  7-: 1,2,4,8,16,32,64\n",
    "\n",
    "n=int(input(\"n? \"))\n",
    "for i in range(0,n):\n",
    "    print(2**i,end=' ')\n",
    "\n",
    "\n",
    "\n",
    "\n"
   ]
  },
  {
   "cell_type": "code",
   "execution_count": 15,
   "id": "052a4a57",
   "metadata": {},
   "outputs": [
    {
     "name": "stdout",
     "output_type": "stream",
     "text": [
      "1\n",
      "2\n",
      "4\n",
      "8\n"
     ]
    }
   ],
   "source": [
    "#same with while\n",
    "\n",
    "n=4\n",
    "i=0\n",
    "while(i<n):\n",
    "    print(2**i)\n",
    "    i+=1"
   ]
  },
  {
   "cell_type": "code",
   "execution_count": 20,
   "id": "20d61db3",
   "metadata": {},
   "outputs": [
    {
     "name": "stdout",
     "output_type": "stream",
     "text": [
      "1\n",
      "11\n",
      "111\n",
      "1111\n",
      "11111\n"
     ]
    }
   ],
   "source": [
    "'''q6\n",
    "1 11 111 1111 11111\n",
    "0*10+1=1\n",
    "1*10+1=11\n",
    "11*10+1=111\n",
    "111*10+1\n",
    "\n",
    "x*10+1\n",
    "'''\n",
    "n=5\n",
    "i=1\n",
    "x=1\n",
    "while(i<=n):\n",
    "    print(x)\n",
    "    x=x*10+1\n",
    "    i+=1\n"
   ]
  },
  {
   "cell_type": "code",
   "execution_count": 27,
   "id": "7a0ebfc6",
   "metadata": {},
   "outputs": [
    {
     "name": "stdout",
     "output_type": "stream",
     "text": [
      "3\n",
      "5\n",
      "3\n",
      "0\n",
      "3.6666666666666665\n"
     ]
    }
   ],
   "source": [
    "'''q7 keep taking input until 0 find'''\n",
    "total=0\n",
    "i=0\n",
    "n=int(input())\n",
    "while(n!=0):\n",
    "    i+=1\n",
    "    total+=n\n",
    "    n=int(input())\n",
    "\n",
    "avg=total/i\n",
    "print(avg)"
   ]
  },
  {
   "cell_type": "code",
   "execution_count": 35,
   "id": "2481bbfe",
   "metadata": {},
   "outputs": [
    {
     "name": "stdout",
     "output_type": "stream",
     "text": [
      "1\n",
      "1\n",
      "1\n",
      "0\n",
      "0.75\n"
     ]
    }
   ],
   "source": [
    "'''q7 keep taking input until 0 find ; better way'''\n",
    "\n",
    "total=0\n",
    "i=0\n",
    "while(True):\n",
    "    n=int(input())\n",
    "    if n==0:\n",
    "        break\n",
    "    total+=n\n",
    "    i+=1\n",
    "avg=total/i\n",
    "print(avg)"
   ]
  },
  {
   "cell_type": "code",
   "execution_count": 43,
   "id": "553c70ad",
   "metadata": {},
   "outputs": [
    {
     "name": "stdout",
     "output_type": "stream",
     "text": [
      "2\n",
      "True\n"
     ]
    }
   ],
   "source": [
    "'''q9 prime or not\n",
    "onli 2 factors ho\n",
    "'''\n",
    "n=int(input())\n",
    "f=0\n",
    "for i in range(2,int(n**0.5)):\n",
    "    if(n%i==0):\n",
    "        f=1\n",
    "        break\n",
    "\n",
    "if f==1:\n",
    "    print(False)\n",
    "else:\n",
    "    print (True)\n"
   ]
  },
  {
   "cell_type": "code",
   "execution_count": null,
   "id": "9daefd3b",
   "metadata": {},
   "outputs": [],
   "source": [
    "'''q10 1 to n how many primes\n",
    "easy way -: prime ka function bool type\n",
    "loop mein call if hai increase count\n",
    "also prime function mein call factors func see count==2'''"
   ]
  },
  {
   "cell_type": "code",
   "execution_count": 44,
   "id": "66173fab",
   "metadata": {},
   "outputs": [
    {
     "name": "stdout",
     "output_type": "stream",
     "text": [
      "no? 5\n",
      "2.283333333333333\n"
     ]
    }
   ],
   "source": [
    "#Assignment 5 disscusion\n",
    "\n",
    "'''q2  \n",
    "n=5\n",
    "1/1+1/2+1/3+1/4+1/5= print that\n",
    "'''\n",
    "\n",
    "n=int(input(\"no? \"))\n",
    "i=1\n",
    "a=0\n",
    "while(i<=n):\n",
    "    a=a+(1/i)\n",
    "    i+=1\n",
    "print(a)"
   ]
  },
  {
   "cell_type": "code",
   "execution_count": 45,
   "id": "856f42f8",
   "metadata": {},
   "outputs": [
    {
     "name": "stdout",
     "output_type": "stream",
     "text": [
      "x= ?6\n",
      "n= ?4\n",
      "-272370\n"
     ]
    }
   ],
   "source": [
    "'''q4 \n",
    "# Example 1\n",
    "pattern (x=6, n=4)\n",
    "# Output\n",
    "6^1 - 6^3 + 6^5 - 6^7\n",
    "-272370 (OUTPUT)\n",
    "# Example 2\n",
    "pattern(x=9,n-11)\n",
    "# Output\n",
    "9^1 - 9^3 + 915 - 9^7 + 9^9 .... upto n times\n",
    "108084611215274403609 (OUTPUT)\n",
    "'''\n",
    "x=int(input(\"x= ?\"))\n",
    "n=int(input(\"n= ?\"))\n",
    "power=1\n",
    "total=0\n",
    "i=1\n",
    "while(i<=n):\n",
    "    if(i%2!=0):\n",
    "        total+=(x**power)\n",
    "    else:\n",
    "        total-=(x**power)\n",
    "    power+=2\n",
    "    i+=1\n",
    "print(total)\n",
    "    "
   ]
  },
  {
   "cell_type": "code",
   "execution_count": 2,
   "id": "da3c6d84",
   "metadata": {},
   "outputs": [
    {
     "name": "stdout",
     "output_type": "stream",
     "text": [
      "n? 58714\n",
      "25\n"
     ]
    }
   ],
   "source": [
    "'''\n",
    "add digits\n",
    "345 \n",
    "345%10 =5 and 345//10=34\n",
    "34%10=4\n",
    "ans= 3+4+5=12\n",
    "'''\n",
    "\n",
    "n=int(input(\"n? \"))\n",
    "total=0\n",
    "while(n!=0):\n",
    "    rem=n%10\n",
    "    total+=rem\n",
    "    n=n//10\n",
    "print(total)\n",
    "    "
   ]
  },
  {
   "cell_type": "markdown",
   "id": "61cf19d6",
   "metadata": {},
   "source": [
    "# Doubt Session"
   ]
  },
  {
   "cell_type": "code",
   "execution_count": null,
   "id": "7b77f974",
   "metadata": {},
   "outputs": [],
   "source": [
    "#Contest discussion (easy and hard)"
   ]
  }
 ],
 "metadata": {
  "kernelspec": {
   "display_name": "Python 3 (ipykernel)",
   "language": "python",
   "name": "python3"
  },
  "language_info": {
   "codemirror_mode": {
    "name": "ipython",
    "version": 3
   },
   "file_extension": ".py",
   "mimetype": "text/x-python",
   "name": "python",
   "nbconvert_exporter": "python",
   "pygments_lexer": "ipython3",
   "version": "3.11.5"
  }
 },
 "nbformat": 4,
 "nbformat_minor": 5
}
