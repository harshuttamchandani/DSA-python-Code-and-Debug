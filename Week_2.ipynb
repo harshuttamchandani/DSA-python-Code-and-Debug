{
 "cells": [
  {
   "cell_type": "markdown",
   "id": "058266b6",
   "metadata": {},
   "source": [
    "# Day 1"
   ]
  },
  {
   "cell_type": "code",
   "execution_count": 8,
   "id": "5dced17d",
   "metadata": {},
   "outputs": [
    {
     "name": "stdout",
     "output_type": "stream",
     "text": [
      "A\n",
      "Invalid\n"
     ]
    }
   ],
   "source": [
    "#elif ques basic done week 1\n",
    "\n",
    "'''\n",
    "muliple elif doesn't check others\n",
    "if bahut saare har baar check and then end mein else check (dangaling else)\n",
    "'''\n",
    "\n",
    "marks = 95\n",
    "if marks >= 91 and marks<=100:\n",
    "    print (\"A\")\n",
    "if marks >= 81 and marks <= 90:\n",
    "    print (\"B\")\n",
    "if marks>=71 and marks<= 80:\n",
    "    print(\"c\")\n",
    "if marks >= 61 and marks<=79:\n",
    "    print(\"D\")\n",
    "if marks >= 0 and marks<= 60:\n",
    "    print (\"FAIL\")\n",
    "else:\n",
    "    print(\"Invalid\")"
   ]
  },
  {
   "cell_type": "code",
   "execution_count": 17,
   "id": "a1a64d82",
   "metadata": {},
   "outputs": [
    {
     "name": "stdout",
     "output_type": "stream",
     "text": [
      "30\n",
      "foo bar\n"
     ]
    }
   ],
   "source": [
    "#foo-bar;ig fizz buzz\n",
    "\n",
    "'''user input koi bhi no-: 3 foo\n",
    "5 se-: boo\n",
    "3 and 5 foo bar\n",
    "nothing foo foo bar bar'''\n",
    "\n",
    "c=int(input())\n",
    "if(c%15==0): #idhar if first condition 3 waali raki hoti so 30 wale case mein problem\n",
    "    print('foo bar')\n",
    "elif(c%3==0):\n",
    "    print('foo')\n",
    "elif(c%5==0):   \n",
    "    print('bar')\n",
    "else:\n",
    "    print('foo foo bar bar')"
   ]
  },
  {
   "cell_type": "code",
   "execution_count": 20,
   "id": "98fa7536",
   "metadata": {},
   "outputs": [
    {
     "name": "stdout",
     "output_type": "stream",
     "text": [
      "22.5\n",
      "5.625\n",
      "True\n"
     ]
    }
   ],
   "source": [
    "#operator precedence\n",
    "\n",
    "print(10*9/4)\n",
    "print(10*9/4**2)\n",
    "print(10*9 > 4**2) #>< very niche precedence mein\n"
   ]
  },
  {
   "cell_type": "code",
   "execution_count": 21,
   "id": "22f347a3",
   "metadata": {},
   "outputs": [
    {
     "name": "stdout",
     "output_type": "stream",
     "text": [
      "no ?3\n",
      "+ve\n"
     ]
    }
   ],
   "source": [
    "#nested if else\n",
    "# positive neg 0\n",
    "\n",
    "num=int(input(\"no ?\"))\n",
    "if num>=0:\n",
    "    if num==0:\n",
    "        print('O')\n",
    "    else:\n",
    "        print('+ve')\n",
    "else:\n",
    "    print('-ve')"
   ]
  },
  {
   "cell_type": "code",
   "execution_count": 24,
   "id": "355d92a9",
   "metadata": {},
   "outputs": [
    {
     "name": "stdout",
     "output_type": "stream",
     "text": [
      "i am greet function\n",
      "done\n"
     ]
    }
   ],
   "source": [
    "#Functions\n",
    "def greet(): #function defination\n",
    "    print(\"i am greet function\")\n",
    "    print(\"done\")\n",
    "greet() #call\n",
    "\n",
    "#interpreter so ulta nahi ki greet call pehle not possible -: Name error\n"
   ]
  },
  {
   "cell_type": "code",
   "execution_count": 25,
   "id": "94a574be",
   "metadata": {},
   "outputs": [],
   "source": [
    "#addition\n",
    "\n",
    "#pass -: doesn't do anything; cannot leave functions empty\n",
    "\n",
    "def add():\n",
    "    pass \n",
    "\n",
    "add()"
   ]
  },
  {
   "cell_type": "code",
   "execution_count": 30,
   "id": "06aa4312",
   "metadata": {},
   "outputs": [
    {
     "name": "stdout",
     "output_type": "stream",
     "text": [
      "30\n",
      "180\n"
     ]
    }
   ],
   "source": [
    "#global and local variable ; scoping\n",
    "#har variable ka scope jaha tak woh valid hote hai\n",
    "#-: function tak limited scope -: local\n",
    "\n",
    "def add():\n",
    "    a=10 #loc\n",
    "    b=20 #loc\n",
    "    total=a+b #loc\n",
    "    print(total)\n",
    "    \n",
    "def sub():\n",
    "    a=200 #loc\n",
    "    b=20 #loc\n",
    "    total=a-b #loc\n",
    "    print(total)\n",
    "\n",
    "#a=100  if global banao toh\n",
    "add()\n",
    "sub()\n",
    "#print(a) #name error ; function ke andar apni duniya local variables ki\n",
    "\n",
    "\n"
   ]
  },
  {
   "cell_type": "code",
   "execution_count": 38,
   "id": "90aab69a",
   "metadata": {},
   "outputs": [
    {
     "name": "stdout",
     "output_type": "stream",
     "text": [
      "13\n",
      "harshharsh\n"
     ]
    }
   ],
   "source": [
    "#types of func\n",
    "'''\n",
    "without parameter; without return\n",
    "with parameter; without return\n",
    "without parameter; with return\n",
    "with parameter; with return\n",
    "'''\n",
    "# argument -: joh bhej rahe ho\n",
    "# parameters -: joh define kar rahe func\n",
    "\n",
    "def add(a:int,b:int):\n",
    "    \n",
    "    total=a+b #loc\n",
    "    print(total)\n",
    "\n",
    "add(10,3)\n",
    "add(\"harsh\",\"uttamchandani\") \n",
    "# annotation karlo a:int b:int \n",
    "#still work kar jaayega\n",
    "#add(10,\"harsh\") #error str+int not allowed\n",
    "\n",
    "\n"
   ]
  },
  {
   "cell_type": "code",
   "execution_count": 42,
   "id": "b8b42ab2",
   "metadata": {},
   "outputs": [
    {
     "name": "stdout",
     "output_type": "stream",
     "text": [
      "Total marks scored = 244\n",
      "Total marks scored = 247\n"
     ]
    }
   ],
   "source": [
    "#named parameters\n",
    "def marks(physics: float, chemistry: float, maths: float, english: float):\n",
    "    total = physics + chemistry + maths + english\n",
    "    print(f\"Total marks scored = {total}\")\n",
    "\n",
    "#positional arguments ussi pos mein and joh bheje woh name se woh named\n",
    "# marks (59, 87, 81, 99) direct map kardega \n",
    "marks (english=99, physics=11, maths=34, chemistry=100) #apan ne jaise di hai uske hisaab se apne aap\n",
    "marks (59, 88, english=11,maths=89)\n",
    "#marks (59, english=11,maths=89,88) # pehle waale aage daaldo else poisitional argument follows keyword error"
   ]
  },
  {
   "cell_type": "markdown",
   "id": "d29ade6e",
   "metadata": {},
   "source": [
    "# Assigments are at end together"
   ]
  },
  {
   "cell_type": "markdown",
   "id": "8ec2ab12",
   "metadata": {},
   "source": [
    "# Day 2"
   ]
  },
  {
   "cell_type": "code",
   "execution_count": 52,
   "id": "8a0fbc1f",
   "metadata": {},
   "outputs": [
    {
     "name": "stdout",
     "output_type": "stream",
     "text": [
      "Total marks scored = 259\n",
      "Total marks scored = 170\n"
     ]
    }
   ],
   "source": [
    "#default arguments\n",
    "\n",
    "def marks(physics: float, maths: float, english: float,chemistry: float=0):\n",
    "    # default argument should be at right always important else not work\n",
    "    #joh joh chahiye right pein\n",
    "    total = physics + chemistry + maths + english\n",
    "    print(f\"Total marks scored = {total}\")\n",
    "    \n",
    "marks (59, 88,23,89)\n",
    "marks (59, 88,23) #takes 0 apne aap\n",
    "\n",
    "# marks (59,english=89,maths=11,40) #positional argument follows keyword argument error"
   ]
  },
  {
   "cell_type": "code",
   "execution_count": null,
   "id": "bba41efd",
   "metadata": {},
   "outputs": [],
   "source": []
  }
 ],
 "metadata": {
  "kernelspec": {
   "display_name": "Python 3 (ipykernel)",
   "language": "python",
   "name": "python3"
  },
  "language_info": {
   "codemirror_mode": {
    "name": "ipython",
    "version": 3
   },
   "file_extension": ".py",
   "mimetype": "text/x-python",
   "name": "python",
   "nbconvert_exporter": "python",
   "pygments_lexer": "ipython3",
   "version": "3.11.5"
  }
 },
 "nbformat": 4,
 "nbformat_minor": 5
}
