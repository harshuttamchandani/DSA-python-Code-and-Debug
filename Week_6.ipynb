{
 "cells": [
  {
   "cell_type": "code",
   "execution_count": 1,
   "id": "4312cc40",
   "metadata": {},
   "outputs": [],
   "source": [
    "#lec1\n",
    "#time complexity\n",
    "#rate at which time taken increases with respect to input size\n"
   ]
  },
  {
   "cell_type": "code",
   "execution_count": 37,
   "id": "756c88c8",
   "metadata": {},
   "outputs": [
    {
     "name": "stdout",
     "output_type": "stream",
     "text": [
      "7 8 9 3 5 \n",
      "7 8 9 3 5 \n",
      "4\n"
     ]
    }
   ],
   "source": [
    "#lec2\n",
    "#extraction of digits\n",
    "#53897\n",
    "import math\n",
    "n=53987\n",
    "b=n\n",
    "#brute force\n",
    "m=str(n) #time lega -: O(n)\n",
    "\n",
    "for i in range(len(m)-1,-1,-1):\n",
    "    print(m[i],end=' ')#O(n)\n",
    "#(O(2N)=>O(N))\n",
    "#O(N) S.C M =STR(N)\n",
    "print()\n",
    "#second way OPTIMAL -: O(log base (10) (N)) hai as N divide by 10 N is the number \n",
    "while (n!=0):\n",
    "    rem=n%10\n",
    "    n=n//10\n",
    "    \n",
    "    print(rem,end=' ')\n",
    "#kam hue jaa raha joh number se divide woh base\n",
    "#no of digits approx dega log base 10 se number; utni baar loop woh integer+1 baar for loop \n",
    "#no of digits wala number hi\n",
    "print()\n",
    "print((int(math.log10(b))))"
   ]
  },
  {
   "cell_type": "code",
   "execution_count": 39,
   "id": "cf742878",
   "metadata": {},
   "outputs": [
    {
     "name": "stdout",
     "output_type": "stream",
     "text": [
      "15\n"
     ]
    }
   ],
   "source": [
    "# 1 operation in 10^8 operation logic remember\n",
    "#import math ; math.sqrt()\n",
    " \n",
    "#sum of all divisors\n",
    "# way for optimal kitni baar number repeat hoga -: n//i times karke \n",
    "n=4\n",
    "ans=0\n",
    "for i in range(1,n+1):\n",
    "    ans+=i*(n//i)\n",
    "print(ans)\n"
   ]
  },
  {
   "cell_type": "markdown",
   "id": "ba49c4f2",
   "metadata": {},
   "source": [
    "## Day 4"
   ]
  },
  {
   "cell_type": "code",
   "execution_count": 2,
   "id": "bdf5e828",
   "metadata": {},
   "outputs": [],
   "source": [
    "# def func():\n",
    "#     print(\"hello\")\n",
    "#     func()\n",
    "#     print(\"good\")\n",
    "# func()\n",
    "# keeps printing hello infinite loop -: recursion depth exceeded exceed -: 996,998 pein ruk jaata\n",
    "#can be changed\n"
   ]
  },
  {
   "cell_type": "code",
   "execution_count": 5,
   "id": "6c1febaa",
   "metadata": {},
   "outputs": [
    {
     "name": "stdout",
     "output_type": "stream",
     "text": [
      "3\n",
      "harsh\n",
      "harsh\n",
      "harsh\n",
      "harsh\n",
      "done\n",
      "harsh\n",
      "harsh\n",
      "harsh\n"
     ]
    }
   ],
   "source": [
    "#print annirudh/x n times\n",
    "\n",
    "a=int(input())\n",
    "for i in range(a+1):\n",
    "    print(\"harsh\")\n",
    "\n",
    "print(\"done\")\n",
    "def func(i,n):\n",
    "    if i>=n:\n",
    "        return n\n",
    "    print(\"harsh\")\n",
    "    func(i+1,n)\n",
    "func(0,3)"
   ]
  },
  {
   "cell_type": "code",
   "execution_count": 9,
   "id": "20d49d27",
   "metadata": {},
   "outputs": [
    {
     "name": "stdout",
     "output_type": "stream",
     "text": [
      "10\n",
      "9\n",
      "8\n",
      "7\n",
      "6\n",
      "5\n",
      "4\n",
      "3\n",
      "2\n",
      "1\n"
     ]
    }
   ],
   "source": [
    "#print 1 to n\n",
    "def func(i,n):\n",
    "    if i>n:\n",
    "        return\n",
    "    print(i)\n",
    "    func(i+1,n)\n",
    "func(1,5)"
   ]
  },
  {
   "cell_type": "code",
   "execution_count": 10,
   "id": "c3f05ff9",
   "metadata": {},
   "outputs": [
    {
     "name": "stdout",
     "output_type": "stream",
     "text": [
      "1\n",
      "2\n",
      "3\n",
      "4\n",
      "5\n"
     ]
    }
   ],
   "source": [
    "\n",
    "def a(n):\n",
    "    if n==0:\n",
    "        return\n",
    "    a(n-1)\n",
    "    print(n)\n",
    "a(10)"
   ]
  },
  {
   "cell_type": "code",
   "execution_count": 12,
   "id": "12574e99",
   "metadata": {},
   "outputs": [
    {
     "name": "stdout",
     "output_type": "stream",
     "text": [
      "5\n",
      "4\n",
      "3\n",
      "2\n",
      "1\n"
     ]
    }
   ],
   "source": [
    "#print n to 1\n",
    "\n",
    "def a(n):\n",
    "    if n==0:\n",
    "        return\n",
    "    print(n)\n",
    "    a(n-1)\n",
    "a(5)"
   ]
  },
  {
   "cell_type": "code",
   "execution_count": 13,
   "id": "5b9a9e6f",
   "metadata": {},
   "outputs": [
    {
     "name": "stdout",
     "output_type": "stream",
     "text": [
      "1\n",
      "2\n",
      "3\n",
      "4\n",
      "5\n"
     ]
    }
   ],
   "source": [
    "#with backtracking sort of\n",
    "def func(i):\n",
    "    if i<1:\n",
    "        return\n",
    "    func(i-1)\n",
    "    print(i)\n",
    "func(5)"
   ]
  },
  {
   "cell_type": "code",
   "execution_count": 15,
   "id": "8e90217f",
   "metadata": {},
   "outputs": [
    {
     "name": "stdout",
     "output_type": "stream",
     "text": [
      "55\n"
     ]
    }
   ],
   "source": [
    "#parameterised and functional\n",
    "#paramaterised tha abhi tak \n",
    "\n",
    "def func(i,sum):\n",
    "    if i<1:\n",
    "        print(sum)\n",
    "        return\n",
    "    func(i-1,sum+i)\n",
    "func(10,0)"
   ]
  },
  {
   "cell_type": "code",
   "execution_count": 20,
   "id": "198d9505",
   "metadata": {},
   "outputs": [
    {
     "name": "stdout",
     "output_type": "stream",
     "text": [
      "55\n"
     ]
    }
   ],
   "source": [
    "#sum of 1 to N -: functional\n",
    "\n",
    "def func(n):\n",
    "    if n==1:\n",
    "        return 1\n",
    "    return n+func(n-1)\n",
    "ans=func(10)\n",
    "print(ans)\n",
    "#if 1000 func(1000) might not work 996 ki limit here 2971\n",
    "\n",
    "#functional waale se sum print not the number itself"
   ]
  },
  {
   "cell_type": "markdown",
   "id": "9e32a39f",
   "metadata": {},
   "source": [
    "# Day 5"
   ]
  },
  {
   "cell_type": "code",
   "execution_count": 21,
   "id": "1eef8c4e",
   "metadata": {},
   "outputs": [
    {
     "name": "stdout",
     "output_type": "stream",
     "text": [
      "120\n"
     ]
    }
   ],
   "source": [
    "#factorial\n",
    "def fact(n):\n",
    "    if n==1 or n==0:\n",
    "        return 1\n",
    "    return n*fact(n-1)\n",
    "n=5\n",
    "a=fact(n)\n",
    "print(a)"
   ]
  },
  {
   "cell_type": "code",
   "execution_count": 24,
   "id": "971e82f2",
   "metadata": {},
   "outputs": [
    {
     "name": "stdout",
     "output_type": "stream",
     "text": [
      "[1, 5, 4, 3, 2, 6, 7, 8]\n"
     ]
    }
   ],
   "source": [
    "#reverse an array using recursion\n",
    "# list is pass by reference\n",
    "\n",
    "def re(a,l,r):\n",
    "    if l>=r:\n",
    "        return \n",
    "    temp=a[l-1]\n",
    "    a[l-1]=a[r-1]\n",
    "    a[r-1]=temp\n",
    "    # a[l-1],a[r-1]=arr[r-1],arr[l-1] #same thing\n",
    "    re(a,l+1,r-1)\n",
    "arr=[1,2,3,4,5,6,7,8]\n",
    "re(arr,2,5)\n",
    "print(arr)\n",
    "\n",
    "#time complexity o(n/  2) => o(n)\n",
    "#stack space -> o(n)\n"
   ]
  },
  {
   "cell_type": "code",
   "execution_count": 28,
   "id": "621aab75",
   "metadata": {},
   "outputs": [
    {
     "name": "stdout",
     "output_type": "stream",
     "text": [
      "yes\n",
      "yes\n"
     ]
    }
   ],
   "source": [
    "#string pallindrome\n",
    "# way 1 -: s==s[::-1]\n",
    "\n",
    "s=\"naman\"\n",
    "#way 1\n",
    "if s==s[::-1]:\n",
    "    print(\"yes\")\n",
    "#way 2    \n",
    "i=0\n",
    "j=len(a)-1\n",
    "flag=1\n",
    "while i<j:\n",
    "    if s[i]!=s[j]:\n",
    "        flag=0\n",
    "        break\n",
    "    else:\n",
    "        i+=1\n",
    "        j-=1\n",
    "if(flag):\n",
    "    print(\"yes\")\n",
    "else:\n",
    "    print(\"no\")\n",
    "        "
   ]
  },
  {
   "cell_type": "code",
   "execution_count": 57,
   "id": "3f029797",
   "metadata": {},
   "outputs": [
    {
     "data": {
      "text/plain": [
       "False"
      ]
     },
     "execution_count": 57,
     "metadata": {},
     "output_type": "execute_result"
    }
   ],
   "source": [
    "#way 3\n",
    "def ispal(s,i,j):\n",
    "    if i>j:\n",
    "        return True\n",
    "    if s[i]==s[j]:\n",
    "        return ispal(s,i+1,j-1)\n",
    "    else:\n",
    "        return False\n",
    "s=\"harsh\"\n",
    "ispal(s,0,len(s)-1)\n",
    "        "
   ]
  },
  {
   "cell_type": "code",
   "execution_count": 80,
   "id": "37923e83",
   "metadata": {},
   "outputs": [
    {
     "data": {
      "text/plain": [
       "True"
      ]
     },
     "execution_count": 80,
     "metadata": {},
     "output_type": "execute_result"
    }
   ],
   "source": [
    "#way 3\n",
    "import sys\n",
    "sys.setrecursionlimit(1000000)# else one test case was not passing;gfg\n",
    "def ispal(s):\n",
    "    \n",
    "    if len(s)==1 or len(s)==0:\n",
    "        #print(\"len1\")\n",
    "        return True\n",
    "    if s[0]==s[len(s)-1]:\n",
    "        #print(s[0],s[len(s)-1])\n",
    "        #print(\"equal\",s[1:len(s)-1])\n",
    "        return ispal(s[1:len(s)-1]) \n",
    "    else:\n",
    "        #print(\"not equal\")\n",
    "        return False\n",
    "s=\"naman\"\n",
    "ispal(s)"
   ]
  },
  {
   "cell_type": "code",
   "execution_count": 82,
   "id": "20ffce83",
   "metadata": {},
   "outputs": [
    {
     "data": {
      "text/plain": [
       "True"
      ]
     },
     "execution_count": 82,
     "metadata": {},
     "output_type": "execute_result"
    }
   ],
   "source": [
    "#sir way\n",
    "\n",
    "def pal(s,i):\n",
    "    if i>=len(s)//2:\n",
    "        return True\n",
    "    if s[i]!=s[len(s)-i-1]:\n",
    "        return False\n",
    "    return pal(s,i+1)\n",
    "a=\"naman\"\n",
    "pal(a,0)\n",
    "# tc-> o(n/2)-> o(n)\n",
    "# sc-> o(n/2)-> o(n)"
   ]
  },
  {
   "cell_type": "code",
   "execution_count": 94,
   "id": "411f9d3a",
   "metadata": {},
   "outputs": [
    {
     "name": "stdout",
     "output_type": "stream",
     "text": [
      "1000\n",
      "43466557686937456435688527675040625802564660517371780402481729089536555417949051890403879840079255169295922593080322634775209689623239873322471161642996440906533187938298969649928516003704476137795166849228875\n"
     ]
    }
   ],
   "source": [
    "#fibonacci series\n",
    "# 0 1 1 2 3 5 8 13 21 .....\n",
    "# f(n)=f(n-1)+f(n-2)\n",
    "\n",
    "first=0\n",
    "second=1\n",
    "i=2\n",
    "ans=first+second\n",
    "n=int(input())\n",
    "while(i<=n):\n",
    "    ans=first+second\n",
    "    first=second\n",
    "    second=ans\n",
    "    \n",
    "    i+=1\n",
    "print(ans)"
   ]
  },
  {
   "cell_type": "code",
   "execution_count": 93,
   "id": "531d4be2",
   "metadata": {},
   "outputs": [
    {
     "data": {
      "text/plain": [
       "2"
      ]
     },
     "execution_count": 93,
     "metadata": {},
     "output_type": "execute_result"
    }
   ],
   "source": [
    "#recursion\n",
    "def fib(n):\n",
    "    if n==1 :\n",
    "        return 0\n",
    "    if n==2:\n",
    "        return 1\n",
    "    return fib(n-1)+fib(n-2) #left wala runs pehle   \n",
    "#fib(1000) work nahi kar paayega here\n",
    "fib(4)\n",
    "\n",
    "#make recursion tree : call fib how many times 2^n \n",
    "#t.c => o(2^n)\n",
    "# usually recursion mein utni hi sc jitni tc => while etc hoga tab\n",
    "# jab dp hoga tab optimized\n",
    "  "
   ]
  },
  {
   "cell_type": "code",
   "execution_count": null,
   "id": "06ab93a6",
   "metadata": {},
   "outputs": [],
   "source": [
    "\n"
   ]
  }
 ],
 "metadata": {
  "kernelspec": {
   "display_name": "Python 3 (ipykernel)",
   "language": "python",
   "name": "python3"
  },
  "language_info": {
   "codemirror_mode": {
    "name": "ipython",
    "version": 3
   },
   "file_extension": ".py",
   "mimetype": "text/x-python",
   "name": "python",
   "nbconvert_exporter": "python",
   "pygments_lexer": "ipython3",
   "version": "3.11.5"
  }
 },
 "nbformat": 4,
 "nbformat_minor": 5
}
