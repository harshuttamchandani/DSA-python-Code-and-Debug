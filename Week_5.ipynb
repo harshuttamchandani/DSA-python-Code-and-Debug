{
 "cells": [
  {
   "cell_type": "markdown",
   "id": "5f173991",
   "metadata": {},
   "source": [
    "## DAY 5"
   ]
  },
  {
   "cell_type": "code",
   "execution_count": 6,
   "id": "961c6c00",
   "metadata": {},
   "outputs": [
    {
     "name": "stdout",
     "output_type": "stream",
     "text": [
      "{'science': 34, 'maths': 45, 'hindi': 55}\n",
      "<class 'dict'>\n",
      "{'name': 'harsh', 'regno': '21BCE10189', 'Phone no': '9950228451', 'cgpa': 8.68, 'Hostel': True}\n",
      "{(45, 23): 'harsh', 1: 'true', 34.2: 5, 'abc': 23}\n",
      "{'science': 34, 'maths': 34, 'hindi': 55}\n"
     ]
    }
   ],
   "source": [
    "#Dictionary\n",
    "#key-value pairs\n",
    "marks={\"science\":34,\"maths\":45,\"hindi\":55}\n",
    "print(marks)\n",
    "print(type(marks)) #<class 'dict'>\n",
    "student={\"name\":\"harsh\",\"regno\":\"21BCE10189\",\"Phone no\":\"9950228451\",\"cgpa\":8.68,\"Hostel\":True }\n",
    "print(student)\n",
    "\n",
    "\n",
    "#immutables\n",
    "# strings ,tuples\n",
    "abc={(45,23):\"harsh\",1:'true',34.2:5,\"abc\":23}  #tuple,int,float,string immutable\n",
    "print(abc)\n",
    "\n",
    "#error\n",
    "# defa={[23,45]:\"fesh\"} #unhashable type: 'list'\n",
    "\n",
    "marks={\"science\":34,\"maths\":45,\"hindi\":55,\"maths\":34} #last waale marks will be considered\n",
    "print(marks)"
   ]
  },
  {
   "cell_type": "code",
   "execution_count": 11,
   "id": "4e07e2fa",
   "metadata": {},
   "outputs": [
    {
     "name": "stdout",
     "output_type": "stream",
     "text": [
      "{'science': 34, 'maths': 45, 'hindi': 55, 1: 5}\n",
      "34\n",
      "5\n",
      "{'science': 34, 'maths': 40, 'hindi': 55, 1: 5}\n"
     ]
    }
   ],
   "source": [
    "#accesing values\n",
    "\n",
    "marks={\"science\":34,\"maths\":45,\"hindi\":55,1:5} \n",
    "print(marks)\n",
    "print(marks[\"science\"])\n",
    "print(marks[1]) #no index concept\n",
    "#naukri.com <- coding ninjas\n",
    "\n",
    "#python 3.5 mein not ordered abhi ordered aata hai\n",
    "#mutable hai values\n",
    "marks[\"maths\"]=40\n",
    "print(marks)\n"
   ]
  },
  {
   "cell_type": "code",
   "execution_count": 17,
   "id": "71bee904",
   "metadata": {},
   "outputs": [
    {
     "name": "stdout",
     "output_type": "stream",
     "text": [
      "{'science': 34, 'maths': 45, 'hindi': 55, 1: 5}\n",
      "{'science': 34, 'maths': 40, 'hindi': 55, 1: 5}\n",
      "{'science': 34, 'maths': 40, 'hindi': 55, 1: 5, 'xyz': 40}\n",
      "{'maths': 40, 'hindi': 55, 1: 5, 'xyz': 40}\n"
     ]
    }
   ],
   "source": [
    "#add,remove,update\n",
    "marks:dict[str,int] #can do annotations like this \n",
    "marks={\"science\":34,\"maths\":45,\"hindi\":55,1:5} \n",
    "print(marks)\n",
    "marks[\"maths\"]=40 #update\n",
    "print(marks)\n",
    "marks[\"xyz\"]=40 #add if no key exists add\n",
    "print(marks)\n",
    "\n",
    "del marks[\"science\"] #delete del keyword works everywhere\n",
    "print(marks)\n"
   ]
  },
  {
   "cell_type": "code",
   "execution_count": 33,
   "id": "c7f258f0",
   "metadata": {},
   "outputs": [
    {
     "name": "stdout",
     "output_type": "stream",
     "text": [
      "{'science': 34, 'maths': 45, 'hindi': 55, 'married': None}\n",
      "34\n",
      "None\n",
      "34\n",
      "doesnt exist\n",
      "55\n",
      "55\n",
      "{}\n",
      "34\n",
      "{'maths': 45, 'hindi': 55, 'married': None}\n"
     ]
    }
   ],
   "source": [
    "#add,remove,update methods\n",
    "marks={\"science\":34,\"maths\":45,\"hindi\":55,\"married\":None} \n",
    "print(marks)\n",
    "\n",
    "#get method\n",
    "print(marks.get(\"science\")) #if not found gives none\n",
    "print(marks.get(\"fas\"))\n",
    "\n",
    "k=\"science\"\n",
    "v=marks.get(k)\n",
    "if v is None: #if key =\"fdshfg\" random something\n",
    "    print(\"key doesnt exist\")\n",
    "else:\n",
    "    print(v)\n",
    "    \n",
    "#above problematic for married as a key gives none gets confused\n",
    "\n",
    "#better way membership\n",
    "k=\"mail\"\n",
    "if k in marks:\n",
    "    print(marks[m])\n",
    "else:\n",
    "    print(\"doesnt exist\")\n",
    "print(marks.get(\"hindi\",None)) #if not found none by default\n",
    "\n",
    "print(marks.get(\"hindi\",-1))#if not exist return none\n",
    "\n",
    "marks.clear()\n",
    "print(marks)\n",
    "\n",
    "marks={\"science\":34,\"maths\":45,\"hindi\":55,\"married\":None} \n",
    "h=marks.pop(\"science\")\n",
    "print(h)\n",
    "print(marks)"
   ]
  },
  {
   "cell_type": "code",
   "execution_count": 51,
   "id": "f2926de4",
   "metadata": {
    "scrolled": true
   },
   "outputs": [
    {
     "name": "stdout",
     "output_type": "stream",
     "text": [
      "dict_keys(['science', 'maths', 'hindi', 'history'])\n",
      "<class 'dict_keys'>\n",
      "science maths hindi history science 34\n",
      "maths 45\n",
      "hindi 55\n",
      "history 43\n",
      "34\n",
      "45\n",
      "55\n",
      "43\n",
      "<class 'dict_values'>\n",
      "<built-in method items of dict object at 0x11180b280>\n",
      "science 34\n",
      "maths 45\n",
      "hindi 55\n",
      "history 43\n",
      "<class 'dict_items'>\n",
      "<class 'list'>\n",
      "['science', 'maths', 'hindi', 'history']\n"
     ]
    }
   ],
   "source": [
    "#traversing\n",
    "\n",
    "marks={\"science\":34,\"maths\":45,\"hindi\":55,\"history\":43}\n",
    "\n",
    "#keys nikalna  \n",
    "#marks.keys\n",
    "a=marks.keys()\n",
    "print(marks.keys()) #iterable\n",
    "print(type(marks.keys()))\n",
    "\n",
    "for i in marks:\n",
    "    print(i,end=' ')\n",
    "for key in a:\n",
    "    print(key,marks[key])\n",
    "\n",
    "\n",
    "#marks.values\n",
    "for v in marks.values():\n",
    "    print(v)\n",
    "print(type(marks.values()))\n",
    "\n",
    "    \n",
    "#marks.items both togheter\n",
    "print(marks.items)\n",
    "for k,v in marks.items():\n",
    "    print(k,v)\n",
    "\n",
    "print(type(marks.items()))\n",
    "\n",
    "#now converted to list\n",
    "c=list(marks.keys())\n",
    "print(type(c))\n",
    "print(c)\n"
   ]
  },
  {
   "cell_type": "code",
   "execution_count": 56,
   "id": "6c6ff89e",
   "metadata": {},
   "outputs": [
    {
     "name": "stdout",
     "output_type": "stream",
     "text": [
      "4587512384\n",
      "4587512384\n",
      "{'science': 34, 'maths': 45, 'hindi': 55, 'history': 43}\n",
      "{'science': 34, 'maths': 45, 'hindi': 100, 'history': 43}\n",
      "4587511680\n"
     ]
    }
   ],
   "source": [
    "#copying_dict_list\n",
    "my_dict={\"science\":34,\"maths\":45,\"hindi\":55,\"history\":43}\n",
    "print(id(my_dict))\n",
    "xyz=my_dict\n",
    "print(id(xyz))\n",
    "print(my_dict)\n",
    "#refering to same onli\n",
    "\n",
    "#if change in one then in all\n",
    "xyz[\"hindi\"]=100\n",
    "print(my_dict) \n",
    "\n",
    "#why same refering-> to save memory\n",
    "\n",
    "a=my_dict.copy()\n",
    "print(id(a))\n",
    "#to create different copy"
   ]
  },
  {
   "cell_type": "code",
   "execution_count": 75,
   "id": "ff04b6e5",
   "metadata": {},
   "outputs": [
    {
     "name": "stdout",
     "output_type": "stream",
     "text": [
      "{'science': 34, 'maths': 45, 'hindi': 55, 'Gender': ['male', 'female']}\n",
      "{'science': 34, 'maths': 45, 'hindi': 55, 'Gender': ['male', 'female']}\n",
      "{'science': 34, 'maths': 45, 'hindi': 55, 'Gender': ['trans', 'female']}\n",
      "{'science': 34, 'maths': 45, 'hindi': 55, 'Gender': ['trans', 'female']}\n",
      "\n",
      "Shallow copy\n",
      "\n",
      "{'science': 34, 'maths': 45, 'hindi': 55, 'Gender': ['male', 'female']}\n",
      "{'science': 34, 'maths': 45, 'hindi': 55, 'Gender': ['male', 'female']}\n",
      "4587231232\n",
      "4586933824\n",
      "{'science': 34, 'maths': 45, 'hindi': 55, 'Gender': ['trans', 'female']}\n",
      "{'science': 34, 'maths': 45, 'hindi': 55, 'Gender': ['trans', 'female']}\n",
      "4587020416\n",
      "4587020416\n"
     ]
    }
   ],
   "source": [
    "#shallow and deep copy\n",
    "\n",
    "#as expected changes\n",
    "my_dict={\"science\":34,\"maths\":45,\"hindi\":55,\"Gender\":[\"male\",\"female\"]}\n",
    "print(my_dict)\n",
    "xyz=my_dict\n",
    "print(xyz)\n",
    "xyz[\"Gender\"][0]=\"trans\"\n",
    "print(xyz)\n",
    "print(my_dict)\n",
    "\n",
    "print()\n",
    "print(\"Shallow copy\")\n",
    "print()\n",
    "\n",
    "#Shallow copy\n",
    "\n",
    "my_dict={\"science\":34,\"maths\":45,\"hindi\":55,\"Gender\":[\"male\",\"female\"]}\n",
    "print(my_dict)\n",
    "xyz=my_dict.copy()\n",
    "print(xyz)\n",
    "print(id(xyz))\n",
    "print(id(my_dict))\n",
    "\n",
    "xyz[\"Gender\"][0]=\"trans\"\n",
    "print(xyz)\n",
    "print(my_dict)\n",
    "print(id(my_dict[\"Gender\"]))\n",
    "print(id(xyz[\"Gender\"]))\n",
    "#still change the list refering to same id\n"
   ]
  },
  {
   "cell_type": "code",
   "execution_count": 76,
   "id": "1bb712c9",
   "metadata": {},
   "outputs": [
    {
     "name": "stdout",
     "output_type": "stream",
     "text": [
      "4587025728\n",
      "4574007808\n"
     ]
    }
   ],
   "source": [
    "#deep copy \n",
    "import copy #module import\n",
    "\n",
    "my_dict={\"science\":34,\"maths\":45,\"hindi\":55,\"Gender\":[\"male\",\"female\"]}\n",
    "# xyz=copy.copy(my_dict)# same shallow copy\n",
    "xyz=copy.deepcopy(my_dict)\n",
    "print(id(my_dict[\"Gender\"])) #different\n",
    "print(id(xyz[\"Gender\"]))\n",
    "\n",
    "#list mein same method .copy()\n",
    "#works similarly ; import copy module\n",
    "\n"
   ]
  },
  {
   "cell_type": "code",
   "execution_count": 81,
   "id": "056c5eba",
   "metadata": {},
   "outputs": [
    {
     "name": "stdout",
     "output_type": "stream",
     "text": [
      "enter a no.3\n",
      "enter a no.1\n",
      "enter a no.4\n",
      "start list [3, 1, 4]\n",
      "second list [4]\n"
     ]
    }
   ],
   "source": [
    "#w4 a1 q10 q11 #11 very easy\n",
    "'''\n",
    "Q10. Ask 10 numbers from the user and put them into the list. \n",
    "Now remove all the even numbers ffrom that list.\n",
    "\n",
    "\n",
    "\n",
    "'''\n",
    "i=0\n",
    "lst=[]\n",
    "while i<10:\n",
    "    a=int(input(\"enter a no.\"))\n",
    "    lst.append(a)\n",
    "    i+=1\n",
    "    \n",
    "print(\"start list\",lst)\n",
    "\n",
    "newlst=[]\n",
    "for i in lst:\n",
    "    if i%2==0:\n",
    "        newlst.append(i)\n",
    "print(\"second list\",newlst)\n",
    "        "
   ]
  },
  {
   "cell_type": "code",
   "execution_count": null,
   "id": "430618ce",
   "metadata": {},
   "outputs": [],
   "source": [
    "'''\n",
    "Q11. Write a python program which prints all the values whose count is greater than 3. \n",
    "(Make sure to make a list with at least 15 numbers)\n",
    "#use count key word\n",
    "lst.count()\n",
    "then append in result in not there\n",
    "'''\n"
   ]
  }
 ],
 "metadata": {
  "kernelspec": {
   "display_name": "Python 3 (ipykernel)",
   "language": "python",
   "name": "python3"
  },
  "language_info": {
   "codemirror_mode": {
    "name": "ipython",
    "version": 3
   },
   "file_extension": ".py",
   "mimetype": "text/x-python",
   "name": "python",
   "nbconvert_exporter": "python",
   "pygments_lexer": "ipython3",
   "version": "3.11.5"
  }
 },
 "nbformat": 4,
 "nbformat_minor": 5
}
