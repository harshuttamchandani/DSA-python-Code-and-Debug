{
 "cells": [
  {
   "cell_type": "markdown",
   "id": "4d05e95f",
   "metadata": {},
   "source": [
    "## Week 5 Day 1"
   ]
  },
  {
   "cell_type": "code",
   "execution_count": 6,
   "id": "5d6d4e42",
   "metadata": {},
   "outputs": [
    {
     "name": "stdout",
     "output_type": "stream",
     "text": [
      "{'science': 34, 'maths': 45, 'hindi': 55}\n",
      "<class 'dict'>\n",
      "{'name': 'harsh', 'regno': '21BCE10189', 'Phone no': '9950228451', 'cgpa': 8.68, 'Hostel': True}\n",
      "{(45, 23): 'harsh', 1: 'true', 34.2: 5, 'abc': 23}\n",
      "{'science': 34, 'maths': 34, 'hindi': 55}\n"
     ]
    }
   ],
   "source": [
    "#Dictionary\n",
    "#key-value pairs\n",
    "marks={\"science\":34,\"maths\":45,\"hindi\":55}\n",
    "print(marks)\n",
    "print(type(marks)) #<class 'dict'>\n",
    "student={\"name\":\"harsh\",\"regno\":\"21BCE10189\",\"Phone no\":\"9950228451\",\"cgpa\":8.68,\"Hostel\":True }\n",
    "print(student)\n",
    "\n",
    "\n",
    "#immutables\n",
    "# strings ,tuples\n",
    "abc={(45,23):\"harsh\",1:'true',34.2:5,\"abc\":23}  #tuple,int,float,string immutable\n",
    "print(abc)\n",
    "\n",
    "#error\n",
    "# defa={[23,45]:\"fesh\"} #unhashable type: 'list'\n",
    "\n",
    "marks={\"science\":34,\"maths\":45,\"hindi\":55,\"maths\":34} #last waale marks will be considered\n",
    "print(marks)"
   ]
  },
  {
   "cell_type": "code",
   "execution_count": 11,
   "id": "3f47360b",
   "metadata": {},
   "outputs": [
    {
     "name": "stdout",
     "output_type": "stream",
     "text": [
      "{'science': 34, 'maths': 45, 'hindi': 55, 1: 5}\n",
      "34\n",
      "5\n",
      "{'science': 34, 'maths': 40, 'hindi': 55, 1: 5}\n"
     ]
    }
   ],
   "source": [
    "#accesing values\n",
    "\n",
    "marks={\"science\":34,\"maths\":45,\"hindi\":55,1:5} \n",
    "print(marks)\n",
    "print(marks[\"science\"])\n",
    "print(marks[1]) #no index concept\n",
    "#naukri.com <- coding ninjas\n",
    "\n",
    "#python 3.5 mein not ordered abhi ordered aata hai\n",
    "#mutable hai values\n",
    "marks[\"maths\"]=40\n",
    "print(marks)\n"
   ]
  },
  {
   "cell_type": "code",
   "execution_count": 17,
   "id": "35130596",
   "metadata": {},
   "outputs": [
    {
     "name": "stdout",
     "output_type": "stream",
     "text": [
      "{'science': 34, 'maths': 45, 'hindi': 55, 1: 5}\n",
      "{'science': 34, 'maths': 40, 'hindi': 55, 1: 5}\n",
      "{'science': 34, 'maths': 40, 'hindi': 55, 1: 5, 'xyz': 40}\n",
      "{'maths': 40, 'hindi': 55, 1: 5, 'xyz': 40}\n"
     ]
    }
   ],
   "source": [
    "#add,remove,update\n",
    "marks:dict[str,int] #can do annotations like this \n",
    "marks={\"science\":34,\"maths\":45,\"hindi\":55,1:5} \n",
    "print(marks)\n",
    "marks[\"maths\"]=40 #update\n",
    "print(marks)\n",
    "marks[\"xyz\"]=40 #add if no key exists add\n",
    "print(marks)\n",
    "\n",
    "del marks[\"science\"] #delete del keyword works everywhere\n",
    "print(marks)\n"
   ]
  },
  {
   "cell_type": "code",
   "execution_count": 33,
   "id": "c5cc8c31",
   "metadata": {},
   "outputs": [
    {
     "name": "stdout",
     "output_type": "stream",
     "text": [
      "{'science': 34, 'maths': 45, 'hindi': 55, 'married': None}\n",
      "34\n",
      "None\n",
      "34\n",
      "doesnt exist\n",
      "55\n",
      "55\n",
      "{}\n",
      "34\n",
      "{'maths': 45, 'hindi': 55, 'married': None}\n"
     ]
    }
   ],
   "source": [
    "#add,remove,update methods\n",
    "marks={\"science\":34,\"maths\":45,\"hindi\":55,\"married\":None} \n",
    "print(marks)\n",
    "\n",
    "#get method\n",
    "print(marks.get(\"science\")) #if not found gives none\n",
    "print(marks.get(\"fas\"))\n",
    "\n",
    "k=\"science\"\n",
    "v=marks.get(k)\n",
    "if v is None: #if key =\"fdshfg\" random something\n",
    "    print(\"key doesnt exist\")\n",
    "else:\n",
    "    print(v)\n",
    "    \n",
    "#above problematic for married as a key gives none gets confused\n",
    "\n",
    "#better way membership\n",
    "k=\"mail\"\n",
    "if k in marks:\n",
    "    print(marks[m])\n",
    "else:\n",
    "    print(\"doesnt exist\")\n",
    "print(marks.get(\"hindi\",None)) #if not found none by default\n",
    "\n",
    "print(marks.get(\"hindi\",-1))#if not exist return none\n",
    "\n",
    "marks.clear()\n",
    "print(marks)\n",
    "\n",
    "marks={\"science\":34,\"maths\":45,\"hindi\":55,\"married\":None} \n",
    "h=marks.pop(\"science\")\n",
    "print(h)\n",
    "print(marks)"
   ]
  },
  {
   "cell_type": "code",
   "execution_count": 51,
   "id": "c2586be7",
   "metadata": {
    "scrolled": true
   },
   "outputs": [
    {
     "name": "stdout",
     "output_type": "stream",
     "text": [
      "dict_keys(['science', 'maths', 'hindi', 'history'])\n",
      "<class 'dict_keys'>\n",
      "science maths hindi history science 34\n",
      "maths 45\n",
      "hindi 55\n",
      "history 43\n",
      "34\n",
      "45\n",
      "55\n",
      "43\n",
      "<class 'dict_values'>\n",
      "<built-in method items of dict object at 0x11180b280>\n",
      "science 34\n",
      "maths 45\n",
      "hindi 55\n",
      "history 43\n",
      "<class 'dict_items'>\n",
      "<class 'list'>\n",
      "['science', 'maths', 'hindi', 'history']\n"
     ]
    }
   ],
   "source": [
    "#traversing\n",
    "\n",
    "marks={\"science\":34,\"maths\":45,\"hindi\":55,\"history\":43}\n",
    "\n",
    "#keys nikalna  \n",
    "#marks.keys\n",
    "a=marks.keys()\n",
    "print(marks.keys()) #iterable\n",
    "print(type(marks.keys()))\n",
    "\n",
    "for i in marks:\n",
    "    print(i,end=' ')\n",
    "for key in a:\n",
    "    print(key,marks[key])\n",
    "\n",
    "\n",
    "#marks.values\n",
    "for v in marks.values():\n",
    "    print(v)\n",
    "print(type(marks.values()))\n",
    "\n",
    "    \n",
    "#marks.items both togheter\n",
    "print(marks.items)\n",
    "for k,v in marks.items():\n",
    "    print(k,v)\n",
    "\n",
    "print(type(marks.items()))\n",
    "\n",
    "#now converted to list\n",
    "c=list(marks.keys())\n",
    "print(type(c))\n",
    "print(c)\n"
   ]
  },
  {
   "cell_type": "code",
   "execution_count": 56,
   "id": "e1680a63",
   "metadata": {},
   "outputs": [
    {
     "name": "stdout",
     "output_type": "stream",
     "text": [
      "4587512384\n",
      "4587512384\n",
      "{'science': 34, 'maths': 45, 'hindi': 55, 'history': 43}\n",
      "{'science': 34, 'maths': 45, 'hindi': 100, 'history': 43}\n",
      "4587511680\n"
     ]
    }
   ],
   "source": [
    "#copying_dict_list\n",
    "my_dict={\"science\":34,\"maths\":45,\"hindi\":55,\"history\":43}\n",
    "print(id(my_dict))\n",
    "xyz=my_dict\n",
    "print(id(xyz))\n",
    "print(my_dict)\n",
    "#refering to same onli\n",
    "\n",
    "#if change in one then in all\n",
    "xyz[\"hindi\"]=100\n",
    "print(my_dict) \n",
    "\n",
    "#why same refering-> to save memory\n",
    "\n",
    "a=my_dict.copy()\n",
    "print(id(a))\n",
    "#to create different copy"
   ]
  },
  {
   "cell_type": "code",
   "execution_count": 75,
   "id": "6a5a5050",
   "metadata": {},
   "outputs": [
    {
     "name": "stdout",
     "output_type": "stream",
     "text": [
      "{'science': 34, 'maths': 45, 'hindi': 55, 'Gender': ['male', 'female']}\n",
      "{'science': 34, 'maths': 45, 'hindi': 55, 'Gender': ['male', 'female']}\n",
      "{'science': 34, 'maths': 45, 'hindi': 55, 'Gender': ['trans', 'female']}\n",
      "{'science': 34, 'maths': 45, 'hindi': 55, 'Gender': ['trans', 'female']}\n",
      "\n",
      "Shallow copy\n",
      "\n",
      "{'science': 34, 'maths': 45, 'hindi': 55, 'Gender': ['male', 'female']}\n",
      "{'science': 34, 'maths': 45, 'hindi': 55, 'Gender': ['male', 'female']}\n",
      "4587231232\n",
      "4586933824\n",
      "{'science': 34, 'maths': 45, 'hindi': 55, 'Gender': ['trans', 'female']}\n",
      "{'science': 34, 'maths': 45, 'hindi': 55, 'Gender': ['trans', 'female']}\n",
      "4587020416\n",
      "4587020416\n"
     ]
    }
   ],
   "source": [
    "#shallow and deep copy\n",
    "\n",
    "#as expected changes\n",
    "my_dict={\"science\":34,\"maths\":45,\"hindi\":55,\"Gender\":[\"male\",\"female\"]}\n",
    "print(my_dict)\n",
    "xyz=my_dict\n",
    "print(xyz)\n",
    "xyz[\"Gender\"][0]=\"trans\"\n",
    "print(xyz)\n",
    "print(my_dict)\n",
    "\n",
    "print()\n",
    "print(\"Shallow copy\")\n",
    "print()\n",
    "\n",
    "#Shallow copy\n",
    "\n",
    "my_dict={\"science\":34,\"maths\":45,\"hindi\":55,\"Gender\":[\"male\",\"female\"]}\n",
    "print(my_dict)\n",
    "xyz=my_dict.copy()\n",
    "print(xyz)\n",
    "print(id(xyz))\n",
    "print(id(my_dict))\n",
    "\n",
    "xyz[\"Gender\"][0]=\"trans\"\n",
    "print(xyz)\n",
    "print(my_dict)\n",
    "print(id(my_dict[\"Gender\"]))\n",
    "print(id(xyz[\"Gender\"]))\n",
    "#still change the list refering to same id\n"
   ]
  },
  {
   "cell_type": "code",
   "execution_count": 76,
   "id": "62d2da26",
   "metadata": {},
   "outputs": [
    {
     "name": "stdout",
     "output_type": "stream",
     "text": [
      "4587025728\n",
      "4574007808\n"
     ]
    }
   ],
   "source": [
    "#deep copy \n",
    "import copy #module import\n",
    "\n",
    "my_dict={\"science\":34,\"maths\":45,\"hindi\":55,\"Gender\":[\"male\",\"female\"]}\n",
    "# xyz=copy.copy(my_dict)# same shallow copy\n",
    "xyz=copy.deepcopy(my_dict)\n",
    "print(id(my_dict[\"Gender\"])) #different\n",
    "print(id(xyz[\"Gender\"]))\n",
    "\n",
    "#list mein same method .copy()\n",
    "#works similarly ; import copy module\n",
    "\n"
   ]
  },
  {
   "cell_type": "code",
   "execution_count": 81,
   "id": "24f58d76",
   "metadata": {},
   "outputs": [
    {
     "name": "stdout",
     "output_type": "stream",
     "text": [
      "enter a no.3\n",
      "enter a no.1\n",
      "enter a no.4\n",
      "start list [3, 1, 4]\n",
      "second list [4]\n"
     ]
    }
   ],
   "source": [
    "#w4 a1 q10 q11 #11 very easy\n",
    "'''\n",
    "Q10. Ask 10 numbers from the user and put them into the list. \n",
    "Now remove all the even numbers ffrom that list.\n",
    "\n",
    "\n",
    "\n",
    "'''\n",
    "i=0\n",
    "lst=[]\n",
    "while i<10:\n",
    "    a=int(input(\"enter a no.\"))\n",
    "    lst.append(a)\n",
    "    i+=1\n",
    "    \n",
    "print(\"start list\",lst)\n",
    "\n",
    "newlst=[]\n",
    "for i in lst:\n",
    "    if i%2==0:\n",
    "        newlst.append(i)\n",
    "print(\"second list\",newlst)\n",
    "        "
   ]
  },
  {
   "cell_type": "code",
   "execution_count": 82,
   "id": "9c0a522e",
   "metadata": {},
   "outputs": [
    {
     "data": {
      "text/plain": [
       "'\\nQ11. Write a python program which prints all the values whose count is greater than 3. \\n(Make sure to make a list with at least 15 numbers)\\n#use count key word\\nlst.count()\\nthen append in result in not there\\n'"
      ]
     },
     "execution_count": 82,
     "metadata": {},
     "output_type": "execute_result"
    }
   ],
   "source": [
    "'''\n",
    "Q11. Write a python program which prints all the values whose count is greater than 3. \n",
    "(Make sure to make a list with at least 15 numbers)\n",
    "#use count key word\n",
    "lst.count()\n",
    "then append in result in not there\n",
    "'''\n"
   ]
  },
  {
   "cell_type": "markdown",
   "id": "300dd356",
   "metadata": {},
   "source": [
    "## Day 2"
   ]
  },
  {
   "cell_type": "code",
   "execution_count": 85,
   "id": "a4589ad5",
   "metadata": {},
   "outputs": [
    {
     "name": "stdout",
     "output_type": "stream",
     "text": [
      "{5: 1, 4: 3, 3: 2, 2: 2, 1: 2}\n"
     ]
    }
   ],
   "source": [
    "# lst=[5,4,3,2,4,2,1,3,4,1]\n",
    "# count the number of each digit and save it in a dictionary\n",
    "\n",
    "arr=[5,4,3,2,4,2,1,3,4,1]\n",
    "#my_dict={}\n",
    "my_dict=dict() #better way\n",
    "n=len(arr)\n",
    "for i in range(n):\n",
    "    if arr[i] in my_dict:\n",
    "        my_dict[arr[i]]+=1 #in this case exists just increasing the frequency as marks[science]=types\n",
    "    else:\n",
    "        my_dict[arr[i]]=1#kuch exist nahi toh apne aap creates and assigns one\n",
    "print(my_dict)\n",
    "\n",
    "'''\n",
    "above is frequency map onli\n",
    "key value basically -> map\n",
    "'''\n",
    "\n"
   ]
  },
  {
   "cell_type": "code",
   "execution_count": 86,
   "id": "e0b716e4",
   "metadata": {},
   "outputs": [
    {
     "name": "stdout",
     "output_type": "stream",
     "text": [
      "{5: 1, 4: 3, 3: 2, 2: 2, 1: 2}\n"
     ]
    }
   ],
   "source": [
    "'''\n",
    "above is frequency map onli\n",
    "key value basically -> map\n",
    "better variable naming =>freq_map\n",
    "'''\n",
    "arr=[5,4,3,2,4,2,1,3,4,1]\n",
    "#my_dict={}\n",
    "freq_map=dict() #better way\n",
    "n=len(arr)\n",
    "for i in range(n):\n",
    "    if arr[i] in freq_map:\n",
    "        freq_map[arr[i]]+=1\n",
    "    else:\n",
    "        freq_map[arr[i]]=1\n",
    "print(freq_map)"
   ]
  },
  {
   "cell_type": "code",
   "execution_count": 97,
   "id": "02f4f8df",
   "metadata": {},
   "outputs": [
    {
     "name": "stdout",
     "output_type": "stream",
     "text": [
      "{5: 1, 4: 3, 3: 2, 2: 2, 1: 2}\n"
     ]
    }
   ],
   "source": [
    "#better way\n",
    "\n",
    "#count why not use baar baar searches all the array n^2\n",
    "arr=[5,4,3,2,4,2,1,3,4,1]\n",
    "freq_map=dict()\n",
    "for i in range(n):\n",
    "    freq_map[arr[i]]=freq_map.get(arr[i],0)+1 #if exists increases by one else returns 0 and increments 1\n",
    "    #None+1 error\n",
    "print(freq_map)\n",
    "\n",
    "#dictonary comprension also a way ;gets messy at times\n"
   ]
  },
  {
   "cell_type": "code",
   "execution_count": 96,
   "id": "b9f8299f",
   "metadata": {},
   "outputs": [
    {
     "name": "stdout",
     "output_type": "stream",
     "text": [
      "{'i': 2, ' ': 3, 'a': 5, 'm': 2, 'h': 3, 'r': 1, 's': 1, 'u': 1, 't': 2, 'c': 1, 'n': 2, 'd': 1}\n"
     ]
    }
   ],
   "source": [
    "#char count\n",
    "#frequency map for characters\n",
    "strs=\"i am harsh uttamchandani\"\n",
    "freq_map=dict()\n",
    "for i in range(len(strs)):\n",
    "    freq_map[strs[i]]=freq_map.get(strs[i],0)+1\n",
    "print(freq_map)\n",
    "\n"
   ]
  },
  {
   "cell_type": "code",
   "execution_count": 102,
   "id": "0f66c58e",
   "metadata": {},
   "outputs": [
    {
     "name": "stdout",
     "output_type": "stream",
     "text": [
      "{'i': 2, ' ': 3, 'a': 5, 'm': 2, 'h': 3, 'r': 1, 's': 1, 'u': 1, 't': 2, 'c': 1, 'n': 2, 'd': 1}\n"
     ]
    }
   ],
   "source": [
    "#with func\n",
    "from typing import Dict #annotations ke liye will be seen in leetcode\n",
    "\n",
    "def countchars(string:str)->Dict[str,int]:\n",
    "        freq_map=dict()\n",
    "        for i in range(len(strs)):\n",
    "            freq_map[strs[i]]=freq_map.get(strs[i],0)+1\n",
    "        return(freq_map)\n",
    "    \n",
    "strs=\"i am harsh uttamchandani\"\n",
    "print(countchars(strs))"
   ]
  },
  {
   "cell_type": "code",
   "execution_count": 120,
   "id": "833b6804",
   "metadata": {
    "scrolled": true
   },
   "outputs": [
    {
     "name": "stdout",
     "output_type": "stream",
     "text": [
      "[198, 252, 215, 236]\n",
      "student anirudh has scored 198 marks\n",
      "student sanjay has scored 252 marks\n",
      "student vandana has scored 215 marks\n",
      "student vivek has scored 236 marks\n"
     ]
    }
   ],
   "source": [
    "#student\n",
    "#my way very not good\n",
    "\n",
    "details ={\n",
    "          \"anirudh\": [45, 44, 33, 12, 5, 6, 45, 6, 2],\n",
    "          \"sanjay\": [67, 89, 96],\n",
    "          \"vandana\": [76, 43, 53, 21, 22],\n",
    "          \"vivek\": [11, 22, 31, 78, 94]\n",
    "         }\n",
    "\n",
    "xyz=[]\n",
    "for l in details.values():\n",
    "    x=0\n",
    "    for j in l:\n",
    "        x+=j\n",
    "    xyz.append(x)\n",
    "    \n",
    "print(xyz)\n",
    "l=0\n",
    "for i in details.keys():\n",
    "    print(\"student\",i,\"has scored\",xyz[l],\"marks\")\n",
    "    l+=1\n"
   ]
  },
  {
   "cell_type": "code",
   "execution_count": 130,
   "id": "609829d0",
   "metadata": {},
   "outputs": [
    {
     "name": "stdout",
     "output_type": "stream",
     "text": [
      "anirudh has scored 198 marks\n",
      "sanjay has scored 252 marks\n",
      "vandana has scored 215 marks\n",
      "vivek has scored 236 marks\n"
     ]
    }
   ],
   "source": [
    "#using in built function\n",
    "details ={\n",
    "          \"anirudh\": [45, 44, 33, 12, 5, 6, 45, 6, 2],\n",
    "          \"sanjay\": [67, 89, 96],\n",
    "          \"vandana\": [76, 43, 53, 21, 22],\n",
    "          \"vivek\": [11, 22, 31, 78, 94]\n",
    "         }\n",
    "#len\n",
    "#max max nikal dega\n",
    "#min min nikaldega\n",
    "#sum\n",
    "for name, marks in details.items():\n",
    "    x=0\n",
    "    for i in marks:\n",
    "        x+=i\n",
    "    print(name,\"has scored\",x,\"marks\") #sum(marks)\n",
    "    l+=1\n",
    "    \n",
    "\n",
    "#doubt discussion\n",
    "#iska end mein discussion of projects and roadmap"
   ]
  },
  {
   "cell_type": "markdown",
   "id": "b7f3c9ad",
   "metadata": {},
   "source": [
    "## Day 3"
   ]
  },
  {
   "cell_type": "code",
   "execution_count": 131,
   "id": "7b1af204",
   "metadata": {},
   "outputs": [
    {
     "data": {
      "text/plain": [
       "15"
      ]
     },
     "execution_count": 131,
     "metadata": {},
     "output_type": "execute_result"
    }
   ],
   "source": [
    "def add(num1,num2):\n",
    "    return num1+num2\n",
    "add(5,10)"
   ]
  },
  {
   "cell_type": "code",
   "execution_count": 132,
   "id": "1ba8cc0b",
   "metadata": {},
   "outputs": [
    {
     "name": "stdout",
     "output_type": "stream",
     "text": [
      "64\n"
     ]
    }
   ],
   "source": [
    "#Lambda\n",
    "#anonymous function so call kaise karenge\n",
    "lambda num1,num2 : num1+num2\n",
    "#so we store in a variable\n",
    "x=lambda num1,num2 : num1+num2\n",
    "\n",
    "print(x(10,54))"
   ]
  },
  {
   "cell_type": "code",
   "execution_count": 133,
   "id": "be1c1ef6",
   "metadata": {},
   "outputs": [],
   "source": [
    "# when onli one line that is returned \n",
    "#ex\n",
    "\n",
    "def create_list(x):\n",
    "    result=[]\n",
    "    for i in range(1,x+1):\n",
    "        result.append(i)\n",
    "    return result\n",
    "\n",
    "#multiple lines not possible"
   ]
  },
  {
   "cell_type": "code",
   "execution_count": 135,
   "id": "a66b3af7",
   "metadata": {},
   "outputs": [
    {
     "data": {
      "text/plain": [
       "[1, 2, 3, 4]"
      ]
     },
     "execution_count": 135,
     "metadata": {},
     "output_type": "execute_result"
    }
   ],
   "source": [
    "def create_list(x):\n",
    "    return [i for i in range(1,x+1)]\n",
    "create_list(4)\n",
    "#lambda can be used"
   ]
  },
  {
   "cell_type": "code",
   "execution_count": 137,
   "id": "535502c4",
   "metadata": {},
   "outputs": [
    {
     "data": {
      "text/plain": [
       "[1, 2, 3, 4, 5]"
      ]
     },
     "execution_count": 137,
     "metadata": {},
     "output_type": "execute_result"
    }
   ],
   "source": [
    "alst=lambda x: [i for i in range(1,x+1)] \n",
    "alst(5)"
   ]
  },
  {
   "cell_type": "code",
   "execution_count": 146,
   "id": "7619e1af",
   "metadata": {},
   "outputs": [
    {
     "data": {
      "text/plain": [
       "False"
      ]
     },
     "execution_count": 146,
     "metadata": {},
     "output_type": "execute_result"
    }
   ],
   "source": [
    "#iseven\n",
    "\n",
    "iseven= lambda a : [True if a%2==0 else False  ]\n",
    "iseven(90)\n",
    "\n",
    "iseven= lambda a :a%2==0 \n",
    "iseven(33)\n"
   ]
  },
  {
   "cell_type": "code",
   "execution_count": 153,
   "id": "7894ec8c",
   "metadata": {},
   "outputs": [
    {
     "name": "stdout",
     "output_type": "stream",
     "text": [
      "[['Akul', 99], ['Anirudh', 45], ['Karan', 54], ['Prateek', 21]]\n"
     ]
    }
   ],
   "source": [
    "#sorting\n",
    "\n",
    "my_list = [[\"Akul\", 99], [\"Karan\", 54], [\"Prateek\", 21], [\"Anirudh\", 45],]\n",
    "\n",
    "my_list[1][0]\n",
    "my_list[0][-1]\n",
    "\n",
    "my_list.sort()\n",
    "print(my_list)"
   ]
  },
  {
   "cell_type": "code",
   "execution_count": 167,
   "id": "16f707f5",
   "metadata": {},
   "outputs": [
    {
     "name": "stdout",
     "output_type": "stream",
     "text": [
      "[['Akul', 99], ['Anirudh', 45], ['Karan', 54], ['Prateek', 21]]\n",
      "[['Akul', 99], ['Anirudh', 45], ['Karan', 54], ['Prateek', 21]]\n",
      "[['Prateek', 21], ['Anirudh', 45], ['Karan', 54], ['Akul', 99]]\n",
      "[['Akul', 99], ['Karan', 54], ['Anirudh', 45], ['Prateek', 21]]\n",
      "[['Prateek', 21], ['Anirudh', 45], ['Karan', 54], ['Akul', 99]]\n",
      "[['Anirudh', 45], ['Prateek', 21], ['Akul', 99], ['Karan', 54]]\n"
     ]
    }
   ],
   "source": [
    "#sorted bcz; sort doesnt work on dictionary\n",
    "my_list = [[\"Akul\", 99], [\"Karan\", 54], [\"Prateek\", 21], [\"Anirudh\", 45],] #<--- x x[0]akul x[1] 99\n",
    "#works on iterables\n",
    "new_list=sorted(my_list) #return somethingg\n",
    "print(new_list)\n",
    "\n",
    "#if want to sort by age\n",
    "new_list=sorted(my_list,key=None)  #None by default #key mein can add a function so we add lambda\n",
    "print(new_list)\n",
    "\n",
    "new_list=sorted(my_list,key= lambda x: x[1] ) \n",
    "print(new_list)\n",
    "\n",
    "new_list=sorted(my_list,key= lambda x: x[1] ,reverse=True) #reverse by default=false\n",
    "print(new_list)\n",
    "\n",
    "\n",
    "def myfunc(x):\n",
    "    return x[1]\n",
    " \n",
    "new_list=sorted(my_list,key=myfunc) #key is a parameter function ko call without () bas as a reference batao\n",
    "print(new_list)\n",
    "\n",
    "new_list=sorted(my_list,key= lambda x: x[0][-1]) #last letter se sort\n",
    "print(new_list)\n",
    " \n",
    "#  .sort internally karta hai same ko\n",
    "# sorted returns not original mein change\n"
   ]
  },
  {
   "cell_type": "code",
   "execution_count": 1,
   "id": "c6f9f5f8",
   "metadata": {},
   "outputs": [
    {
     "name": "stdout",
     "output_type": "stream",
     "text": [
      "{'science': 34, 'maths': 45, 'hindi': 55}\n",
      "dict_items([('science', 34), ('maths', 45), ('hindi', 55)])\n",
      "[('science', 34), ('maths', 45), ('hindi', 55)]\n"
     ]
    }
   ],
   "source": [
    "#sort dictionary\n",
    "my_dict={\"science\":34,\"maths\":45,\"hindi\":55}\n",
    "print(my_dict)# internally hashing so maybe not same order but baad mein add toh same in python 3.5 now ignore \n",
    "print(my_dict.items())# gives a list\n",
    "# dict_items([('science', 34), ('maths', 45), ('hindi', 55)])\n",
    "# [('science', 34), ('maths', 45), ('hindi', 55)]\n",
    "# here list mein tuples so easy ; but list dega\n",
    "new_details=sorted(my_dict.items(),key=lambda x:x[1])\n",
    "print(new_details) #list dega"
   ]
  },
  {
   "cell_type": "code",
   "execution_count": 4,
   "id": "85d6c972",
   "metadata": {},
   "outputs": [
    {
     "name": "stdout",
     "output_type": "stream",
     "text": [
      "{'science': 34, 'maths': 45, 'hindi': 55}\n"
     ]
    }
   ],
   "source": [
    "#type conversion\n",
    "#if list mein tuple tuple ho jaata hai conversions\n",
    "x=[('science', 34), ('maths', 45), ('hindi', 55)]\n",
    "print(dict(x))\n",
    "#list mein tuple tuple do and then will be converted only tab hi"
   ]
  },
  {
   "cell_type": "code",
   "execution_count": 2,
   "id": "577d7c8c",
   "metadata": {},
   "outputs": [
    {
     "name": "stdout",
     "output_type": "stream",
     "text": [
      "{'science': 34, 'maths': 45, 'hindi': 55}\n"
     ]
    }
   ],
   "source": [
    "#convert into dict\n",
    "my_dict={\"science\":34,\"maths\":45,\"hindi\":55}\n",
    "new_details=dict(sorted(my_dict.items(),key=lambda x:x[1]))\n",
    "print(new_details) #list dega"
   ]
  },
  {
   "cell_type": "code",
   "execution_count": 12,
   "id": "1c481166",
   "metadata": {},
   "outputs": [
    {
     "name": "stdout",
     "output_type": "stream",
     "text": [
      "[{'name': 'Anirudh', 'age': 23, 'gender': 'male'}, {'name': 'muskan', 'age': 98, 'gender': 'female'}, {'name': 'nihar', 'age': 34, 'gender': 'male'}, {'name': 'pratik', 'age': 12, 'gender': 'male'}]\n",
      "{'name': 'nihar', 'age': 34, 'gender': 'male'}\n",
      "male\n",
      "nihar\n",
      "muskan\n",
      "dict_keys(['name', 'age', 'gender'])\n",
      "[{'name': 'pratik', 'age': 12, 'gender': 'male'}, {'name': 'Anirudh', 'age': 23, 'gender': 'male'}, {'name': 'nihar', 'age': 34, 'gender': 'male'}, {'name': 'muskan', 'age': 98, 'gender': 'female'}]\n"
     ]
    }
   ],
   "source": [
    "#list of dictionaries\n",
    "details=[\n",
    "    {\"name\":\"Anirudh\",\"age\":23,\"gender\":\"male\"},#dict 1\n",
    "    {\"name\":\"muskan\",\"age\":98,\"gender\":\"female\"},#dict 2\n",
    "    {\"name\":\"nihar\",\"age\":34,\"gender\":\"male\"},#dict 3\n",
    "    {\"name\":\"pratik\",\"age\":12,\"gender\":\"male\"}#dict 4\n",
    "\n",
    "]\n",
    "\n",
    "print(details)\n",
    "print(details[2])\n",
    "print(details[2][\"gender\"])\n",
    "print(details[2].get(\"name\"))\n",
    "print(details[1][\"name\"]) \n",
    "print(details[1].keys()) \n",
    "\n",
    "\n",
    "#age wise sort\n",
    "new_details=sorted(details,key= lambda x: x[\"age\"])\n",
    "print(new_details)"
   ]
  },
  {
   "cell_type": "code",
   "execution_count": 16,
   "id": "c291476f",
   "metadata": {},
   "outputs": [
    {
     "name": "stdout",
     "output_type": "stream",
     "text": [
      "Anirudh 23 male\n",
      "muskan 98 female\n",
      "nihar 34 male\n",
      "pratik 12 male\n"
     ]
    }
   ],
   "source": [
    "#print in a format manner\n",
    "\n",
    "details=[\n",
    "    {\"name\":\"Anirudh\",\"age\":23,\"gender\":\"male\"},#dict 1\n",
    "    {\"name\":\"muskan\",\"age\":98,\"gender\":\"female\"},#dict 2\n",
    "    {\"name\":\"nihar\",\"age\":34,\"gender\":\"male\"},#dict 3\n",
    "    {\"name\":\"pratik\",\"age\":12,\"gender\":\"male\"}#dict 4\n",
    "\n",
    "]\n",
    "\n",
    "for index in range(0,len(details)):\n",
    "    d=details[index]\n",
    "    print(d[\"name\"],d[\"age\"],d[\"gender\"])"
   ]
  },
  {
   "cell_type": "code",
   "execution_count": 21,
   "id": "b8a6c866",
   "metadata": {},
   "outputs": [
    {
     "name": "stdout",
     "output_type": "stream",
     "text": [
      "{64, 2, 3, 5, 54, 23, 'harsh'}\n",
      "<class 'set'>\n",
      "{64, 2, 3, 100, 5, 54, 23, 'harsh'}\n",
      "{64, 2, 3, 100, 5, 54, 23, 'harsh'}\n",
      "{64, 2, 3, 5, 54, 23, 'harsh'}\n"
     ]
    }
   ],
   "source": [
    "#set -: data type -: to store unique values\n",
    "\n",
    "my_set={54,64,3,2,5,23,3,2,\"harsh\"} \n",
    "print(my_set)#only unique aayega\n",
    "#unordered aayega\n",
    "print(type(my_set))\n",
    "#unordered so no indexing\n",
    "#mutable\n",
    "my_set.add(100)\n",
    "print(my_set)#randomly kahi bhi add\n",
    "\n",
    "my_set.add(3)#koi farak nahi padega\n",
    "print(my_set)\n",
    "#remove by value\n",
    "\n",
    "my_set.remove(100)\n",
    "print(my_set)"
   ]
  },
  {
   "cell_type": "code",
   "execution_count": 22,
   "id": "91acc50b",
   "metadata": {},
   "outputs": [
    {
     "name": "stdout",
     "output_type": "stream",
     "text": [
      "<class 'dict'>\n",
      "<class 'set'>\n"
     ]
    }
   ],
   "source": [
    "#empty set\n",
    "\n",
    "my_set={}\n",
    "print(type(my_set))\n",
    "\n",
    "my_set=set()\n",
    "print(type(my_set))\n"
   ]
  },
  {
   "cell_type": "code",
   "execution_count": 24,
   "id": "8537a7c6",
   "metadata": {},
   "outputs": [
    {
     "name": "stdout",
     "output_type": "stream",
     "text": [
      "{1, 2, 3, 99.9, 4, 'harsh', -100}\n",
      "1\n",
      "2\n",
      "3\n",
      "99.9\n",
      "4\n",
      "harsh\n",
      "-100\n"
     ]
    }
   ],
   "source": [
    "my_set={1,2,3,4,\"harsh\",99.9,-100}\n",
    "print(my_set)\n",
    "\n",
    "for num in my_set:\n",
    "    print(num)\n",
    "    \n",
    "# in|not in"
   ]
  },
  {
   "cell_type": "code",
   "execution_count": 25,
   "id": "a1d96f57",
   "metadata": {},
   "outputs": [
    {
     "name": "stdout",
     "output_type": "stream",
     "text": [
      "[1, 2, 3, 4, 5, 6]\n"
     ]
    }
   ],
   "source": [
    "#conversions\n",
    "my_list=[5,6,5,5,5,5,4,3,2,2,3,1]\n",
    "my_set=set(my_list)\n",
    "print(list(my_set)) #not in the order\n",
    "\n"
   ]
  },
  {
   "cell_type": "code",
   "execution_count": 28,
   "id": "1b5883b2",
   "metadata": {},
   "outputs": [
    {
     "name": "stdout",
     "output_type": "stream",
     "text": [
      "{1, 2, 3, 4, 5, 6}\n"
     ]
    }
   ],
   "source": [
    "#duplicates\n",
    "\n",
    "my_list=[5,6,5,5,5,5,4,3,2,2,3,1]\n",
    "my_set=set()\n",
    "for index in range(0,len(my_list)):\n",
    "    my_set.add(my_list[index])\n",
    "    \n",
    "print(my_set)"
   ]
  },
  {
   "cell_type": "code",
   "execution_count": 15,
   "id": "abfe9172",
   "metadata": {},
   "outputs": [
    {
     "name": "stdout",
     "output_type": "stream",
     "text": [
      "{4}\n",
      "{2, 3, 4, 5, 6, 8, 9}\n",
      "{2, 3, 5}\n",
      "{2, 3, 4, 5, 6, 8, 9}\n"
     ]
    }
   ],
   "source": [
    "#list extend -:padh lena imp-: last mein extend\n",
    "#set update;add\n",
    "\n",
    "# union -: both\n",
    "# intersection -: common in both\n",
    "# +,- ,|(bitwise or)\n",
    "\n",
    "a={2,3,4,5}\n",
    "b={4,6,8,9}\n",
    "print(a.intersection(b))\n",
    "print(a.union(b))\n",
    "print(a - b)\n",
    "print(a | b)"
   ]
  },
  {
   "cell_type": "code",
   "execution_count": 52,
   "id": "fac27ebc",
   "metadata": {},
   "outputs": [
    {
     "data": {
      "text/plain": [
       "\"\\n[('a', 100), ('b', 200), ('c', 300)]\\n[('a', 300), ('b', 200), ('d', 400)]\\n\""
      ]
     },
     "execution_count": 52,
     "metadata": {},
     "output_type": "execute_result"
    }
   ],
   "source": [
    "#Q8 \n",
    "'''\n",
    "Write a Python program to combine two dictionary by adding values for common keys.\n",
    "d1 = fa': 1100, 1b::200, 'c':300)\n",
    "d2 = (al: 300, 'b': 200, d':400)\n",
    "Sample output: fa': 400, 'b': 400, 'd': 400, 'c': 300)\n",
    "'''\n",
    "d1 = {'a': 100, 'b':200, 'c':300}\n",
    "d2 = {'a': 300, 'b': 200, 'd':400}\n",
    "d3={}\n",
    "\n",
    "\n",
    "\n",
    "dl1 = sorted(d1.items())\n",
    "dl2 = sorted(d2.items())\n",
    "\n",
    "'''\n",
    "[('a', 100), ('b', 200), ('c', 300)]\n",
    "[('a', 300), ('b', 200), ('d', 400)]\n",
    "'''\n",
    "\n"
   ]
  },
  {
   "cell_type": "code",
   "execution_count": 46,
   "id": "278084f7",
   "metadata": {},
   "outputs": [
    {
     "name": "stdout",
     "output_type": "stream",
     "text": [
      "enterhello world\n",
      "{'h': 1, 'e': 1, 'l': 3, 'o': 2, ' ': 1, 'w': 1, 'r': 1, 'd': 1}\n",
      "('l', 3)\n"
     ]
    }
   ],
   "source": [
    "'''\n",
    "Q6. Ask a string from user. Store the frequency of each character in the dictionary. Then print the character with the maximum frequency.\n",
    "Input:\n",
    "Please enter a string: hello world\n",
    "Output:\n",
    "The character with the maximum frequency is 't\n",
    "'''\n",
    "\n",
    "abc=input(\"enter\")\n",
    "freq_map=dict()\n",
    "for i in range(len(abc)):\n",
    "    freq_map[abc[i]]=freq_map.get(abc[i],0)+1\n",
    "print(freq_map)\n",
    "\n",
    "#freq_map.items mein iterate karke also one can do max= none types karke\n",
    "\n",
    "newdict=sorted(freq_map.items(), key= lambda x : x[1])\n",
    "print(newdict[-1])\n"
   ]
  },
  {
   "cell_type": "markdown",
   "id": "bb70539a",
   "metadata": {},
   "source": [
    "## DAY 4"
   ]
  },
  {
   "cell_type": "code",
   "execution_count": 16,
   "id": "2534d284",
   "metadata": {},
   "outputs": [
    {
     "name": "stdout",
     "output_type": "stream",
     "text": [
      "<class '__main__.student'>\n",
      "<class 'list'>\n",
      "harsh\n",
      "<__main__.student object at 0x104b8ddd0>\n",
      "0\n",
      "default\n",
      "<__main__.student object at 0x104b8ddd0>\n",
      "name=harsh\n",
      "id=0\n",
      "gender=0\n",
      "age=0\n",
      "<__main__.student object at 0x104b94490>\n",
      "name=default\n",
      "id=0\n",
      "gender=0\n",
      "age=0\n"
     ]
    }
   ],
   "source": [
    "#OOPS concept\n",
    "\n",
    "class student:\n",
    "    #attributes\n",
    "    id=0\n",
    "    name=\"default\"\n",
    "    gender=\"\"\n",
    "    age=\"\"\n",
    "    \n",
    "    #methods ; class ke andar ke functions ko called functions\n",
    "    def display(self): # self -: ek class ke andar method self compulsory\n",
    "        print(self)# joh aayega uska address print\n",
    "        print(f\"name={self.name}\") #whoever is calling method woh self mein aa jaayega\n",
    "        print(f\"id={self.id}\")\n",
    "        print(f\"gender={self.id}\")\n",
    "        print(f\"age={self.id}\")\n",
    "    \n",
    "s1=student()\n",
    "print(type(s1)) #<class '__main__.student'>\n",
    "\n",
    "a=[2,3,4]\n",
    "print(type(a)) #<class 'list'>\n",
    "\n",
    "# in python actually everything is an object\n",
    "s2=student()\n",
    "s1.name=\"harsh\"\n",
    "\n",
    "print(s1.name)\n",
    "print(s1)# address print\n",
    "print(s1.id)\n",
    "print(s2.name)\n",
    "s1.display()\n",
    "s2.display()\n"
   ]
  },
  {
   "cell_type": "code",
   "execution_count": 17,
   "id": "d8ae4c88",
   "metadata": {},
   "outputs": [
    {
     "name": "stdout",
     "output_type": "stream",
     "text": [
      "<class '__main__.student'>\n",
      "<class 'list'>\n",
      "id 1\n",
      "namejak\n",
      "gender m\n",
      "age 8\n",
      "<__main__.student object at 0x104b94490>\n",
      "name=jak\n",
      "id=1\n",
      "gender=1\n",
      "age=1\n",
      "harsh\n",
      "<__main__.student object at 0x104b70bd0>\n",
      "0\n",
      "default\n",
      "<__main__.student object at 0x104b70bd0>\n",
      "name=harsh\n",
      "id=0\n",
      "gender=0\n",
      "age=0\n",
      "<__main__.student object at 0x104b8ddd0>\n",
      "name=default\n",
      "id=0\n",
      "gender=0\n",
      "age=0\n"
     ]
    }
   ],
   "source": [
    "class student:\n",
    "    #attributes\n",
    "    \n",
    "    id=0\n",
    "    name=\"default\"\n",
    "    gender=\"\"\n",
    "    age=\"\"\n",
    "    \n",
    "    def getDetails(self):\n",
    "        self.id=int(input(\"id \"))\n",
    "        self.name=input(\"name\")\n",
    "        self.gender=input(\"gender \")\n",
    "        self.age=int(input(\"age \"))\n",
    "    \n",
    "    #methods ; class ke andar ke functions ko called functions\n",
    "    def display(self): # self -: ek class ke andar method self compulsory\n",
    "        print(self)# joh aayega uska address print\n",
    "        print(f\"name={self.name}\") #whoever is calling method woh self mein aa jaayega\n",
    "        print(f\"id={self.id}\")\n",
    "        print(f\"gender={self.id}\")\n",
    "        print(f\"age={self.id}\")\n",
    "    \n",
    "s1=student()\n",
    "print(type(s1)) #<class '__main__.student'>\n",
    "\n",
    "a=[2,3,4]\n",
    "print(type(a)) #<class 'list'>\n",
    "\n",
    "# in python actually everything is an object\n",
    "s2=student()\n",
    "s1.name=\"harsh\"\n",
    "\n",
    "s3=student()\n",
    "s3.getDetails()\n",
    "s3.display()  \n",
    "print(s1.name)\n",
    "print(s1)# address print\n",
    "print(s1.id)\n",
    "print(s2.name)\n",
    "s1.display()\n",
    "s2.display()"
   ]
  },
  {
   "cell_type": "code",
   "execution_count": 19,
   "id": "9039f12a",
   "metadata": {},
   "outputs": [
    {
     "name": "stdout",
     "output_type": "stream",
     "text": [
      "32\n"
     ]
    }
   ],
   "source": [
    "def process_values():\n",
    "    a = 0\n",
    "    b = 5\n",
    "    c = 12\n",
    "\n",
    "    # First if statement\n",
    "    if c > 3:\n",
    "        a = 10 & c  # Bitwise AND operation\n",
    "\n",
    "    # Second if statement\n",
    "    if (c - a + b) > (b - c):\n",
    "        a = (a + 6) + c\n",
    "        c = (a == a) & b  # Bitwise AND operation with boolean expression\n",
    "\n",
    "    return a + b + c\n",
    "\n",
    "# Call the function and print the result\n",
    "result = process_values()\n",
    "print(result)\n"
   ]
  },
  {
   "cell_type": "code",
   "execution_count": null,
   "id": "f0a6b358",
   "metadata": {},
   "outputs": [],
   "source": []
  }
 ],
 "metadata": {
  "kernelspec": {
   "display_name": "Python 3 (ipykernel)",
   "language": "python",
   "name": "python3"
  },
  "language_info": {
   "codemirror_mode": {
    "name": "ipython",
    "version": 3
   },
   "file_extension": ".py",
   "mimetype": "text/x-python",
   "name": "python",
   "nbconvert_exporter": "python",
   "pygments_lexer": "ipython3",
   "version": "3.11.5"
  }
 },
 "nbformat": 4,
 "nbformat_minor": 5
}
