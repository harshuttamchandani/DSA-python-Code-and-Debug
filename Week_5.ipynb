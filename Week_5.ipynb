{
 "cells": [
  {
   "cell_type": "markdown",
   "id": "1e7416ee",
   "metadata": {},
   "source": [
    "## DAY 5"
   ]
  },
  {
   "cell_type": "code",
   "execution_count": null,
   "id": "64806ff8",
   "metadata": {},
   "outputs": [],
   "source": [
    "#Dictionary\n",
    "#key-value pairs\n",
    "marks={\"science\":34,\"maths\":45,\"hindi\":55}\n",
    "print(marks)\n",
    "print(type(marks)) #<class 'dict'>\n",
    "student={\"name\":\"harsh\",\"regno\":\"21BCE10189\",\"Phone no\":\"9950228451\",\"cgpa\":8.68,\"Hostel\":True }\n",
    "print(student)\n",
    "\n",
    "\n",
    "#immutables\n",
    "# strings ,tuples\n",
    "abc={(45,23):\"harsh\"} \n",
    "# defa={[23,45]:\"fesh\"} #unhashable type: 'list'\n",
    "\n"
   ]
  }
 ],
 "metadata": {
  "kernelspec": {
   "display_name": "Python 3 (ipykernel)",
   "language": "python",
   "name": "python3"
  },
  "language_info": {
   "codemirror_mode": {
    "name": "ipython",
    "version": 3
   },
   "file_extension": ".py",
   "mimetype": "text/x-python",
   "name": "python",
   "nbconvert_exporter": "python",
   "pygments_lexer": "ipython3",
   "version": "3.11.5"
  }
 },
 "nbformat": 4,
 "nbformat_minor": 5
}
